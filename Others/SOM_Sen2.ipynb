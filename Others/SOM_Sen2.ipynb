{
 "cells": [
  {
   "cell_type": "code",
   "execution_count": 3,
   "metadata": {},
   "outputs": [
    {
     "ename": "AttributeError",
     "evalue": "Cannot find sample image: image.jpg",
     "output_type": "error",
     "traceback": [
      "\u001b[0;31m---------------------------------------------------------------------------\u001b[0m",
      "\u001b[0;31mAttributeError\u001b[0m                            Traceback (most recent call last)",
      "Cell \u001b[0;32mIn[3], line 8\u001b[0m\n\u001b[1;32m      5\u001b[0m \u001b[39mfrom\u001b[39;00m \u001b[39msomoclu\u001b[39;00m \u001b[39mimport\u001b[39;00m Somoclu\n\u001b[1;32m      7\u001b[0m \u001b[39m# Load a sample Sentinel-2 image with 10 bands\u001b[39;00m\n\u001b[0;32m----> 8\u001b[0m sentinel2 \u001b[39m=\u001b[39m load_sample_image(\u001b[39m\"\u001b[39;49m\u001b[39mimage.jpg\u001b[39;49m\u001b[39m\"\u001b[39;49m)\n\u001b[1;32m     10\u001b[0m \u001b[39m# Flatten the image into a 2D array of pixels\u001b[39;00m\n\u001b[1;32m     11\u001b[0m pixels \u001b[39m=\u001b[39m sentinel2\u001b[39m.\u001b[39mreshape(\u001b[39m-\u001b[39m\u001b[39m1\u001b[39m, \u001b[39m10\u001b[39m)\n",
      "File \u001b[0;32m~/miniconda3/lib/python3.10/site-packages/sklearn/datasets/_base.py:1266\u001b[0m, in \u001b[0;36mload_sample_image\u001b[0;34m(image_name)\u001b[0m\n\u001b[1;32m   1264\u001b[0m         \u001b[39mbreak\u001b[39;00m\n\u001b[1;32m   1265\u001b[0m \u001b[39mif\u001b[39;00m index \u001b[39mis\u001b[39;00m \u001b[39mNone\u001b[39;00m:\n\u001b[0;32m-> 1266\u001b[0m     \u001b[39mraise\u001b[39;00m \u001b[39mAttributeError\u001b[39;00m(\u001b[39m\"\u001b[39m\u001b[39mCannot find sample image: \u001b[39m\u001b[39m%s\u001b[39;00m\u001b[39m\"\u001b[39m \u001b[39m%\u001b[39m image_name)\n\u001b[1;32m   1267\u001b[0m \u001b[39mreturn\u001b[39;00m images\u001b[39m.\u001b[39mimages[index]\n",
      "\u001b[0;31mAttributeError\u001b[0m: Cannot find sample image: image.jpg"
     ]
    }
   ],
   "source": [
    "import numpy as np\n",
    "import matplotlib.pyplot as plt\n",
    "from sklearn.datasets import load_sample_image\n",
    "from sklearn.cluster import MiniBatchKMeans\n",
    "from somoclu import Somoclu\n",
    "\n",
    "# Load a sample Sentinel-2 image with 10 bands\n",
    "sentinel2 = load_sample_image(\"image.jpg\")\n",
    "\n",
    "# Flatten the image into a 2D array of pixels\n",
    "pixels = sentinel2.reshape(-1, 10)\n",
    "\n",
    "# Initialize the SOM\n",
    "n_rows, n_columns = 20, 20\n",
    "som = Somoclu(n_columns, n_rows, compact_support=False)\n",
    "\n",
    "# Train the SOM on the pixels\n",
    "som.train(pixels)\n",
    "\n",
    "# Plot the resulting SOM\n",
    "plt.imshow(som.bmus, origin='upper', aspect='equal', cmap='viridis')\n",
    "plt.show()\n"
   ]
  }
 ],
 "metadata": {
  "kernelspec": {
   "display_name": "base",
   "language": "python",
   "name": "python3"
  },
  "language_info": {
   "codemirror_mode": {
    "name": "ipython",
    "version": 3
   },
   "file_extension": ".py",
   "mimetype": "text/x-python",
   "name": "python",
   "nbconvert_exporter": "python",
   "pygments_lexer": "ipython3",
   "version": "3.10.8"
  },
  "orig_nbformat": 4,
  "vscode": {
   "interpreter": {
    "hash": "77a3b73408cb56ca9cdc0ca1ee1fab9ab60e66c235a1ccd62dfcc25f775e976b"
   }
  }
 },
 "nbformat": 4,
 "nbformat_minor": 2
}
