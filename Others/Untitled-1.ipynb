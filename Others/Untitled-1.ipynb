{
 "cells": [
  {
   "cell_type": "code",
   "execution_count": 3,
   "metadata": {},
   "outputs": [
    {
     "ename": "ModuleNotFoundError",
     "evalue": "No module named 'gdal'",
     "output_type": "error",
     "traceback": [
      "\u001b[0;31m---------------------------------------------------------------------------\u001b[0m",
      "\u001b[0;31mModuleNotFoundError\u001b[0m                       Traceback (most recent call last)",
      "Cell \u001b[0;32mIn[3], line 1\u001b[0m\n\u001b[0;32m----> 1\u001b[0m \u001b[39mimport\u001b[39;00m \u001b[39mgdal\u001b[39;00m\n\u001b[1;32m      2\u001b[0m \u001b[39m# import ogr\u001b[39;00m\n\u001b[1;32m      3\u001b[0m gdal\u001b[39m.\u001b[39mVersionInfo()\n",
      "\u001b[0;31mModuleNotFoundError\u001b[0m: No module named 'gdal'"
     ]
    }
   ],
   "source": [
    "import gdal\n",
    "# import ogr\n",
    "gdal.VersionInfo()\n",
    "# Open original raster layer\n",
    "raster = gdal.Open('../Data/l2a.tif')\n",
    "\n",
    "# Open output shapefile containing polygon boundaries\n",
    "shp = ogr.Open('../Data/Shp/taranaki_after.shp')\n",
    "layer = shp.GetLayer()\n",
    "\n",
    "# Burn polygon boundaries into binary raster\n",
    "mask_raster = gdal.GetDriverByName('MEM').Create('', raster.RasterXSize, raster.RasterYSize, 1, gdal.GDT_Byte)\n",
    "mask_raster.SetProjection(raster.GetProjection())\n",
    "mask_raster.SetGeoTransform(raster.GetGeoTransform())\n",
    "gdal.RasterizeLayer(mask_raster, [1], layer, burn_values=[1])\n",
    "\n",
    "# Extract values of original raster within polygon\n",
    "mask_array = mask_raster.ReadAsArray()\n",
    "raster_array = raster.ReadAsArray()\n",
    "values = raster_array[mask_array == 1]\n"
   ]
  }
 ],
 "metadata": {
  "kernelspec": {
   "display_name": "base",
   "language": "python",
   "name": "python3"
  },
  "language_info": {
   "codemirror_mode": {
    "name": "ipython",
    "version": 3
   },
   "file_extension": ".py",
   "mimetype": "text/x-python",
   "name": "python",
   "nbconvert_exporter": "python",
   "pygments_lexer": "ipython3",
   "version": "3.10.10"
  },
  "orig_nbformat": 4
 },
 "nbformat": 4,
 "nbformat_minor": 2
}
