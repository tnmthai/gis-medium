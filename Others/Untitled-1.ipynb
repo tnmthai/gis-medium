{
 "cells": [
  {
   "cell_type": "code",
   "execution_count": 16,
   "metadata": {},
   "outputs": [],
   "source": [
    "from osgeo import gdal,ogr\n",
    "# import ogr\n",
    "gdal.VersionInfo()\n",
    "# Open original raster layer\n",
    "raster = gdal.Open('../Data/l2a.tif')\n",
    "\n",
    "# Open output shapefile containing polygon boundaries\n",
    "shp = ogr.Open('../Data/Shp/taranaki_after.shp')\n",
    "layer = shp.GetLayer()\n",
    "\n",
    "# Burn polygon boundaries into binary raster\n",
    "mask_raster = gdal.GetDriverByName('MEM').Create('', raster.RasterXSize, raster.RasterYSize, 1, gdal.GDT_Byte)\n",
    "mask_raster.SetProjection(raster.GetProjection())\n",
    "mask_raster.SetGeoTransform(raster.GetGeoTransform())\n",
    "gdal.RasterizeLayer(mask_raster, [1], layer, burn_values=[1])\n",
    "\n",
    "# Extract values of original raster within polygon\n",
    "mask_array = mask_raster.ReadAsArray()\n",
    "raster_array = raster.ReadAsArray()\n",
    "# values = raster_array[mask_array == 1]\n"
   ]
  },
  {
   "cell_type": "code",
   "execution_count": 20,
   "metadata": {},
   "outputs": [
    {
     "data": {
      "text/plain": [
       "655"
      ]
     },
     "execution_count": 20,
     "metadata": {},
     "output_type": "execute_result"
    }
   ],
   "source": [
    "len(raster_array[2])"
   ]
  },
  {
   "cell_type": "code",
   "execution_count": 21,
   "metadata": {},
   "outputs": [
    {
     "data": {
      "text/plain": [
       "(10, 655, 627)"
      ]
     },
     "execution_count": 21,
     "metadata": {},
     "output_type": "execute_result"
    }
   ],
   "source": [
    "raster_array.shape\n"
   ]
  },
  {
   "cell_type": "code",
   "execution_count": 23,
   "metadata": {},
   "outputs": [
    {
     "data": {
      "text/plain": [
       "array([[[0, 0, 0, ..., 0, 0, 0],\n",
       "        [0, 0, 0, ..., 0, 0, 0],\n",
       "        [0, 0, 0, ..., 0, 0, 0],\n",
       "        ...,\n",
       "        [0, 0, 0, ..., 0, 0, 0],\n",
       "        [0, 0, 0, ..., 0, 0, 0],\n",
       "        [0, 0, 0, ..., 0, 0, 0]],\n",
       "\n",
       "       [[0, 0, 0, ..., 0, 0, 0],\n",
       "        [0, 0, 0, ..., 0, 0, 0],\n",
       "        [0, 0, 0, ..., 0, 0, 0],\n",
       "        ...,\n",
       "        [0, 0, 0, ..., 0, 0, 0],\n",
       "        [0, 0, 0, ..., 0, 0, 0],\n",
       "        [0, 0, 0, ..., 0, 0, 0]],\n",
       "\n",
       "       [[0, 0, 0, ..., 0, 0, 0],\n",
       "        [0, 0, 0, ..., 0, 0, 0],\n",
       "        [0, 0, 0, ..., 0, 0, 0],\n",
       "        ...,\n",
       "        [0, 0, 0, ..., 0, 0, 0],\n",
       "        [0, 0, 0, ..., 0, 0, 0],\n",
       "        [0, 0, 0, ..., 0, 0, 0]],\n",
       "\n",
       "       ...,\n",
       "\n",
       "       [[0, 0, 0, ..., 0, 0, 0],\n",
       "        [0, 0, 0, ..., 0, 0, 0],\n",
       "        [0, 0, 0, ..., 0, 0, 0],\n",
       "        ...,\n",
       "        [0, 0, 0, ..., 0, 0, 0],\n",
       "        [0, 0, 0, ..., 0, 0, 0],\n",
       "        [0, 0, 0, ..., 0, 0, 0]],\n",
       "\n",
       "       [[0, 0, 0, ..., 0, 0, 0],\n",
       "        [0, 0, 0, ..., 0, 0, 0],\n",
       "        [0, 0, 0, ..., 0, 0, 0],\n",
       "        ...,\n",
       "        [0, 0, 0, ..., 0, 0, 0],\n",
       "        [0, 0, 0, ..., 0, 0, 0],\n",
       "        [0, 0, 0, ..., 0, 0, 0]],\n",
       "\n",
       "       [[0, 0, 0, ..., 0, 0, 0],\n",
       "        [0, 0, 0, ..., 0, 0, 0],\n",
       "        [0, 0, 0, ..., 0, 0, 0],\n",
       "        ...,\n",
       "        [0, 0, 0, ..., 0, 0, 0],\n",
       "        [0, 0, 0, ..., 0, 0, 0],\n",
       "        [0, 0, 0, ..., 0, 0, 0]]], dtype=int16)"
      ]
     },
     "execution_count": 23,
     "metadata": {},
     "output_type": "execute_result"
    }
   ],
   "source": [
    "raster_array\n"
   ]
  },
  {
   "cell_type": "code",
   "execution_count": null,
   "metadata": {},
   "outputs": [],
   "source": []
  },
  {
   "cell_type": "code",
   "execution_count": null,
   "metadata": {},
   "outputs": [],
   "source": []
  },
  {
   "cell_type": "code",
   "execution_count": null,
   "metadata": {},
   "outputs": [],
   "source": []
  },
  {
   "cell_type": "code",
   "execution_count": 15,
   "metadata": {},
   "outputs": [
    {
     "ename": "TypeError",
     "evalue": "'band_list' is an invalid keyword argument for RasterizeLayer()",
     "output_type": "error",
     "traceback": [
      "\u001b[0;31m---------------------------------------------------------------------------\u001b[0m",
      "\u001b[0;31mTypeError\u001b[0m                                 Traceback (most recent call last)",
      "Cell \u001b[0;32mIn[15], line 18\u001b[0m\n\u001b[1;32m     16\u001b[0m     mask_raster\u001b[39m.\u001b[39mSetProjection(raster\u001b[39m.\u001b[39mGetProjection())\n\u001b[1;32m     17\u001b[0m     mask_raster\u001b[39m.\u001b[39mSetGeoTransform(raster\u001b[39m.\u001b[39mGetGeoTransform())\n\u001b[0;32m---> 18\u001b[0m     gdal\u001b[39m.\u001b[39;49mRasterizeLayer(mask_raster, [\u001b[39m1\u001b[39;49m], layer, burn_values\u001b[39m=\u001b[39;49m[\u001b[39m1\u001b[39;49m], \n\u001b[1;32m     19\u001b[0m                         band_list\u001b[39m=\u001b[39;49m\u001b[39m0\u001b[39;49m)\n\u001b[1;32m     20\u001b[0m     mask_rasters\u001b[39m.\u001b[39mappend(mask_raster)\n\u001b[1;32m     22\u001b[0m \u001b[39m# Extract values of original raster within polygon for each band\u001b[39;00m\n",
      "File \u001b[0;32m~/miniconda3/lib/python3.10/site-packages/osgeo/gdal.py:4518\u001b[0m, in \u001b[0;36mRasterizeLayer\u001b[0;34m(*args, **kwargs)\u001b[0m\n\u001b[1;32m   4516\u001b[0m \u001b[39mdef\u001b[39;00m \u001b[39mRasterizeLayer\u001b[39m(\u001b[39m*\u001b[39margs, \u001b[39m*\u001b[39m\u001b[39m*\u001b[39mkwargs) \u001b[39m-\u001b[39m\u001b[39m>\u001b[39m \u001b[39m\"\u001b[39m\u001b[39mint\u001b[39m\u001b[39m\"\u001b[39m:\n\u001b[1;32m   4517\u001b[0m     \u001b[39mr\u001b[39m\u001b[39m\"\"\"RasterizeLayer(Dataset dataset, int bands, Layer layer, void * pfnTransformer=None, void * pTransformArg=None, int burn_values=0, char ** options=None, GDALProgressFunc callback=0, void * callback_data=None) -> int\"\"\"\u001b[39;00m\n\u001b[0;32m-> 4518\u001b[0m     \u001b[39mreturn\u001b[39;00m _gdal\u001b[39m.\u001b[39;49mRasterizeLayer(\u001b[39m*\u001b[39;49margs, \u001b[39m*\u001b[39;49m\u001b[39m*\u001b[39;49mkwargs)\n",
      "\u001b[0;31mTypeError\u001b[0m: 'band_list' is an invalid keyword argument for RasterizeLayer()"
     ]
    }
   ],
   "source": [
    "from osgeo import gdal,ogr\n",
    "import numpy as np\n",
    "# import ogr\n",
    "gdal.VersionInfo()\n",
    "# Open original raster layer\n",
    "raster = gdal.Open('../Data/l2a.tif')\n",
    "\n",
    "# Open output shapefile containing polygon boundaries\n",
    "shp = ogr.Open('../Data/Shp/taranaki_after.shp')\n",
    "layer = shp.GetLayer()\n",
    "\n",
    "# Burn polygon boundaries into binary raster for each band\n",
    "mask_rasters = []\n",
    "for band in range(1, raster.RasterCount+1):\n",
    "    mask_raster = gdal.GetDriverByName('MEM').Create('', raster.RasterXSize, raster.RasterYSize, 1, gdal.GDT_Byte)\n",
    "    mask_raster.SetProjection(raster.GetProjection())\n",
    "    mask_raster.SetGeoTransform(raster.GetGeoTransform())\n",
    "    gdal.RasterizeLayer(mask_raster, [1], layer, burn_values=[1], \n",
    "                        band_list=0)\n",
    "    mask_rasters.append(mask_raster)\n",
    "\n",
    "# Extract values of original raster within polygon for each band\n",
    "values = []\n",
    "for band in range(1, raster.RasterCount+1):\n",
    "    mask_array = mask_rasters[band-1].ReadAsArray()\n",
    "    raster_array = raster.GetRasterBand(band).ReadAsArray()\n",
    "    values.append(raster_array[mask_array == 1])\n",
    "\n",
    "values = np.array(values).T  # Transpose the array to get each pixel value as a row\n"
   ]
  }
 ],
 "metadata": {
  "kernelspec": {
   "display_name": "base",
   "language": "python",
   "name": "python3"
  },
  "language_info": {
   "codemirror_mode": {
    "name": "ipython",
    "version": 3
   },
   "file_extension": ".py",
   "mimetype": "text/x-python",
   "name": "python",
   "nbconvert_exporter": "python",
   "pygments_lexer": "ipython3",
   "version": "3.10.10"
  },
  "orig_nbformat": 4
 },
 "nbformat": 4,
 "nbformat_minor": 2
}
