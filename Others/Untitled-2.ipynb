{
 "cells": [
  {
   "cell_type": "code",
   "execution_count": 1,
   "metadata": {},
   "outputs": [
    {
     "name": "stdout",
     "output_type": "stream",
     "text": [
      "(2, 4, 6, 7, 8, 9, 11, 12, 13, 17)\n"
     ]
    }
   ],
   "source": [
    "import itertools\n",
    "import random\n",
    "\n",
    "# Define the list of n elements\n",
    "n = 20\n",
    "my_list = [i for i in range(1,n+1)]\n",
    "\n",
    "# Define the constraints\n",
    "constraint1 = 10  # The combination length should be 10\n",
    "constraint2 = 5   # The combination should have at least 5 elements from the list\n",
    "\n",
    "# Define a function to generate random combinations from the list\n",
    "def generate_combinations(my_list, constraint1, constraint2):\n",
    "    # Create all possible combinations of length 10\n",
    "    combinations = itertools.combinations(my_list, constraint1)\n",
    "    \n",
    "    # Filter the combinations to meet the constraints\n",
    "    filtered_combinations = []\n",
    "    for comb in combinations:\n",
    "        if len(set(comb)) >= constraint2:\n",
    "            filtered_combinations.append(comb)\n",
    "    \n",
    "    # Randomly select a combination from the filtered list\n",
    "    if filtered_combinations:\n",
    "        return random.choice(filtered_combinations)\n",
    "    else:\n",
    "        return None\n",
    "\n",
    "# Generate a random combination\n",
    "random_combination = generate_combinations(my_list, constraint1, constraint2)\n",
    "print(random_combination)\n"
   ]
  },
  {
   "cell_type": "code",
   "execution_count": 4,
   "metadata": {},
   "outputs": [
    {
     "name": "stdout",
     "output_type": "stream",
     "text": [
      "(3, 6, 7, 8, 10, 14, 16, 17, 18, 20)\n",
      "(2, 3, 4, 9, 10, 15, 17, 18, 19, 20)\n",
      "(1, 2, 3, 5, 7, 8, 13, 14, 17, 18)\n",
      "(2, 3, 6, 7, 11, 12, 13, 16, 18, 20)\n",
      "(1, 2, 3, 4, 7, 10, 14, 16, 18, 20)\n"
     ]
    }
   ],
   "source": [
    "import itertools\n",
    "import random\n",
    "\n",
    "# Define the list of n elements\n",
    "n = 20\n",
    "my_list = [i for i in range(1, n+1)]\n",
    "\n",
    "# Define the constraints\n",
    "constraint1 = 10  # The combination length should be 10\n",
    "constraint2 = 5   # The combination should have at least 5 elements from the list\n",
    "\n",
    "# Define a function to generate random combinations from the list\n",
    "def generate_combinations(my_list, constraint1, constraint2, num_combinations):\n",
    "    # Create all possible combinations of length 10\n",
    "    combinations = itertools.combinations(my_list, constraint1)\n",
    "    \n",
    "    # Filter the combinations to meet the constraints\n",
    "    filtered_combinations = []\n",
    "    for comb in combinations:\n",
    "        if len(set(comb)) >= constraint2:\n",
    "            filtered_combinations.append(comb)\n",
    "    \n",
    "    # Randomly select 5 combinations from the filtered list\n",
    "    random_combinations = []\n",
    "    if len(filtered_combinations) >= num_combinations:\n",
    "        random_combinations = random.sample(filtered_combinations, num_combinations)\n",
    "    else:\n",
    "        random_combinations = filtered_combinations\n",
    "    \n",
    "    return random_combinations\n",
    "\n",
    "# Generate 5 random combinations\n",
    "random_combinations = generate_combinations(my_list, constraint1, constraint2, 5)\n",
    "for comb in random_combinations:\n",
    "    print(comb)\n"
   ]
  },
  {
   "cell_type": "code",
   "execution_count": 6,
   "metadata": {},
   "outputs": [
    {
     "name": "stdout",
     "output_type": "stream",
     "text": [
      "(1, 53, 10, 16, 76, 31, 46, 59, 25, 60)\n",
      "(10, 48, 16, 76, 9, 46, 69, 3, 49, 37)\n",
      "(61, 53, 10, 48, 9, 46, 59, 71, 43, 37)\n",
      "(47, 16, 7, 59, 71, 3, 15, 30, 43, 78)\n",
      "(61, 53, 76, 7, 59, 3, 15, 43, 49, 60)\n"
     ]
    }
   ],
   "source": [
    "# my_list= [1,21,61,5,53,10,47,48,16,18,20,52,62,76,7,9,31,46,59,69,71,3,15,25,29]\n",
    "my_list = [1,21,61,5,53,10,47,48,16,76,7,9,31,46,59,69,71,3,15,25,29,30,43,49,60,36,37,38,78]\n",
    "random_combinations = generate_combinations(my_list, constraint1, constraint2, 5)\n",
    "for comb in random_combinations:\n",
    "    print(comb)"
   ]
  },
  {
   "cell_type": "code",
   "execution_count": 1,
   "metadata": {},
   "outputs": [
    {
     "name": "stdout",
     "output_type": "stream",
     "text": [
      "shape: (3, 5)\n",
      "┌────────────┬──────────────┬─────────────┬──────────────┬─────────────┐\n",
      "│ species    ┆ sepal_length ┆ sepal_width ┆ petal_length ┆ petal_width │\n",
      "│ ---        ┆ ---          ┆ ---         ┆ ---          ┆ ---         │\n",
      "│ str        ┆ f64          ┆ f64         ┆ f64          ┆ f64         │\n",
      "╞════════════╪══════════════╪═════════════╪══════════════╪═════════════╡\n",
      "│ setosa     ┆ 116.9        ┆ 81.7        ┆ 33.2         ┆ 6.1         │\n",
      "│ versicolor ┆ 281.9        ┆ 131.8       ┆ 202.9        ┆ 63.3        │\n",
      "│ virginica  ┆ 324.5        ┆ 146.2       ┆ 273.1        ┆ 99.6        │\n",
      "└────────────┴──────────────┴─────────────┴──────────────┴─────────────┘\n"
     ]
    }
   ],
   "source": [
    "import polars as pl\n",
    "\n",
    "print(\n",
    "    pl.read_csv(\"https://j.mp/iriscsv\")\n",
    "    .lazy()\n",
    "    .filter(pl.col(\"sepal_length\") > 5)\n",
    "    .groupby(\"species\", maintain_order=True)\n",
    "    .agg(pl.all().sum())\n",
    "    .collect()\n",
    ")\n"
   ]
  }
 ],
 "metadata": {
  "kernelspec": {
   "display_name": "base",
   "language": "python",
   "name": "python3"
  },
  "language_info": {
   "codemirror_mode": {
    "name": "ipython",
    "version": 3
   },
   "file_extension": ".py",
   "mimetype": "text/x-python",
   "name": "python",
   "nbconvert_exporter": "python",
   "pygments_lexer": "ipython3",
   "version": "3.10.10"
  },
  "orig_nbformat": 4
 },
 "nbformat": 4,
 "nbformat_minor": 2
}
