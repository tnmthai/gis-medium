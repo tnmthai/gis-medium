{
 "cells": [
  {
   "cell_type": "markdown",
   "id": "d3d6efff-6f35-4d04-b339-f38b806dbe28",
   "metadata": {},
   "source": [
    "# Import Module for computation & Authenticate GEE"
   ]
  },
  {
   "cell_type": "code",
   "execution_count": 1,
   "id": "80a8a8d8-7d2a-48f3-adaa-33b494d5816e",
   "metadata": {},
   "outputs": [],
   "source": [
    "import geemap, ee"
   ]
  },
  {
   "cell_type": "code",
   "execution_count": 2,
   "id": "eae5e545-43d5-4b0d-b328-7d8e8f85af01",
   "metadata": {},
   "outputs": [],
   "source": [
    "ee.Initialize()"
   ]
  },
  {
   "cell_type": "markdown",
   "id": "2bfa33c0-0d1a-4f9e-af5a-a378ba4bcf19",
   "metadata": {},
   "source": [
    "# Define area of interest for the computation of NDVI"
   ]
  },
  {
   "cell_type": "code",
   "execution_count": 9,
   "id": "8d6f0ea0-bec0-469f-a7f7-a37a4ce099b7",
   "metadata": {},
   "outputs": [],
   "source": [
    "# get our Nepal boundary\n",
    "aoi = ee.FeatureCollection(\"FAO/GAUL/2015/level0\").filter(ee.Filter.eq('ADM0_NAME','New Zealand')).geometry()"
   ]
  },
  {
   "cell_type": "markdown",
   "id": "c3d881e4-7150-46df-932a-0982c9908f06",
   "metadata": {},
   "source": [
    "# Define function for EVI computation"
   ]
  },
  {
   "cell_type": "code",
   "execution_count": 10,
   "id": "9aa04468-6727-42b1-a789-c81a0422c7a6",
   "metadata": {},
   "outputs": [],
   "source": [
    "def getNDVI(image):\n",
    "    \n",
    "    # Normalized difference vegetation index (NDVI)\n",
    "    ndvi = image.normalizedDifference(['B8','B4']).rename(\"NDVI\")\n",
    "    image = image.addBands(ndvi)\n",
    "\n",
    "    return(image)"
   ]
  },
  {
   "cell_type": "markdown",
   "id": "d2ad6ee6-1c81-4f6a-bf8b-904dfb61e13d",
   "metadata": {},
   "source": [
    "## Define the date for image"
   ]
  },
  {
   "cell_type": "code",
   "execution_count": 11,
   "id": "38a95b21-22c8-41c1-b02a-a18e44e0dc67",
   "metadata": {},
   "outputs": [],
   "source": [
    "def addDate(image):\n",
    "    img_date = ee.Date(image.date())\n",
    "    img_date = ee.Number.parse(img_date.format('YYYYMMdd'))\n",
    "    return image.addBands(ee.Image(img_date).rename('date').toInt())"
   ]
  },
  {
   "cell_type": "markdown",
   "id": "de569891-7cf4-44d3-9df2-7ba193708ec2",
   "metadata": {},
   "source": [
    "# Filter image collection and compute the NDVI for each image"
   ]
  },
  {
   "cell_type": "code",
   "execution_count": 12,
   "id": "98d5be7d-eeff-49c5-8f53-1609ed633fd5",
   "metadata": {},
   "outputs": [],
   "source": [
    "Sentinel_data = ee.ImageCollection('COPERNICUS/S2').filterDate(\"2023-03-01\",\"2023-03-31\").filterBounds(aoi) \\\n",
    "    .map(getNDVI).map(addDate).median()"
   ]
  },
  {
   "cell_type": "markdown",
   "id": "95911b6e-f685-4036-a80e-bb49486a3739",
   "metadata": {},
   "source": [
    "### Define color pallate for NDVI"
   ]
  },
  {
   "cell_type": "code",
   "execution_count": 13,
   "id": "b373d8b4-6bd3-4373-bced-dd1811c869ed",
   "metadata": {},
   "outputs": [],
   "source": [
    "color = ['FFFFFF', 'CE7E45', 'DF923D', 'F1B555', 'FCD163', '99B718',\n",
    "               '74A901', '66A000', '529400', '3E8601', '207401', '056201',\n",
    "               '004C00', '023B01', '012E01', '011D01', '011301']\n",
    "pallete = {\"min\":0, \"max\":1, 'palette':color}\n",
    "\n"
   ]
  },
  {
   "cell_type": "markdown",
   "id": "7b046afd-3ed3-45ce-a92e-6e1149022a1a",
   "metadata": {},
   "source": [
    "### Visualize the result with follium "
   ]
  },
  {
   "cell_type": "code",
   "execution_count": 14,
   "id": "54c80489-713e-4db0-a0c5-b31f8e3d0b04",
   "metadata": {},
   "outputs": [
    {
     "data": {
      "application/vnd.jupyter.widget-view+json": {
       "model_id": "f9502cfcc6be4cd3899a4eb3db8b2854",
       "version_major": 2,
       "version_minor": 0
      },
      "text/plain": [
       "Map(center=[-41.69398314807406, 172.87124491464206], controls=(WidgetControl(options=['position', 'transparent…"
      ]
     },
     "metadata": {},
     "output_type": "display_data"
    }
   ],
   "source": [
    "# initialize our map\n",
    "map1 = geemap.Map()\n",
    "map1.centerObject(aoi, 8)\n",
    "map1.addLayer(Sentinel_data.clip(aoi).select('NDVI'), pallete, \"NDVI\")\n",
    "\n",
    "map1.addLayerControl()\n",
    "map1"
   ]
  },
  {
   "cell_type": "code",
   "execution_count": null,
   "id": "6aa045bb-b960-44f3-9972-c74125a49e81",
   "metadata": {},
   "outputs": [],
   "source": []
  }
 ],
 "metadata": {
  "kernelspec": {
   "display_name": "Python 3",
   "language": "python",
   "name": "python3"
  },
  "language_info": {
   "codemirror_mode": {
    "name": "ipython",
    "version": 3
   },
   "file_extension": ".py",
   "mimetype": "text/x-python",
   "name": "python",
   "nbconvert_exporter": "python",
   "pygments_lexer": "ipython3",
   "version": "3.11.3"
  }
 },
 "nbformat": 4,
 "nbformat_minor": 5
}
