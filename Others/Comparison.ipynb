{
 "cells": [
  {
   "cell_type": "code",
   "execution_count": 1,
   "metadata": {},
   "outputs": [
    {
     "data": {
      "text/plain": [
       "{'divide': 'warn', 'over': 'warn', 'under': 'ignore', 'invalid': 'warn'}"
      ]
     },
     "execution_count": 1,
     "metadata": {},
     "output_type": "execute_result"
    }
   ],
   "source": [
    "from glob import glob\n",
    "\n",
    "import earthpy as et\n",
    "import earthpy.spatial as es\n",
    "import earthpy.plot as ep\n",
    "\n",
    "import rasterio as rio\n",
    "from rasterio.plot import plotting_extent\n",
    "from rasterio.plot import show\n",
    "from rasterio.plot import reshape_as_raster, reshape_as_image\n",
    "\n",
    "import matplotlib.pyplot as plt\n",
    "import numpy as np\n",
    "from matplotlib.colors import ListedColormap\n",
    "\n",
    "np.seterr(divide='ignore', invalid='ignore')"
   ]
  },
  {
   "cell_type": "code",
   "execution_count": 2,
   "metadata": {},
   "outputs": [],
   "source": [
    "import os\n",
    "basedir = os.getcwd()\n",
    "from pathlib import Path\n",
    "path = Path(basedir)\n",
    "data = path.parent.absolute() "
   ]
  },
  {
   "cell_type": "code",
   "execution_count": 3,
   "metadata": {},
   "outputs": [
    {
     "ename": "RasterioIOError",
     "evalue": "/mnt/c/Users/trant/Documents/GitHub/gis-medium/Data/maja/SENTINEL2A_20220217_SEN2AGRI/MASKS/SENTINEL2A_20220217-222658-832_L2A_T60HUB_C_V1-0_CLM_R1.tif: No such file or directory",
     "output_type": "error",
     "traceback": [
      "\u001b[0;31m---------------------------------------------------------------------------\u001b[0m",
      "\u001b[0;31mCPLE_OpenFailedError\u001b[0m                      Traceback (most recent call last)",
      "File \u001b[0;32mrasterio/_base.pyx:307\u001b[0m, in \u001b[0;36mrasterio._base.DatasetBase.__init__\u001b[0;34m()\u001b[0m\n",
      "File \u001b[0;32mrasterio/_base.pyx:218\u001b[0m, in \u001b[0;36mrasterio._base.open_dataset\u001b[0;34m()\u001b[0m\n",
      "File \u001b[0;32mrasterio/_err.pyx:221\u001b[0m, in \u001b[0;36mrasterio._err.exc_wrap_pointer\u001b[0;34m()\u001b[0m\n",
      "\u001b[0;31mCPLE_OpenFailedError\u001b[0m: /mnt/c/Users/trant/Documents/GitHub/gis-medium/Data/maja/SENTINEL2A_20220217_SEN2AGRI/MASKS/SENTINEL2A_20220217-222658-832_L2A_T60HUB_C_V1-0_CLM_R1.tif: No such file or directory",
      "\nDuring handling of the above exception, another exception occurred:\n",
      "\u001b[0;31mRasterioIOError\u001b[0m                           Traceback (most recent call last)",
      "Cell \u001b[0;32mIn[3], line 3\u001b[0m\n\u001b[1;32m      1\u001b[0m \u001b[39m### sen2agri  D:\\ML\\Satellite_Imagery_Analysis-main\\Data\\maja\\SENTINEL2A_20220217_SEN2AGRI\\MASKS\\SENTINEL2A_20220217-222658-832_L2A_T60HUB_C_V1-0_CLM_R1.tif\u001b[39;00m\n\u001b[1;32m      2\u001b[0m file1 \u001b[39m=\u001b[39m  os\u001b[39m.\u001b[39mpath\u001b[39m.\u001b[39mjoin(data,\u001b[39m\"\u001b[39m\u001b[39mData/maja/SENTINEL2A_20220217_SEN2AGRI/MASKS/SENTINEL2A_20220217-222658-832_L2A_T60HUB_C_V1-0_CLM_R1.tif\u001b[39m\u001b[39m\"\u001b[39m)\n\u001b[0;32m----> 3\u001b[0m clmsk1 \u001b[39m=\u001b[39m rio\u001b[39m.\u001b[39;49mopen(file1)\n\u001b[1;32m      4\u001b[0m mask1 \u001b[39m=\u001b[39m clmsk1\u001b[39m.\u001b[39mread(\u001b[39m1\u001b[39m)\n",
      "File \u001b[0;32m~/miniconda3/envs/pygis/lib/python3.9/site-packages/rasterio/env.py:444\u001b[0m, in \u001b[0;36mensure_env_with_credentials.<locals>.wrapper\u001b[0;34m(*args, **kwds)\u001b[0m\n\u001b[1;32m    441\u001b[0m     session \u001b[39m=\u001b[39m DummySession()\n\u001b[1;32m    443\u001b[0m \u001b[39mwith\u001b[39;00m env_ctor(session\u001b[39m=\u001b[39msession):\n\u001b[0;32m--> 444\u001b[0m     \u001b[39mreturn\u001b[39;00m f(\u001b[39m*\u001b[39;49margs, \u001b[39m*\u001b[39;49m\u001b[39m*\u001b[39;49mkwds)\n",
      "File \u001b[0;32m~/miniconda3/envs/pygis/lib/python3.9/site-packages/rasterio/__init__.py:304\u001b[0m, in \u001b[0;36mopen\u001b[0;34m(fp, mode, driver, width, height, count, crs, transform, dtype, nodata, sharing, **kwargs)\u001b[0m\n\u001b[1;32m    301\u001b[0m path \u001b[39m=\u001b[39m _parse_path(raw_dataset_path)\n\u001b[1;32m    303\u001b[0m \u001b[39mif\u001b[39;00m mode \u001b[39m==\u001b[39m \u001b[39m\"\u001b[39m\u001b[39mr\u001b[39m\u001b[39m\"\u001b[39m:\n\u001b[0;32m--> 304\u001b[0m     dataset \u001b[39m=\u001b[39m DatasetReader(path, driver\u001b[39m=\u001b[39;49mdriver, sharing\u001b[39m=\u001b[39;49msharing, \u001b[39m*\u001b[39;49m\u001b[39m*\u001b[39;49mkwargs)\n\u001b[1;32m    305\u001b[0m \u001b[39melif\u001b[39;00m mode \u001b[39m==\u001b[39m \u001b[39m\"\u001b[39m\u001b[39mr+\u001b[39m\u001b[39m\"\u001b[39m:\n\u001b[1;32m    306\u001b[0m     dataset \u001b[39m=\u001b[39m get_writer_for_path(path, driver\u001b[39m=\u001b[39mdriver)(\n\u001b[1;32m    307\u001b[0m         path, mode, driver\u001b[39m=\u001b[39mdriver, sharing\u001b[39m=\u001b[39msharing, \u001b[39m*\u001b[39m\u001b[39m*\u001b[39mkwargs\n\u001b[1;32m    308\u001b[0m     )\n",
      "File \u001b[0;32mrasterio/_base.pyx:309\u001b[0m, in \u001b[0;36mrasterio._base.DatasetBase.__init__\u001b[0;34m()\u001b[0m\n",
      "\u001b[0;31mRasterioIOError\u001b[0m: /mnt/c/Users/trant/Documents/GitHub/gis-medium/Data/maja/SENTINEL2A_20220217_SEN2AGRI/MASKS/SENTINEL2A_20220217-222658-832_L2A_T60HUB_C_V1-0_CLM_R1.tif: No such file or directory"
     ]
    }
   ],
   "source": [
    "### sen2agri  D:\\ML\\Satellite_Imagery_Analysis-main\\Data\\maja\\SENTINEL2A_20220217_SEN2AGRI\\MASKS\\SENTINEL2A_20220217-222658-832_L2A_T60HUB_C_V1-0_CLM_R1.tif\n",
    "file1 =  os.path.join(data,\"Data/maja/SENTINEL2A_20220217_SEN2AGRI/MASKS/SENTINEL2A_20220217-222658-832_L2A_T60HUB_C_V1-0_CLM_R1.tif\")\n",
    "clmsk1 = rio.open(file1)\n",
    "mask1 = clmsk1.read(1)"
   ]
  }
 ],
 "metadata": {
  "kernelspec": {
   "display_name": "pygis",
   "language": "python",
   "name": "python3"
  },
  "language_info": {
   "codemirror_mode": {
    "name": "ipython",
    "version": 3
   },
   "file_extension": ".py",
   "mimetype": "text/x-python",
   "name": "python",
   "nbconvert_exporter": "python",
   "pygments_lexer": "ipython3",
   "version": "3.9.15"
  },
  "orig_nbformat": 4,
  "vscode": {
   "interpreter": {
    "hash": "feedc09ddee52576cd8636ac5f5a671793e814dc3a9fba951f45a5bc4504408c"
   }
  }
 },
 "nbformat": 4,
 "nbformat_minor": 2
}
