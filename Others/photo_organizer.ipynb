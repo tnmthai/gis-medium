{
 "cells": [
  {
   "cell_type": "code",
   "execution_count": 4,
   "metadata": {},
   "outputs": [],
   "source": [
    "import os\n",
    "import shutil\n",
    "import datetime\n",
    "\n",
    "# path to the source directory\n",
    "src_dir = '/Users/tnmthai/Downloads/Photos-001' #/Users/tnmthai/Downloads\n",
    "\n",
    "# path to the destination directory for photos\n",
    "photo_dest_dir = '/Users/tnmthai/Downloads/PT'\n",
    "\n",
    "# path to the destination directory for videos\n",
    "video_dest_dir = '/Users/tnmthai/Downloads/VD'\n",
    "\n",
    "# list of file extensions for photos\n",
    "photo_extensions = ['.jpg', '.jpeg', '.png', '.bmp','.heic']\n",
    "\n",
    "# list of file extensions for videos\n",
    "video_extensions = ['.mp4', '.avi', '.mkv', '.mov']\n",
    "\n",
    "# iterate over all files in the source directory\n",
    "for filename in os.listdir(src_dir):\n",
    "    # get the file creation time\n",
    "    file_ctime = os.path.getctime(os.path.join(src_dir, filename))\n",
    "    # convert the creation time to a datetime object\n",
    "    file_ctime = datetime.datetime.fromtimestamp(file_ctime)\n",
    "    # get the file extension\n",
    "    file_extension = os.path.splitext(filename)[1].lower()\n",
    "    \n",
    "    # check if the file is a photo\n",
    "    if file_extension in photo_extensions:\n",
    "        # create the destination directory for the photo based on its creation date\n",
    "        dest_dir = os.path.join(photo_dest_dir, str(file_ctime.year), str(file_ctime.month))\n",
    "        # create the destination directory if it doesn't exist\n",
    "        if not os.path.exists(dest_dir):\n",
    "            os.makedirs(dest_dir)\n",
    "        # move the photo to the destination directory\n",
    "        shutil.move(os.path.join(src_dir, filename), os.path.join(dest_dir, filename))\n",
    "    \n",
    "    # check if the file is a video\n",
    "    if file_extension in video_extensions:\n",
    "        # create the destination directory for the video based on its creation date\n",
    "        dest_dir = os.path.join(video_dest_dir, str(file_ctime.year), str(file_ctime.month))\n",
    "        # create the destination directory if it doesn't exist\n",
    "        if not os.path.exists(dest_dir):\n",
    "            os.makedirs(dest_dir)\n",
    "        # move the video to the destination directory\n",
    "        shutil.move(os.path.join(src_dir, filename), os.path.join(dest_dir, filename))\n"
   ]
  }
 ],
 "metadata": {
  "kernelspec": {
   "display_name": "Python 3",
   "language": "python",
   "name": "python3"
  },
  "language_info": {
   "codemirror_mode": {
    "name": "ipython",
    "version": 3
   },
   "file_extension": ".py",
   "mimetype": "text/x-python",
   "name": "python",
   "nbconvert_exporter": "python",
   "pygments_lexer": "ipython3",
   "version": "3.9.7"
  },
  "orig_nbformat": 4,
  "vscode": {
   "interpreter": {
    "hash": "31f2aee4e71d21fbe5cf8b01ff0e069b9275f58929596ceb00d14d90e3e16cd6"
   }
  }
 },
 "nbformat": 4,
 "nbformat_minor": 2
}
