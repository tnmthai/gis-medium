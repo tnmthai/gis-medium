{
 "cells": [
  {
   "cell_type": "code",
   "execution_count": 9,
   "metadata": {},
   "outputs": [
    {
     "name": "stdout",
     "output_type": "stream",
     "text": [
      "      Name  University_Rank\n",
      "0   George             5000\n",
      "1   Andrea               47\n",
      "2  micheal               21\n",
      "3   maggie               74\n",
      "4     Ravi               32\n",
      "5     Xien               77\n",
      "6    Jalpa                8\n"
     ]
    }
   ],
   "source": [
    "import pandas as pd\n",
    "import numpy as np\n",
    "\n",
    "#Create a DataFrame\n",
    "df1 = {\n",
    "     'Name':['George','Andrea','micheal','maggie','Ravi','Xien','Jalpa'],\n",
    "   'University_Rank':[5000,47,21,74,32,77,8]}\n",
    "\n",
    "df1 = pd.DataFrame(df1,columns=['Name','University_Rank'])\n",
    "print(df1)"
   ]
  },
  {
   "cell_type": "code",
   "execution_count": 10,
   "metadata": {},
   "outputs": [
    {
     "name": "stdout",
     "output_type": "stream",
     "text": [
      "      Name  University_Rank  Raised_power_value\n",
      "0   George             5000           100020001\n",
      "1   Andrea               47                9025\n",
      "2  micheal               21                1849\n",
      "3   maggie               74               22201\n",
      "4     Ravi               32                4225\n",
      "5     Xien               77               24025\n",
      "6    Jalpa                8                 289\n"
     ]
    }
   ],
   "source": [
    "df1['Raised_power_value'] = np.power((df1['University_Rank']*2 +1),2)\n",
    "\n",
    "print(df1)"
   ]
  },
  {
   "cell_type": "code",
   "execution_count": null,
   "metadata": {},
   "outputs": [],
   "source": []
  }
 ],
 "metadata": {
  "kernelspec": {
   "display_name": "base",
   "language": "python",
   "name": "python3"
  },
  "language_info": {
   "codemirror_mode": {
    "name": "ipython",
    "version": 3
   },
   "file_extension": ".py",
   "mimetype": "text/x-python",
   "name": "python",
   "nbconvert_exporter": "python",
   "pygments_lexer": "ipython3",
   "version": "3.10.8"
  },
  "orig_nbformat": 4,
  "vscode": {
   "interpreter": {
    "hash": "77a3b73408cb56ca9cdc0ca1ee1fab9ab60e66c235a1ccd62dfcc25f775e976b"
   }
  }
 },
 "nbformat": 4,
 "nbformat_minor": 2
}
