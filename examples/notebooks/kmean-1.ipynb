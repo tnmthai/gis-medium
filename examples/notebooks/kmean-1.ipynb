{
 "cells": [
  {
   "cell_type": "code",
   "execution_count": 6,
   "metadata": {},
   "outputs": [],
   "source": [
    "# %pip install numpy matplotlib scikit-learn imageio\n",
    "# %pip install rasterio\n",
    "# %pip install -U gdal"
   ]
  },
  {
   "cell_type": "code",
   "execution_count": null,
   "metadata": {},
   "outputs": [],
   "source": [
    "import numpy as np\n",
    "import matplotlib.pyplot as plt\n",
    "from sklearn.cluster import KMeans\n",
    "import imageio\n",
    "\n",
    "def cluster_image(image_path, n_clusters=3):\n",
    "    # Read the image\n",
    "    img = imageio.imread(image_path)\n",
    "    \n",
    "    # Reshape the image to be a 2D array where each row is a pixel and each column is a color channel\n",
    "    pixel_values = img.reshape((-1, 3))\n",
    "\n",
    "    # Convert to float\n",
    "    pixel_values = np.float32(pixel_values)\n",
    "\n",
    "    # Define and fit the KMeans model\n",
    "    kmeans = KMeans(n_clusters=n_clusters)\n",
    "    kmeans.fit(pixel_values)\n",
    "\n",
    "    # Predict the cluster for each pixel and reshape it back to the image dimensions\n",
    "    labels = kmeans.predict(pixel_values)\n",
    "    segmented_img = labels.reshape(img.shape[0], img.shape[1])\n",
    "    imageio.imwrite('mask.tif', segmented_img.astype(np.uint8))\n",
    "    # Plotting\n",
    "    plt.imshow(segmented_img)\n",
    "    plt.title(f'Image clustered into {n_clusters} colors')\n",
    "    plt.axis('off')\n",
    "    plt.show()\n",
    "\n",
    "# Replace 'path_to_your_image.tif' with your image file path\n",
    "cluster_image('naip.tif', n_clusters=3)\n"
   ]
  },
  {
   "cell_type": "code",
   "execution_count": 10,
   "metadata": {},
   "outputs": [
    {
     "name": "stderr",
     "output_type": "stream",
     "text": [
      "c:\\Users\\trant\\.conda\\envs\\geo\\Lib\\site-packages\\sklearn\\cluster\\_kmeans.py:1416: FutureWarning: The default value of `n_init` will change from 10 to 'auto' in 1.4. Set the value of `n_init` explicitly to suppress the warning\n",
      "  super()._check_params_vs_input(X, default_n_init=10)\n"
     ]
    }
   ],
   "source": [
    "import numpy as np\n",
    "import rasterio\n",
    "from sklearn.cluster import KMeans\n",
    "import imageio\n",
    "\n",
    "def cluster_image(image_path, n_clusters=3, output_path='clustered_image.tif'):\n",
    "    # Read the image using rasterio to access geospatial metadata\n",
    "    with rasterio.open(image_path) as src:\n",
    "        img = src.read()\n",
    "        transform = src.transform\n",
    "        crs = src.crs\n",
    "        \n",
    "        # Reshape for KMeans\n",
    "        pixel_values = img.reshape((3, -1)).T  # Transpose to have channels as columns\n",
    "        pixel_values = np.float32(pixel_values)\n",
    "        \n",
    "        # Apply KMeans clustering\n",
    "        kmeans = KMeans(n_clusters=n_clusters)\n",
    "        kmeans.fit(pixel_values)\n",
    "        labels = kmeans.labels_\n",
    "        \n",
    "        # Reshape labels back to image dimensions\n",
    "        segmented_img = labels.reshape((src.height, src.width))\n",
    "        \n",
    "        # Save the clustered image with georeference\n",
    "        with rasterio.open(\n",
    "            output_path,\n",
    "            'w',\n",
    "            driver='GTiff',\n",
    "            height=segmented_img.shape[0],\n",
    "            width=segmented_img.shape[1],\n",
    "            count=1,\n",
    "            dtype=segmented_img.dtype,\n",
    "            crs=crs,\n",
    "            transform=transform\n",
    "        ) as dst:\n",
    "            dst.write(segmented_img, 1)\n",
    "\n",
    "# Usage\n",
    "cluster_image('naip.tif', n_clusters=7, output_path='mask7.tif')\n"
   ]
  },
  {
   "cell_type": "code",
   "execution_count": 3,
   "metadata": {},
   "outputs": [],
   "source": [
    "import rasterio"
   ]
  }
 ],
 "metadata": {
  "kernelspec": {
   "display_name": "Python 3",
   "language": "python",
   "name": "python3"
  },
  "language_info": {
   "codemirror_mode": {
    "name": "ipython",
    "version": 3
   },
   "file_extension": ".py",
   "mimetype": "text/x-python",
   "name": "python",
   "nbconvert_exporter": "python",
   "pygments_lexer": "ipython3",
   "version": "3.12.0"
  }
 },
 "nbformat": 4,
 "nbformat_minor": 2
}
