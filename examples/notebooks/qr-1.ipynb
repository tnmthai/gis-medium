{
 "cells": [
  {
   "cell_type": "code",
   "execution_count": 1,
   "metadata": {},
   "outputs": [
    {
     "name": "stdout",
     "output_type": "stream",
     "text": [
      "QR code generated!\n"
     ]
    },
    {
     "name": "stderr",
     "output_type": "stream",
     "text": [
      "/var/folders/m7/wjbd_q85085b8qs4ptw8jr_40000gp/T/ipykernel_8066/1253479702.py:24: DeprecationWarning: ANTIALIAS is deprecated and will be removed in Pillow 10 (2023-07-01). Use LANCZOS or Resampling.LANCZOS instead.\n",
      "  logo = logo.resize((basewidth, hsize), Image.ANTIALIAS)\n"
     ]
    }
   ],
   "source": [
    "# import modules\n",
    "import qrcode\n",
    "from PIL import Image\n",
    "from qrcode.image.styledpil import StyledPilImage\n",
    "from qrcode.image.styles.moduledrawers.pil import CircleModuleDrawer\n",
    "\n",
    "# qr = qrcode.QRCode(error_correction=qrcode.constants.ERROR_CORRECT_L)\n",
    "# qr.add_data('Some data')\n",
    "# img_0 = qr.make_image(image_factory=StyledPilImage, module_drawer=CircleModuleDrawer())\n",
    "# img_0.save(\"img0.png\")\n",
    "\n",
    "# taking image which user wants\n",
    "# in the QR code center\n",
    "Logo_link = 'logo.jpg'\n",
    "\n",
    "logo = Image.open(Logo_link)\n",
    "\n",
    "# taking base width\n",
    "basewidth = 100\n",
    "\n",
    "# adjust image size\n",
    "wpercent = (basewidth/float(logo.size[0]))\n",
    "hsize = int((float(logo.size[1])*float(wpercent)))\n",
    "logo = logo.resize((basewidth, hsize), Image.ANTIALIAS)\n",
    "QRcode = qrcode.QRCode(\n",
    "\terror_correction=qrcode.constants.ERROR_CORRECT_H\n",
    ")\n",
    "\n",
    "# taking url or text\n",
    "url = 'https://www.facebook.com/new.regent.nails'\n",
    "\n",
    "# adding URL or text to QRcode\n",
    "QRcode.add_data(url)\n",
    "\n",
    "# generating QR code\n",
    "QRcode.make()\n",
    "\n",
    "# taking color name from user\n",
    "QRcolor = 'Green'\n",
    "\n",
    "# adding color to QR code\n",
    "QRimg = QRcode.make_image(\n",
    "\tfill_color=QRcolor, image_factory=StyledPilImage, module_drawer=CircleModuleDrawer(), back_color=\"white\").convert('RGB')\n",
    "\n",
    "# set size of QR code\n",
    "pos = ((QRimg.size[0] - logo.size[0]) // 2,\n",
    "\t(QRimg.size[1] - logo.size[1]) // 2)\n",
    "QRimg.paste(logo, pos)\n",
    "\n",
    "# save the QR code generated\n",
    "QRimg.save('Ins_QR.png')\n",
    "\n",
    "print('QR code generated!')\n"
   ]
  }
 ],
 "metadata": {
  "kernelspec": {
   "display_name": "base",
   "language": "python",
   "name": "python3"
  },
  "language_info": {
   "codemirror_mode": {
    "name": "ipython",
    "version": 3
   },
   "file_extension": ".py",
   "mimetype": "text/x-python",
   "name": "python",
   "nbconvert_exporter": "python",
   "pygments_lexer": "ipython3",
   "version": "3.10.10"
  },
  "orig_nbformat": 4
 },
 "nbformat": 4,
 "nbformat_minor": 2
}
