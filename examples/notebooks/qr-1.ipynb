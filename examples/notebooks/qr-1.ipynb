{
 "cells": [
  {
   "cell_type": "code",
   "execution_count": 1,
   "metadata": {},
   "outputs": [
    {
     "name": "stdout",
     "output_type": "stream",
     "text": [
      "QR code generated!\n"
     ]
    },
    {
     "name": "stderr",
     "output_type": "stream",
     "text": [
      "/var/folders/m7/wjbd_q85085b8qs4ptw8jr_40000gp/T/ipykernel_8066/1253479702.py:24: DeprecationWarning: ANTIALIAS is deprecated and will be removed in Pillow 10 (2023-07-01). Use LANCZOS or Resampling.LANCZOS instead.\n",
      "  logo = logo.resize((basewidth, hsize), Image.ANTIALIAS)\n"
     ]
    }
   ],
   "source": [
    "# import modules\n",
    "import qrcode\n",
    "from PIL import Image\n",
    "from qrcode.image.styledpil import StyledPilImage\n",
    "from qrcode.image.styles.moduledrawers.pil import CircleModuleDrawer\n",
    "\n",
    "# qr = qrcode.QRCode(error_correction=qrcode.constants.ERROR_CORRECT_L)\n",
    "# qr.add_data('Some data')\n",
    "# img_0 = qr.make_image(image_factory=StyledPilImage, module_drawer=CircleModuleDrawer())\n",
    "# img_0.save(\"img0.png\")\n",
    "\n",
    "# taking image which user wants\n",
    "# in the QR code center\n",
    "Logo_link = 'logo.jpg'\n",
    "\n",
    "logo = Image.open(Logo_link)\n",
    "\n",
    "# taking base width\n",
    "basewidth = 100\n",
    "\n",
    "# adjust image size\n",
    "wpercent = (basewidth/float(logo.size[0]))\n",
    "hsize = int((float(logo.size[1])*float(wpercent)))\n",
    "logo = logo.resize((basewidth, hsize), Image.ANTIALIAS)\n",
    "QRcode = qrcode.QRCode(\n",
    "\terror_correction=qrcode.constants.ERROR_CORRECT_H\n",
    ")\n",
    "\n",
    "# taking url or text\n",
    "url = 'https://www.facebook.com/new.regent.nails'\n",
    "\n",
    "# adding URL or text to QRcode\n",
    "QRcode.add_data(url)\n",
    "\n",
    "# generating QR code\n",
    "QRcode.make()\n",
    "\n",
    "# taking color name from user\n",
    "QRcolor = 'Green'\n",
    "\n",
    "# adding color to QR code\n",
    "QRimg = QRcode.make_image(\n",
    "\tfill_color=QRcolor, image_factory=StyledPilImage, module_drawer=CircleModuleDrawer(), back_color=\"white\").convert('RGB')\n",
    "\n",
    "# set size of QR code\n",
    "pos = ((QRimg.size[0] - logo.size[0]) // 2,\n",
    "\t(QRimg.size[1] - logo.size[1]) // 2)\n",
    "QRimg.paste(logo, pos)\n",
    "\n",
    "# save the QR code generated\n",
    "QRimg.save('Ins_QR.png')\n",
    "\n",
    "print('QR code generated!')\n"
   ]
  },
  {
   "cell_type": "code",
   "execution_count": 2,
   "metadata": {},
   "outputs": [
    {
     "name": "stdout",
     "output_type": "stream",
     "text": [
      "Collecting qrcode[pil]"
     ]
    },
    {
     "name": "stderr",
     "output_type": "stream",
     "text": [
      "WARNING: Ignoring invalid distribution -iona (c:\\users\\trant\\appdata\\roaming\\python\\python39\\site-packages)\n",
      "WARNING: Ignoring invalid distribution -iona (c:\\users\\trant\\appdata\\roaming\\python\\python39\\site-packages)\n",
      "WARNING: Ignoring invalid distribution -iona (c:\\users\\trant\\appdata\\roaming\\python\\python39\\site-packages)\n",
      "    WARNING: Ignoring invalid distribution -iona (c:\\users\\trant\\appdata\\roaming\\python\\python39\\site-packages)\n",
      "WARNING: Ignoring invalid distribution -iona (c:\\users\\trant\\appdata\\roaming\\python\\python39\\site-packages)\n",
      "WARNING: Ignoring invalid distribution -iona (c:\\users\\trant\\appdata\\roaming\\python\\python39\\site-packages)\n",
      "WARNING: Ignoring invalid distribution -iona (c:\\users\\trant\\appdata\\roaming\\python\\python39\\site-packages)\n",
      "\n",
      "[notice] A new release of pip available: 22.3.1 -> 23.2\n",
      "[notice] To update, run: python.exe -m pip install --upgrade pip\n"
     ]
    },
    {
     "name": "stdout",
     "output_type": "stream",
     "text": [
      "\n",
      "  Downloading qrcode-7.4.2-py3-none-any.whl (46 kB)\n",
      "     -------------------------------------- 46.2/46.2 kB 329.9 kB/s eta 0:00:00\n",
      "Requirement already satisfied: typing-extensions in c:\\users\\trant\\anaconda3\\lib\\site-packages (from qrcode[pil]) (4.1.1)\n",
      "Requirement already satisfied: colorama in c:\\users\\trant\\appdata\\roaming\\python\\python39\\site-packages (from qrcode[pil]) (0.4.6)\n",
      "Collecting pypng\n",
      "  Using cached pypng-0.20220715.0-py3-none-any.whl (58 kB)\n",
      "Collecting pillow>=9.1.0\n",
      "  Using cached Pillow-10.0.0-cp39-cp39-win_amd64.whl (2.5 MB)\n",
      "Installing collected packages: pypng, qrcode, pillow\n",
      "  Attempting uninstall: pillow\n",
      "    Found existing installation: Pillow 9.0.1\n",
      "    Uninstalling Pillow-9.0.1:\n",
      "      Successfully uninstalled Pillow-9.0.1\n",
      "Successfully installed pillow-10.0.0 pypng-0.20220715.0 qrcode-7.4.2\n"
     ]
    }
   ],
   "source": [
    "!pip install qrcode[pil]"
   ]
  },
  {
   "cell_type": "code",
   "execution_count": 5,
   "metadata": {},
   "outputs": [],
   "source": [
    "import qrcode\n",
    "\n",
    "# Sample data to encode in the QR code\n",
    "data_to_encode = \"4\"\n",
    "\n",
    "# Create a QR code instance\n",
    "qr = qrcode.QRCode(\n",
    "    version=1,\n",
    "    error_correction=qrcode.constants.ERROR_CORRECT_L,\n",
    "    box_size=10,\n",
    "    border=4,\n",
    ")\n",
    "\n",
    "# Add data to the QR code\n",
    "qr.add_data(data_to_encode)\n",
    "qr.make(fit=True)\n",
    "\n",
    "# Create an image of the QR code using the pil module (Python Imaging Library)\n",
    "img = qr.make_image(fill_color=\"black\", back_color=\"white\")\n",
    "\n",
    "# Save the image to a file\n",
    "img.save(\"my_qr_code4.png\")\n"
   ]
  }
 ],
 "metadata": {
  "kernelspec": {
   "display_name": "base",
   "language": "python",
   "name": "python3"
  },
  "language_info": {
   "codemirror_mode": {
    "name": "ipython",
    "version": 3
   },
   "file_extension": ".py",
   "mimetype": "text/x-python",
   "name": "python",
   "nbconvert_exporter": "python",
   "pygments_lexer": "ipython3",
   "version": "3.9.12"
  },
  "orig_nbformat": 4
 },
 "nbformat": 4,
 "nbformat_minor": 2
}
