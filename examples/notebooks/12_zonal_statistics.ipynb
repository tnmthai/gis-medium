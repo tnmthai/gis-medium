{
    "cells": [
        {
            "cell_type": "code",
            "execution_count": null,
            "id": "cb6433f8",
            "metadata": {},
            "outputs": [],
            "source": [
                "# !pip install geemap\n",
                "# !pip install ee"
            ]
        },
        {
            "cell_type": "code",
            "execution_count": 1,
            "id": "9bae8cce",
            "metadata": {},
            "outputs": [],
            "source": [
                "import ee\n",
                "import geemap\n",
                "import os"
            ]
        },
        {
            "cell_type": "code",
            "execution_count": 2,
            "id": "df827a09",
            "metadata": {},
            "outputs": [
                {
                    "data": {
                        "application/vnd.jupyter.widget-view+json": {
                            "model_id": "5d61b307a5cc46aabdd87123f0fde8d3",
                            "version_major": 2,
                            "version_minor": 0
                        },
                        "text/plain": [
                            "Map(center=[20, 0], controls=(WidgetControl(options=['position', 'transparent_bg'], widget=HBox(children=(Togg…"
                        ]
                    },
                    "execution_count": 2,
                    "metadata": {},
                    "output_type": "execute_result"
                }
            ],
            "source": [
                "Map = geemap.Map()\n",
                "aoi = ee.FeatureCollection(\"FAO/GAUL/2015/level1\").filter(ee.Filter.eq('ADM1_NAME','Canterbury'))\n",
                "Map.centerObject(aoi.geometry())\n",
                "Map"
            ]
        },
        {
            "cell_type": "code",
            "execution_count": 5,
            "id": "f84c771a",
            "metadata": {},
            "outputs": [],
            "source": [
                "aoi = [-95.3704, 29.6762, -95.368, 29.6775]"
            ]
        },
        {
            "cell_type": "code",
            "execution_count": 7,
            "id": "44df4add",
            "metadata": {},
            "outputs": [
                {
                    "ename": "EEException",
                    "evalue": "Invalid GeoJSON geometry.",
                    "output_type": "error",
                    "traceback": [
                        "\u001b[0;31m---------------------------------------------------------------------------\u001b[0m",
                        "\u001b[0;31mEEException\u001b[0m                               Traceback (most recent call last)",
                        "Cell \u001b[0;32mIn[7], line 3\u001b[0m\n\u001b[1;32m      1\u001b[0m \u001b[39m# Filter Sentinel-2A images between 2022 and 2023 for New Zealand\u001b[39;00m\n\u001b[1;32m      2\u001b[0m sentinel \u001b[39m=\u001b[39m ee\u001b[39m.\u001b[39;49mImageCollection(\u001b[39m'\u001b[39;49m\u001b[39mCOPERNICUS/S2_SR\u001b[39;49m\u001b[39m'\u001b[39;49m) \\\n\u001b[0;32m----> 3\u001b[0m     \u001b[39m.\u001b[39;49mfilterBounds(aoi) \\\n\u001b[1;32m      4\u001b[0m     \u001b[39m.\u001b[39mfilterDate(\u001b[39m'\u001b[39m\u001b[39m2022-01-01\u001b[39m\u001b[39m'\u001b[39m, \u001b[39m'\u001b[39m\u001b[39m2022-12-31\u001b[39m\u001b[39m'\u001b[39m)\\\n\u001b[1;32m      7\u001b[0m \u001b[39m# Plot Sentinel-2A images\u001b[39;00m\n\u001b[1;32m      8\u001b[0m vis_params \u001b[39m=\u001b[39m {\u001b[39m'\u001b[39m\u001b[39mbands\u001b[39m\u001b[39m'\u001b[39m: [\u001b[39m'\u001b[39m\u001b[39mB8\u001b[39m\u001b[39m'\u001b[39m, \u001b[39m'\u001b[39m\u001b[39mB4\u001b[39m\u001b[39m'\u001b[39m, \u001b[39m'\u001b[39m\u001b[39mB3\u001b[39m\u001b[39m'\u001b[39m], \u001b[39m'\u001b[39m\u001b[39mmin\u001b[39m\u001b[39m'\u001b[39m: \u001b[39m0\u001b[39m, \u001b[39m'\u001b[39m\u001b[39mmax\u001b[39m\u001b[39m'\u001b[39m: \u001b[39m3000\u001b[39m}\n",
                        "File \u001b[0;32m~/anaconda3/envs/geosense/lib/python3.10/site-packages/ee/collection.py:99\u001b[0m, in \u001b[0;36mCollection.filterBounds\u001b[0;34m(self, geometry)\u001b[0m\n\u001b[1;32m     80\u001b[0m \u001b[39mdef\u001b[39;00m \u001b[39mfilterBounds\u001b[39m(\u001b[39mself\u001b[39m, geometry):\n\u001b[1;32m     81\u001b[0m \u001b[39m  \u001b[39m\u001b[39m\"\"\"Shortcut to add a geometry filter to a collection.\u001b[39;00m\n\u001b[1;32m     82\u001b[0m \n\u001b[1;32m     83\u001b[0m \u001b[39m  Items in the collection with a footprint that fails to intersect\u001b[39;00m\n\u001b[0;32m   (...)\u001b[0m\n\u001b[1;32m     97\u001b[0m \u001b[39m    The filtered collection.\u001b[39;00m\n\u001b[1;32m     98\u001b[0m \u001b[39m  \"\"\"\u001b[39;00m\n\u001b[0;32m---> 99\u001b[0m   \u001b[39mreturn\u001b[39;00m \u001b[39mself\u001b[39m\u001b[39m.\u001b[39mfilter(\u001b[39mfilter\u001b[39;49m\u001b[39m.\u001b[39;49mFilter\u001b[39m.\u001b[39;49mgeometry(geometry))\n",
                        "File \u001b[0;32m~/anaconda3/envs/geosense/lib/python3.10/site-packages/ee/filter.py:284\u001b[0m, in \u001b[0;36mFilter.geometry\u001b[0;34m(geometry, opt_errorMargin)\u001b[0m\n\u001b[1;32m    267\u001b[0m \u001b[39m\u001b[39m\u001b[39m\"\"\"Filter on intersection with geometry.\u001b[39;00m\n\u001b[1;32m    268\u001b[0m \n\u001b[1;32m    269\u001b[0m \u001b[39mItems in the collection with a footprint that fails to intersect\u001b[39;00m\n\u001b[0;32m   (...)\u001b[0m\n\u001b[1;32m    279\u001b[0m \u001b[39m  The constructed filter.\u001b[39;00m\n\u001b[1;32m    280\u001b[0m \u001b[39m\"\"\"\u001b[39;00m\n\u001b[1;32m    281\u001b[0m \u001b[39m# Invoke geometry promotion then manually promote to a Feature.\u001b[39;00m\n\u001b[1;32m    282\u001b[0m args \u001b[39m=\u001b[39m {\n\u001b[1;32m    283\u001b[0m     \u001b[39m'\u001b[39m\u001b[39mleftField\u001b[39m\u001b[39m'\u001b[39m: \u001b[39m'\u001b[39m\u001b[39m.all\u001b[39m\u001b[39m'\u001b[39m,\n\u001b[0;32m--> 284\u001b[0m     \u001b[39m'\u001b[39m\u001b[39mrightValue\u001b[39m\u001b[39m'\u001b[39m: apifunction\u001b[39m.\u001b[39;49mApiFunction\u001b[39m.\u001b[39;49mcall_(\u001b[39m'\u001b[39;49m\u001b[39mFeature\u001b[39;49m\u001b[39m'\u001b[39;49m, geometry)\n\u001b[1;32m    285\u001b[0m }\n\u001b[1;32m    286\u001b[0m \u001b[39mif\u001b[39;00m opt_errorMargin \u001b[39mis\u001b[39;00m \u001b[39mnot\u001b[39;00m \u001b[39mNone\u001b[39;00m:\n\u001b[1;32m    287\u001b[0m   args[\u001b[39m'\u001b[39m\u001b[39mmaxError\u001b[39m\u001b[39m'\u001b[39m] \u001b[39m=\u001b[39m opt_errorMargin\n",
                        "File \u001b[0;32m~/anaconda3/envs/geosense/lib/python3.10/site-packages/ee/apifunction.py:81\u001b[0m, in \u001b[0;36mApiFunction.call_\u001b[0;34m(cls, name, *args, **kwargs)\u001b[0m\n\u001b[1;32m     68\u001b[0m \u001b[39m@classmethod\u001b[39m\n\u001b[1;32m     69\u001b[0m \u001b[39mdef\u001b[39;00m \u001b[39mcall_\u001b[39m(\u001b[39mcls\u001b[39m, name, \u001b[39m*\u001b[39margs, \u001b[39m*\u001b[39m\u001b[39m*\u001b[39mkwargs):\n\u001b[1;32m     70\u001b[0m \u001b[39m  \u001b[39m\u001b[39m\"\"\"Call a named API function with positional and keyword arguments.\u001b[39;00m\n\u001b[1;32m     71\u001b[0m \n\u001b[1;32m     72\u001b[0m \u001b[39m  Args:\u001b[39;00m\n\u001b[0;32m   (...)\u001b[0m\n\u001b[1;32m     79\u001b[0m \u001b[39m    a recognized return type, the returned value will be cast to that type.\u001b[39;00m\n\u001b[1;32m     80\u001b[0m \u001b[39m  \"\"\"\u001b[39;00m\n\u001b[0;32m---> 81\u001b[0m   \u001b[39mreturn\u001b[39;00m \u001b[39mcls\u001b[39;49m\u001b[39m.\u001b[39;49mlookup(name)\u001b[39m.\u001b[39;49mcall(\u001b[39m*\u001b[39;49margs, \u001b[39m*\u001b[39;49m\u001b[39m*\u001b[39;49mkwargs)\n",
                        "File \u001b[0;32m~/anaconda3/envs/geosense/lib/python3.10/site-packages/ee/function.py:67\u001b[0m, in \u001b[0;36mFunction.call\u001b[0;34m(self, *args, **kwargs)\u001b[0m\n\u001b[1;32m     55\u001b[0m \u001b[39mdef\u001b[39;00m \u001b[39mcall\u001b[39m(\u001b[39mself\u001b[39m, \u001b[39m*\u001b[39margs, \u001b[39m*\u001b[39m\u001b[39m*\u001b[39mkwargs):\n\u001b[1;32m     56\u001b[0m \u001b[39m  \u001b[39m\u001b[39m\"\"\"Calls the function with the given positional and keyword arguments.\u001b[39;00m\n\u001b[1;32m     57\u001b[0m \n\u001b[1;32m     58\u001b[0m \u001b[39m  Args:\u001b[39;00m\n\u001b[0;32m   (...)\u001b[0m\n\u001b[1;32m     65\u001b[0m \u001b[39m    to that type.\u001b[39;00m\n\u001b[1;32m     66\u001b[0m \u001b[39m  \"\"\"\u001b[39;00m\n\u001b[0;32m---> 67\u001b[0m   \u001b[39mreturn\u001b[39;00m \u001b[39mself\u001b[39;49m\u001b[39m.\u001b[39;49mapply(\u001b[39mself\u001b[39;49m\u001b[39m.\u001b[39;49mnameArgs(args, kwargs))\n",
                        "File \u001b[0;32m~/anaconda3/envs/geosense/lib/python3.10/site-packages/ee/function.py:80\u001b[0m, in \u001b[0;36mFunction.apply\u001b[0;34m(self, named_args)\u001b[0m\n\u001b[1;32m     69\u001b[0m \u001b[39mdef\u001b[39;00m \u001b[39mapply\u001b[39m(\u001b[39mself\u001b[39m, named_args):\n\u001b[1;32m     70\u001b[0m \u001b[39m  \u001b[39m\u001b[39m\"\"\"Calls the function with a dictionary of named arguments.\u001b[39;00m\n\u001b[1;32m     71\u001b[0m \n\u001b[1;32m     72\u001b[0m \u001b[39m  Args:\u001b[39;00m\n\u001b[0;32m   (...)\u001b[0m\n\u001b[1;32m     78\u001b[0m \u001b[39m    to that type.\u001b[39;00m\n\u001b[1;32m     79\u001b[0m \u001b[39m  \"\"\"\u001b[39;00m\n\u001b[0;32m---> 80\u001b[0m   result \u001b[39m=\u001b[39m computedobject\u001b[39m.\u001b[39mComputedObject(\u001b[39mself\u001b[39m, \u001b[39mself\u001b[39;49m\u001b[39m.\u001b[39;49mpromoteArgs(named_args))\n\u001b[1;32m     81\u001b[0m   \u001b[39mreturn\u001b[39;00m Function\u001b[39m.\u001b[39m_promoter(result, \u001b[39mself\u001b[39m\u001b[39m.\u001b[39mgetReturnType())\n",
                        "File \u001b[0;32m~/anaconda3/envs/geosense/lib/python3.10/site-packages/ee/function.py:108\u001b[0m, in \u001b[0;36mFunction.promoteArgs\u001b[0;34m(self, args)\u001b[0m\n\u001b[1;32m    106\u001b[0m name \u001b[39m=\u001b[39m arg_spec[\u001b[39m'\u001b[39m\u001b[39mname\u001b[39m\u001b[39m'\u001b[39m]\n\u001b[1;32m    107\u001b[0m \u001b[39mif\u001b[39;00m name \u001b[39min\u001b[39;00m args:\n\u001b[0;32m--> 108\u001b[0m   promoted_args[name] \u001b[39m=\u001b[39m Function\u001b[39m.\u001b[39;49m_promoter(args[name], arg_spec[\u001b[39m'\u001b[39;49m\u001b[39mtype\u001b[39;49m\u001b[39m'\u001b[39;49m])\n\u001b[1;32m    109\u001b[0m \u001b[39melif\u001b[39;00m \u001b[39mnot\u001b[39;00m arg_spec\u001b[39m.\u001b[39mget(\u001b[39m'\u001b[39m\u001b[39moptional\u001b[39m\u001b[39m'\u001b[39m):\n\u001b[1;32m    110\u001b[0m   \u001b[39mraise\u001b[39;00m ee_exception\u001b[39m.\u001b[39mEEException(\n\u001b[1;32m    111\u001b[0m       \u001b[39m'\u001b[39m\u001b[39mRequired argument (\u001b[39m\u001b[39m%s\u001b[39;00m\u001b[39m) missing to function: \u001b[39m\u001b[39m%s\u001b[39;00m\u001b[39m'\u001b[39m\n\u001b[1;32m    112\u001b[0m       \u001b[39m%\u001b[39m (name, signature\u001b[39m.\u001b[39mget(\u001b[39m'\u001b[39m\u001b[39mname\u001b[39m\u001b[39m'\u001b[39m)))\n",
                        "File \u001b[0;32m~/anaconda3/envs/geosense/lib/python3.10/site-packages/ee/__init__.py:239\u001b[0m, in \u001b[0;36m_Promote\u001b[0;34m(arg, klass)\u001b[0m\n\u001b[1;32m    237\u001b[0m     \u001b[39mreturn\u001b[39;00m ApiFunction\u001b[39m.\u001b[39mcall_(\u001b[39m'\u001b[39m\u001b[39mCollection.geometry\u001b[39m\u001b[39m'\u001b[39m, arg)\n\u001b[1;32m    238\u001b[0m   \u001b[39melse\u001b[39;00m:\n\u001b[0;32m--> 239\u001b[0m     \u001b[39mreturn\u001b[39;00m Geometry(arg)\n\u001b[1;32m    240\u001b[0m \u001b[39melif\u001b[39;00m klass \u001b[39min\u001b[39;00m (\u001b[39m'\u001b[39m\u001b[39mFeatureCollection\u001b[39m\u001b[39m'\u001b[39m, \u001b[39m'\u001b[39m\u001b[39mCollection\u001b[39m\u001b[39m'\u001b[39m):\n\u001b[1;32m    241\u001b[0m   \u001b[39m# For now Collection is synonymous with FeatureCollection.\u001b[39;00m\n\u001b[1;32m    242\u001b[0m   \u001b[39mif\u001b[39;00m \u001b[39misinstance\u001b[39m(arg, Collection):\n",
                        "File \u001b[0;32m~/anaconda3/envs/geosense/lib/python3.10/site-packages/ee/computedobject.py:31\u001b[0m, in \u001b[0;36mComputedObjectMetaclass.__call__\u001b[0;34m(cls, *args, **kwargs)\u001b[0m\n\u001b[1;32m     29\u001b[0m   \u001b[39mreturn\u001b[39;00m args[\u001b[39m0\u001b[39m]\n\u001b[1;32m     30\u001b[0m \u001b[39melse\u001b[39;00m:\n\u001b[0;32m---> 31\u001b[0m   \u001b[39mreturn\u001b[39;00m \u001b[39mtype\u001b[39;49m\u001b[39m.\u001b[39;49m\u001b[39m__call__\u001b[39;49m(\u001b[39mcls\u001b[39;49m, \u001b[39m*\u001b[39;49margs, \u001b[39m*\u001b[39;49m\u001b[39m*\u001b[39;49mkwargs)\n",
                        "File \u001b[0;32m~/anaconda3/envs/geosense/lib/python3.10/site-packages/ee/geometry.py:86\u001b[0m, in \u001b[0;36mGeometry.__init__\u001b[0;34m(self, geo_json, opt_proj, opt_geodesic, opt_evenOdd)\u001b[0m\n\u001b[1;32m     83\u001b[0m   geo_json \u001b[39m=\u001b[39m geo_json\u001b[39m.\u001b[39mencode()\n\u001b[1;32m     85\u001b[0m \u001b[39mif\u001b[39;00m \u001b[39mnot\u001b[39;00m Geometry\u001b[39m.\u001b[39m_isValidGeometry(geo_json):\n\u001b[0;32m---> 86\u001b[0m   \u001b[39mraise\u001b[39;00m ee_exception\u001b[39m.\u001b[39mEEException(\u001b[39m'\u001b[39m\u001b[39mInvalid GeoJSON geometry.\u001b[39m\u001b[39m'\u001b[39m)\n\u001b[1;32m     88\u001b[0m \u001b[39msuper\u001b[39m(Geometry, \u001b[39mself\u001b[39m)\u001b[39m.\u001b[39m\u001b[39m__init__\u001b[39m(\u001b[39mNone\u001b[39;00m, \u001b[39mNone\u001b[39;00m)\n\u001b[1;32m     90\u001b[0m \u001b[39m# The type of the geometry.\u001b[39;00m\n",
                        "\u001b[0;31mEEException\u001b[0m: Invalid GeoJSON geometry."
                    ]
                }
            ],
            "source": [
                "# Filter Sentinel-2A images between 2022 and 2023 for New Zealand\n",
                "sentinel = ee.ImageCollection('COPERNICUS/S2_SR') \\\n",
                "    .filterBounds(aoi) \\\n",
                "    .filterDate('2022-01-01', '2022-12-31')\\\n",
                "\n",
                "\n",
                "# Plot Sentinel-2A images\n",
                "vis_params = {'bands': ['B8', 'B4', 'B3'], 'min': 0, 'max': 3000}\n",
                "Map.addLayer(sentinel.median().clip(aoi), vis_params, 'Sentinel-2A')\n",
                "\n",
                "\n"
            ]
        },
        {
            "cell_type": "code",
            "execution_count": 5,
            "id": "14d2242d",
            "metadata": {},
            "outputs": [],
            "source": [
                "out_dir = os.path.join(os.path.expanduser('~'), 'Downloads')\n",
                "out_stats = os.path.join(out_dir, 'stats.csv')\n",
                "\n",
                "if not os.path.exists(out_dir):\n",
                "    os.makedirs(out_dir)\n",
                "\n",
                "# Allowed output formats: csv, shp, json, kml, kmz\n",
                "# Allowed statistics type: MEAN, MAXIMUM, MINIMUM, MEDIAN, STD, MIN_MAX, VARIANCE, SUM\n",
                "geemap.zonal_statistics(sentinel, aoi, out_stats, statistics_type='MEAN', scale=5000000)"
            ]
        },
        {
            "cell_type": "code",
            "execution_count": null,
            "id": "024443d7",
            "metadata": {},
            "outputs": [],
            "source": [
                "geemap.create_download_link(out_stats)"
            ]
        }
    ],
    "metadata": {
        "kernelspec": {
            "display_name": "Python 3",
            "language": "python",
            "name": "python3"
        },
        "language_info": {
            "codemirror_mode": {
                "name": "ipython",
                "version": 3
            },
            "file_extension": ".py",
            "mimetype": "text/x-python",
            "name": "python",
            "nbconvert_exporter": "python",
            "pygments_lexer": "ipython3",
            "version": "3.10.12"
        }
    },
    "nbformat": 4,
    "nbformat_minor": 5
}
