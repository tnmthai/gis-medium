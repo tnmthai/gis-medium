{
 "cells": [
  {
   "cell_type": "code",
   "execution_count": 10,
   "metadata": {},
   "outputs": [],
   "source": [
    "# Import libs\n",
    "import geemap, ee\n",
    "import geemap.colormaps as cm\n",
    "# initialize our map\n",
    "Map = geemap.Map()"
   ]
  },
  {
   "cell_type": "code",
   "execution_count": 11,
   "metadata": {},
   "outputs": [],
   "source": [
    "# get our Nepal boundary\n",
    "# I have taken level 0 data for country data from FAO datasets\n",
    "aoi = ee.FeatureCollection(\"FAO/GAUL/2015/level0\")\\\n",
    "   .filter(ee.Filter.eq('ADM0_NAME','Nepal')).geometry() # adjust indentation here, May get error"
   ]
  },
  {
   "cell_type": "code",
   "execution_count": 12,
   "metadata": {},
   "outputs": [],
   "source": [
    "def getEVI(image):\n",
    "    # Compute the EVI using an expression.\n",
    "    EVI = image.expression(\n",
    "        '2.5 * ((NIR - RED) / (NIR + 6 * RED - 7.5 * BLUE + 1))', {\n",
    "            'NIR': image.select('B8').divide(10000),\n",
    "            'RED': image.select('B4').divide(10000),\n",
    "            'BLUE': image.select('B2').divide(10000)\n",
    "        }).rename(\"EVI\")\n",
    "\n",
    "    image = image.addBands(EVI)\n",
    "\n",
    "    return(image)"
   ]
  },
  {
   "cell_type": "code",
   "execution_count": 13,
   "metadata": {},
   "outputs": [],
   "source": [
    "def addDate(image):\n",
    "    img_date = ee.Date(image.date())\n",
    "    img_date = ee.Number.parse(img_date.format('YYYYMMdd'))\n",
    "    return image.addBands(ee.Image(img_date).rename('date').toInt())"
   ]
  },
  {
   "cell_type": "code",
   "execution_count": 14,
   "metadata": {},
   "outputs": [],
   "source": [
    "# filter sentinel 2 images and apply the EVI formula, finally we obtain \n",
    "# single image with median operation\n",
    "\n",
    "Sentinel_data = ee.ImageCollection('COPERNICUS/S2') \\\n",
    "    .filterDate(\"2022-03-01\",\"2022-03-31\").filterBounds(aoi) \\\n",
    "    .map(getEVI).map(addDate).median()"
   ]
  },
  {
   "cell_type": "code",
   "execution_count": 15,
   "metadata": {},
   "outputs": [],
   "source": [
    "# set some thresholds\n",
    "#  A nice EVI palette\n",
    "palett = [\n",
    "    'FFFFFF', 'CE7E45', 'DF923D', 'F1B555', 'FCD163', '99B718',\n",
    "    '74A901', '66A000', '529400', '3E8601', '207401', '056201',\n",
    "    '004C00', '023B01', '012E01', '011D01', '011301']\n",
    "\n",
    "pall = {\"min\":0.1, \"max\":0.8, 'palette':palett}\n",
    "\n",
    "\n",
    "\n",
    "Map.centerObject(aoi, 8)\n",
    "Map.addLayer(Sentinel_data.clip(aoi).select('EVI'), pall, \"EVI\")\n",
    "\n",
    "Map.addLayerControl()\n",
    "Map = geemap.Map()\n"
   ]
  }
 ],
 "metadata": {
  "kernelspec": {
   "display_name": "geosense",
   "language": "python",
   "name": "python3"
  },
  "language_info": {
   "codemirror_mode": {
    "name": "ipython",
    "version": 3
   },
   "file_extension": ".py",
   "mimetype": "text/x-python",
   "name": "python",
   "nbconvert_exporter": "python",
   "pygments_lexer": "ipython3",
   "version": "3.10.12"
  },
  "orig_nbformat": 4
 },
 "nbformat": 4,
 "nbformat_minor": 2
}
