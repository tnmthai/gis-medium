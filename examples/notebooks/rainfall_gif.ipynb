{
 "cells": [
  {
   "cell_type": "code",
   "execution_count": 14,
   "metadata": {},
   "outputs": [],
   "source": [
    "import geemap\n",
    "import ee\n",
    "map = geemap.Map()"
   ]
  },
  {
   "cell_type": "code",
   "execution_count": 15,
   "metadata": {},
   "outputs": [],
   "source": [
    "nzl = ee.FeatureCollection(\"FAO/GAUL/2015/level0\").filter(ee.Filter.eq('ADM0_NAME','New Zealand'))\n",
    "# Define the regional bounds for animation frames.\n",
    "region = nzl.geometry().bounds();"
   ]
  },
  {
   "cell_type": "code",
   "execution_count": 16,
   "metadata": {},
   "outputs": [],
   "source": [
    "# set start date for analysis\n",
    "startDate = '2022-01-01';\n",
    "# set end date for analysis\n",
    "endDate = '2022-12-31';\n",
    "#filter the image collection using dates\n",
    "pptCol = ee.ImageCollection(\"UCSB-CHG/CHIRPS/DAILY\")\\\n",
    "        .filterDate(startDate, endDate)\\\n",
    "        .select('precipitation');\n",
    "# Setting year and month as a property of every image which will later be used to form monthly composites\n",
    "def set_yymm(img):\n",
    "    return img.set('yymm', img.id().slice(0,6))\n",
    "pptCol = pptCol.map(set_yymm)\n",
    "# Define a list of unique observation months from the image collection.\n",
    "yymmList = ee.List(pptCol.aggregate_array('yymm')).distinct().sort();\n",
    "# Function to sum up the daily precipitation data of each month \n",
    "def groupByMonth(yymm):\n",
    "    pptMonth = pptCol.filterMetadata('yymm', 'equals', yymm)\\\n",
    "                .sum()\\\n",
    "                .clip(nzl)\\\n",
    "                .set('yymm', yymm);\n",
    "    return pptMonth\n",
    "# Map the function over the list of months to build a collection of monthly image composites.\n",
    "pptMonthList = yymmList.map(groupByMonth);\n",
    "pptByYYMM = ee.ImageCollection.fromImages(pptMonthList);"
   ]
  },
  {
   "cell_type": "code",
   "execution_count": 36,
   "metadata": {},
   "outputs": [
    {
     "data": {
      "text/plain": [
       "(364, 12)"
      ]
     },
     "execution_count": 36,
     "metadata": {},
     "output_type": "execute_result"
    }
   ],
   "source": [
    "pptCol.size().getInfo(), pptByYYMM.size().getInfo()\n"
   ]
  },
  {
   "cell_type": "code",
   "execution_count": 26,
   "metadata": {},
   "outputs": [],
   "source": [
    "# We use 20 year data to construct a baseline figure \n",
    "baseCol = ee.ImageCollection(\"UCSB-CHG/CHIRPS/DAILY\")\\\n",
    "        .filterDate('2000-01-01','2020-01-01')\\\n",
    "        .select('precipitation');\n",
    "# Create a list of months\n",
    "months = ee.List.sequence(1, 12);\n",
    "# Function to find the average monthly precipitation\n",
    "def avgByMonth(m):\n",
    "    img = baseCol.filter(ee.Filter.calendarRange(m,m, 'month')).sum().divide(10).clip(nzl);\n",
    "    return img.set('mm',ee.Number(m).format('%02d'));\n",
    "# Map over the list of months to build a collection of long term average monthly precipitation composites\n",
    "baseMonthCol = ee.ImageCollection.fromImages(months.map(avgByMonth))"
   ]
  },
  {
   "cell_type": "code",
   "execution_count": 27,
   "metadata": {},
   "outputs": [],
   "source": [
    "# Compare the monthly composites against the corresponding baseline to arrive at the deficit figures\n",
    "def calc_deficit(img):\n",
    "    \n",
    "    mm = ee.String(img.get('yymm')).slice(4,6); \n",
    "    base = baseMonthCol.filterMetadata('mm','equals',mm).first();\n",
    "    deficit = base.subtract(img).divide(base).set('yymm', img.get('yymm'));\n",
    "    return deficit;\n",
    "deficitByMonth = pptByYYMM.map(calc_deficit);"
   ]
  },
  {
   "cell_type": "code",
   "execution_count": 28,
   "metadata": {},
   "outputs": [],
   "source": [
    "# Remove deficit of arid areas from visualisation. We define an area as arid if its annual rainfall is less than 500mm.\n",
    "baseAnnualCol = baseMonthCol.sum();\n",
    "notArid = baseAnnualCol.gt(500);\n",
    "def arid_rem(img):\n",
    "    return img.multiply(notArid);\n",
    "deficitByMonth = deficitByMonth.map(arid_rem);"
   ]
  },
  {
   "cell_type": "code",
   "execution_count": 37,
   "metadata": {},
   "outputs": [],
   "source": [
    "# Define RGB visualization parameters.\n",
    "visParams = {\n",
    "    'min' : 0,\n",
    "    'max' : 1,\n",
    "    'palette': ['e6ffe6','ffffff', 'fff633', 'fc0703']\n",
    "};"
   ]
  },
  {
   "cell_type": "code",
   "execution_count": 30,
   "metadata": {},
   "outputs": [],
   "source": [
    "# Create an empty image into which to paint the features.\n",
    "transparent = ee.Image();\n",
    "empty = ee.Image.cat([transparent, transparent,transparent]);\n",
    "# Select and (optionally) rename bands.\n",
    "empty = empty.select(\n",
    "    ['constant', 'constant_1', 'constant_2'], #old names\n",
    "    ['vis-red', 'vis-green', 'vis-blue']  #new names\n",
    ");\n",
    "# Paint all the polygon edges with the same number and width, display.\n",
    "outline = empty.paint(\n",
    "    featureCollection = nzl,\n",
    "    color = 1,\n",
    "    width = 1);"
   ]
  },
  {
   "cell_type": "code",
   "execution_count": 31,
   "metadata": {},
   "outputs": [],
   "source": [
    "def rgb_fc_mosaic(img):\n",
    "    #Create RGB visualization images for use as animation frames.\n",
    "    imgRGB = img.visualize(**visParams).clip(nzl)\n",
    "#   Mosaic the visualization layers and display (or export).\n",
    "    mosaic = ee.ImageCollection([imgRGB, outline]).mosaic()\n",
    "    return mosaic\n",
    "rgbVis = deficitByMonth.map(rgb_fc_mosaic);"
   ]
  },
  {
   "cell_type": "code",
   "execution_count": 32,
   "metadata": {},
   "outputs": [
    {
     "name": "stdout",
     "output_type": "stream",
     "text": [
      "https://earthengine.googleapis.com/v1alpha/projects/earthengine-legacy/videoThumbnails/f958eac467c62bcb2c93e06ff4c3a5b8-f84ccda3854121e7dac28d6207df4b24:getPixels\n"
     ]
    }
   ],
   "source": [
    "# Define GIF visualization parameters.\n",
    "gifParams = {\n",
    "  'region': region,\n",
    "  'dimensions': 600,\n",
    "  'crs': 'EPSG:3857',\n",
    "  'framesPerSecond': 1\n",
    "};\n",
    "# Print the GIF URL to the console.\n",
    "print(rgbVis.getVideoThumbURL(gifParams));"
   ]
  },
  {
   "cell_type": "code",
   "execution_count": 33,
   "metadata": {},
   "outputs": [],
   "source": [
    "import pandas as pd\n",
    "text = pd.date_range(startDate, endDate, \n",
    "              freq='MS').strftime(\"%b-%Y\").tolist()\n",
    "# Add the months information on each frame of GIF\n",
    "in_gif = 'nzl.gif'\n",
    "out_gif = 'nzl_drought_out.gif'\n",
    "geemap.add_text_to_gif(in_gif, out_gif, xy = ('40%', '0%'), text_sequence = text, font_size=30, font_color = '#ffffff',duration = 1000)"
   ]
  },
  {
   "cell_type": "code",
   "execution_count": 34,
   "metadata": {},
   "outputs": [
    {
     "data": {
      "application/vnd.jupyter.widget-view+json": {
       "model_id": "8f11f2fdedc14c7d89d2016679d134d1",
       "version_major": 2,
       "version_minor": 0
      },
      "text/plain": [
       "Output()"
      ]
     },
     "metadata": {},
     "output_type": "display_data"
    }
   ],
   "source": [
    "geemap.show_image(out_gif)"
   ]
  }
 ],
 "metadata": {
  "kernelspec": {
   "display_name": "geosense",
   "language": "python",
   "name": "python3"
  },
  "language_info": {
   "codemirror_mode": {
    "name": "ipython",
    "version": 3
   },
   "file_extension": ".py",
   "mimetype": "text/x-python",
   "name": "python",
   "nbconvert_exporter": "python",
   "pygments_lexer": "ipython3",
   "version": "3.11.0"
  },
  "orig_nbformat": 4
 },
 "nbformat": 4,
 "nbformat_minor": 2
}
