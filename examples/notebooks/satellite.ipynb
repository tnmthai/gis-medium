{
 "cells": [
  {
   "cell_type": "markdown",
   "metadata": {},
   "source": [
    "# Segment Anything Model for Geospatial Data \n",
    "\n",
    "[![image](https://studiolab.sagemaker.aws/studiolab.svg)](https://studiolab.sagemaker.aws/import/github/opengeos/segment-geospatial/blob/main/docs/examples/satellite.ipynb)\n",
    "[![image](https://img.shields.io/badge/Open-Planetary%20Computer-black?style=flat&logo=microsoft)](https://pccompute.westeurope.cloudapp.azure.com/compute/hub/user-redirect/git-pull?repo=https://github.com/opengeos/segment-geospatial&urlpath=lab/tree/segment-geospatial/docs/examples/satellite.ipynb&branch=main)\n",
    "[![image](https://colab.research.google.com/assets/colab-badge.svg)](https://colab.research.google.com/github/opengeos/segment-geospatial/blob/main/docs/examples/satellite.ipynb)\n",
    "\n",
    "This notebook shows how to use segment satellite imagery using the Segment Anything Model (SAM) with a few lines of code. \n",
    "\n",
    "Make sure you use GPU runtime for this notebook. For Google Colab, go to `Runtime` -> `Change runtime type` and select `GPU` as the hardware accelerator. "
   ]
  },
  {
   "cell_type": "markdown",
   "metadata": {},
   "source": [
    "## Install dependencies\n",
    "\n",
    "Uncomment and run the following cell to install the required dependencies.\n"
   ]
  },
  {
   "cell_type": "code",
   "execution_count": 2,
   "metadata": {
    "colab": {
     "base_uri": "https://localhost:8080/"
    },
    "outputId": "6924c5c8-39a0-4ac6-f114-9f1f8d102e88"
   },
   "outputs": [
    {
     "name": "stdout",
     "output_type": "stream",
     "text": [
      "Requirement already satisfied: segment-geospatial in /Users/tnmthai/anaconda3/envs/gee/lib/python3.11/site-packages (0.5.0)\n",
      "Collecting leafmap\n",
      "  Downloading leafmap-0.20.2-py2.py3-none-any.whl (1.8 MB)\n",
      "\u001b[2K     \u001b[90m━━━━━━━━━━━━━━━━━━━━━━━━━━━━━━━━━━━━━━━━\u001b[0m \u001b[32m1.8/1.8 MB\u001b[0m \u001b[31m5.4 MB/s\u001b[0m eta \u001b[36m0:00:00\u001b[0ma \u001b[36m0:00:01\u001b[0mm\n",
      "\u001b[?25hRequirement already satisfied: localtileserver in /Users/tnmthai/anaconda3/envs/gee/lib/python3.11/site-packages (0.6.4)\n",
      "Requirement already satisfied: segment-anything-py in /Users/tnmthai/anaconda3/envs/gee/lib/python3.11/site-packages (from segment-geospatial) (1.0)\n",
      "Requirement already satisfied: opencv-python in /Users/tnmthai/anaconda3/envs/gee/lib/python3.11/site-packages (from segment-geospatial) (4.7.0.72)\n",
      "Requirement already satisfied: pycocotools in /Users/tnmthai/anaconda3/envs/gee/lib/python3.11/site-packages (from segment-geospatial) (2.0.6)\n",
      "Requirement already satisfied: matplotlib in /Users/tnmthai/anaconda3/envs/gee/lib/python3.11/site-packages (from segment-geospatial) (3.7.1)\n",
      "Requirement already satisfied: onnx in /Users/tnmthai/anaconda3/envs/gee/lib/python3.11/site-packages (from segment-geospatial) (1.14.0)\n",
      "Requirement already satisfied: geopandas in /Users/tnmthai/anaconda3/envs/gee/lib/python3.11/site-packages (from segment-geospatial) (0.12.2)\n",
      "Requirement already satisfied: rasterio in /Users/tnmthai/anaconda3/envs/gee/lib/python3.11/site-packages (from segment-geospatial) (1.3.6)\n",
      "Requirement already satisfied: tqdm in /Users/tnmthai/anaconda3/envs/gee/lib/python3.11/site-packages (from segment-geospatial) (4.65.0)\n",
      "Requirement already satisfied: gdown in /Users/tnmthai/anaconda3/envs/gee/lib/python3.11/site-packages (from segment-geospatial) (4.7.1)\n",
      "Requirement already satisfied: xyzservices in /Users/tnmthai/anaconda3/envs/gee/lib/python3.11/site-packages (from segment-geospatial) (2023.2.0)\n",
      "Requirement already satisfied: pyproj in /Users/tnmthai/anaconda3/envs/gee/lib/python3.11/site-packages (from segment-geospatial) (3.5.0)\n",
      "Requirement already satisfied: bqplot in /Users/tnmthai/anaconda3/envs/gee/lib/python3.11/site-packages (from leafmap) (0.12.39)\n",
      "Requirement already satisfied: colour in /Users/tnmthai/anaconda3/envs/gee/lib/python3.11/site-packages (from leafmap) (0.1.5)\n",
      "Collecting folium<=0.13.0,>=0.11.0 (from leafmap)\n",
      "  Downloading folium-0.13.0-py2.py3-none-any.whl (96 kB)\n",
      "\u001b[2K     \u001b[90m━━━━━━━━━━━━━━━━━━━━━━━━━━━━━━━━━━━━━━━━\u001b[0m \u001b[32m96.5/96.5 kB\u001b[0m \u001b[31m11.0 MB/s\u001b[0m eta \u001b[36m0:00:00\u001b[0m\n",
      "\u001b[?25hRequirement already satisfied: geojson in /Users/tnmthai/anaconda3/envs/gee/lib/python3.11/site-packages (from leafmap) (3.0.1)\n",
      "Requirement already satisfied: ipyevents in /Users/tnmthai/anaconda3/envs/gee/lib/python3.11/site-packages (from leafmap) (2.0.1)\n",
      "Requirement already satisfied: ipyfilechooser>=0.6.0 in /Users/tnmthai/anaconda3/envs/gee/lib/python3.11/site-packages (from leafmap) (0.6.0)\n",
      "Requirement already satisfied: ipyleaflet>=0.17.0 in /Users/tnmthai/anaconda3/envs/gee/lib/python3.11/site-packages (from leafmap) (0.17.2)\n",
      "Requirement already satisfied: ipywidgets<8.0.0 in /Users/tnmthai/anaconda3/envs/gee/lib/python3.11/site-packages (from leafmap) (7.7.5)\n",
      "Requirement already satisfied: numpy in /Users/tnmthai/anaconda3/envs/gee/lib/python3.11/site-packages (from leafmap) (1.24.2)\n",
      "Requirement already satisfied: pandas in /Users/tnmthai/anaconda3/envs/gee/lib/python3.11/site-packages (from leafmap) (2.0.0)\n",
      "Requirement already satisfied: pyshp>=2.1.3 in /Users/tnmthai/anaconda3/envs/gee/lib/python3.11/site-packages (from leafmap) (2.3.1)\n",
      "Collecting pystac-client (from leafmap)\n",
      "  Downloading pystac_client-0.6.1-py3-none-any.whl (30 kB)\n",
      "Requirement already satisfied: python-box in /Users/tnmthai/anaconda3/envs/gee/lib/python3.11/site-packages (from leafmap) (7.0.0)\n",
      "Requirement already satisfied: scooby in /Users/tnmthai/anaconda3/envs/gee/lib/python3.11/site-packages (from leafmap) (0.7.1)\n",
      "Requirement already satisfied: whiteboxgui>=0.6.0 in /Users/tnmthai/anaconda3/envs/gee/lib/python3.11/site-packages (from leafmap) (2.3.0)\n",
      "Requirement already satisfied: click in /Users/tnmthai/anaconda3/envs/gee/lib/python3.11/site-packages (from localtileserver) (8.1.3)\n",
      "Requirement already satisfied: flask>=2.0.0 in /Users/tnmthai/anaconda3/envs/gee/lib/python3.11/site-packages (from localtileserver) (2.1.3)\n",
      "Requirement already satisfied: Flask-Caching in /Users/tnmthai/anaconda3/envs/gee/lib/python3.11/site-packages (from localtileserver) (1.10.1)\n",
      "Requirement already satisfied: flask-cors in /Users/tnmthai/anaconda3/envs/gee/lib/python3.11/site-packages (from localtileserver) (3.0.10)\n",
      "Requirement already satisfied: flask-restx>=0.5.0 in /Users/tnmthai/anaconda3/envs/gee/lib/python3.11/site-packages (from localtileserver) (1.0.6)\n",
      "Requirement already satisfied: GDAL in /Users/tnmthai/anaconda3/envs/gee/lib/python3.11/site-packages (from localtileserver) (3.6.3)\n",
      "Requirement already satisfied: large-image[gdal]>=1.14.1 in /Users/tnmthai/anaconda3/envs/gee/lib/python3.11/site-packages (from localtileserver) (1.20.3)\n",
      "Requirement already satisfied: requests in /Users/tnmthai/anaconda3/envs/gee/lib/python3.11/site-packages (from localtileserver) (2.28.2)\n",
      "Requirement already satisfied: server-thread in /Users/tnmthai/anaconda3/envs/gee/lib/python3.11/site-packages (from localtileserver) (0.2.0)\n",
      "Requirement already satisfied: werkzeug in /Users/tnmthai/anaconda3/envs/gee/lib/python3.11/site-packages (from localtileserver) (2.1.2)\n",
      "Requirement already satisfied: Jinja2>=3.0 in /Users/tnmthai/anaconda3/envs/gee/lib/python3.11/site-packages (from flask>=2.0.0->localtileserver) (3.1.2)\n",
      "Requirement already satisfied: itsdangerous>=2.0 in /Users/tnmthai/anaconda3/envs/gee/lib/python3.11/site-packages (from flask>=2.0.0->localtileserver) (2.1.2)\n",
      "Requirement already satisfied: aniso8601>=0.82 in /Users/tnmthai/anaconda3/envs/gee/lib/python3.11/site-packages (from flask-restx>=0.5.0->localtileserver) (9.0.1)\n",
      "Requirement already satisfied: jsonschema in /Users/tnmthai/anaconda3/envs/gee/lib/python3.11/site-packages (from flask-restx>=0.5.0->localtileserver) (4.17.3)\n",
      "Requirement already satisfied: pytz in /Users/tnmthai/anaconda3/envs/gee/lib/python3.11/site-packages (from flask-restx>=0.5.0->localtileserver) (2023.3)\n",
      "Requirement already satisfied: branca>=0.3.0 in /Users/tnmthai/anaconda3/envs/gee/lib/python3.11/site-packages (from folium<=0.13.0,>=0.11.0->leafmap) (0.6.0)\n",
      "Requirement already satisfied: traittypes<3,>=0.2.1 in /Users/tnmthai/anaconda3/envs/gee/lib/python3.11/site-packages (from ipyleaflet>=0.17.0->leafmap) (0.2.1)\n",
      "Requirement already satisfied: ipykernel>=4.5.1 in /Users/tnmthai/anaconda3/envs/gee/lib/python3.11/site-packages (from ipywidgets<8.0.0->leafmap) (6.22.0)\n",
      "Requirement already satisfied: ipython-genutils~=0.2.0 in /Users/tnmthai/anaconda3/envs/gee/lib/python3.11/site-packages (from ipywidgets<8.0.0->leafmap) (0.2.0)\n",
      "Requirement already satisfied: traitlets>=4.3.1 in /Users/tnmthai/anaconda3/envs/gee/lib/python3.11/site-packages (from ipywidgets<8.0.0->leafmap) (5.9.0)\n",
      "Requirement already satisfied: widgetsnbextension~=3.6.4 in /Users/tnmthai/anaconda3/envs/gee/lib/python3.11/site-packages (from ipywidgets<8.0.0->leafmap) (3.6.4)\n",
      "Requirement already satisfied: ipython>=4.0.0 in /Users/tnmthai/anaconda3/envs/gee/lib/python3.11/site-packages (from ipywidgets<8.0.0->leafmap) (8.12.0)\n",
      "Requirement already satisfied: jupyterlab-widgets<3,>=1.0.0 in /Users/tnmthai/anaconda3/envs/gee/lib/python3.11/site-packages (from ipywidgets<8.0.0->leafmap) (1.1.4)\n",
      "Requirement already satisfied: cachetools>=3.0.0 in /Users/tnmthai/anaconda3/envs/gee/lib/python3.11/site-packages (from large-image[gdal]>=1.14.1->localtileserver) (5.3.0)\n",
      "Requirement already satisfied: palettable in /Users/tnmthai/anaconda3/envs/gee/lib/python3.11/site-packages (from large-image[gdal]>=1.14.1->localtileserver) (3.3.2)\n",
      "Requirement already satisfied: Pillow in /Users/tnmthai/anaconda3/envs/gee/lib/python3.11/site-packages (from large-image[gdal]>=1.14.1->localtileserver) (9.5.0)\n",
      "Requirement already satisfied: psutil>=4.2.0 in /Users/tnmthai/anaconda3/envs/gee/lib/python3.11/site-packages (from large-image[gdal]>=1.14.1->localtileserver) (5.9.5)\n",
      "Requirement already satisfied: large-image-source-gdal>=1.20.3 in /Users/tnmthai/anaconda3/envs/gee/lib/python3.11/site-packages (from large-image[gdal]>=1.14.1->localtileserver) (1.20.3)\n",
      "Requirement already satisfied: ipytree in /Users/tnmthai/anaconda3/envs/gee/lib/python3.11/site-packages (from whiteboxgui>=0.6.0->leafmap) (0.2.2)\n",
      "Requirement already satisfied: whitebox in /Users/tnmthai/anaconda3/envs/gee/lib/python3.11/site-packages (from whiteboxgui>=0.6.0->leafmap) (2.3.1)\n",
      "Requirement already satisfied: python-dateutil>=2.8.2 in /Users/tnmthai/anaconda3/envs/gee/lib/python3.11/site-packages (from pandas->leafmap) (2.8.2)\n",
      "Requirement already satisfied: tzdata>=2022.1 in /Users/tnmthai/anaconda3/envs/gee/lib/python3.11/site-packages (from pandas->leafmap) (2023.3)\n",
      "Requirement already satisfied: Six in /Users/tnmthai/anaconda3/envs/gee/lib/python3.11/site-packages (from flask-cors->localtileserver) (1.16.0)\n",
      "Requirement already satisfied: filelock in /Users/tnmthai/anaconda3/envs/gee/lib/python3.11/site-packages (from gdown->segment-geospatial) (3.11.0)\n",
      "Requirement already satisfied: beautifulsoup4 in /Users/tnmthai/anaconda3/envs/gee/lib/python3.11/site-packages (from gdown->segment-geospatial) (4.12.2)\n",
      "Requirement already satisfied: shapely>=1.7 in /Users/tnmthai/anaconda3/envs/gee/lib/python3.11/site-packages (from geopandas->segment-geospatial) (2.0.1)\n",
      "Requirement already satisfied: fiona>=1.8 in /Users/tnmthai/anaconda3/envs/gee/lib/python3.11/site-packages (from geopandas->segment-geospatial) (1.9.3)\n",
      "Requirement already satisfied: packaging in /Users/tnmthai/anaconda3/envs/gee/lib/python3.11/site-packages (from geopandas->segment-geospatial) (23.1)\n",
      "Requirement already satisfied: certifi in /Users/tnmthai/anaconda3/envs/gee/lib/python3.11/site-packages (from pyproj->segment-geospatial) (2022.12.7)\n",
      "Requirement already satisfied: contourpy>=1.0.1 in /Users/tnmthai/anaconda3/envs/gee/lib/python3.11/site-packages (from matplotlib->segment-geospatial) (1.0.7)\n",
      "Requirement already satisfied: cycler>=0.10 in /Users/tnmthai/anaconda3/envs/gee/lib/python3.11/site-packages (from matplotlib->segment-geospatial) (0.11.0)\n",
      "Requirement already satisfied: fonttools>=4.22.0 in /Users/tnmthai/anaconda3/envs/gee/lib/python3.11/site-packages (from matplotlib->segment-geospatial) (4.39.3)\n",
      "Requirement already satisfied: kiwisolver>=1.0.1 in /Users/tnmthai/anaconda3/envs/gee/lib/python3.11/site-packages (from matplotlib->segment-geospatial) (1.4.4)\n",
      "Requirement already satisfied: pyparsing>=2.3.1 in /Users/tnmthai/anaconda3/envs/gee/lib/python3.11/site-packages (from matplotlib->segment-geospatial) (3.0.9)\n",
      "Requirement already satisfied: protobuf>=3.20.2 in /Users/tnmthai/anaconda3/envs/gee/lib/python3.11/site-packages (from onnx->segment-geospatial) (4.21.12)\n",
      "Requirement already satisfied: typing-extensions>=3.6.2.1 in /Users/tnmthai/anaconda3/envs/gee/lib/python3.11/site-packages (from onnx->segment-geospatial) (4.5.0)\n",
      "Collecting pystac>=1.7.0 (from pystac-client->leafmap)\n",
      "  Downloading pystac-1.7.3-py3-none-any.whl (150 kB)\n",
      "\u001b[2K     \u001b[90m━━━━━━━━━━━━━━━━━━━━━━━━━━━━━━━━━━━━━━\u001b[0m \u001b[32m150.0/150.0 kB\u001b[0m \u001b[31m19.6 MB/s\u001b[0m eta \u001b[36m0:00:00\u001b[0m\n",
      "\u001b[?25hRequirement already satisfied: charset-normalizer<4,>=2 in /Users/tnmthai/anaconda3/envs/gee/lib/python3.11/site-packages (from requests->localtileserver) (2.1.1)\n",
      "Requirement already satisfied: idna<4,>=2.5 in /Users/tnmthai/anaconda3/envs/gee/lib/python3.11/site-packages (from requests->localtileserver) (3.4)\n",
      "Requirement already satisfied: urllib3<1.27,>=1.21.1 in /Users/tnmthai/anaconda3/envs/gee/lib/python3.11/site-packages (from requests->localtileserver) (1.26.15)\n",
      "Requirement already satisfied: affine in /Users/tnmthai/anaconda3/envs/gee/lib/python3.11/site-packages (from rasterio->segment-geospatial) (2.4.0)\n",
      "Requirement already satisfied: attrs in /Users/tnmthai/anaconda3/envs/gee/lib/python3.11/site-packages (from rasterio->segment-geospatial) (22.2.0)\n",
      "Requirement already satisfied: cligj>=0.5 in /Users/tnmthai/anaconda3/envs/gee/lib/python3.11/site-packages (from rasterio->segment-geospatial) (0.7.2)\n",
      "Requirement already satisfied: snuggs>=1.4.1 in /Users/tnmthai/anaconda3/envs/gee/lib/python3.11/site-packages (from rasterio->segment-geospatial) (1.4.7)\n",
      "Requirement already satisfied: click-plugins in /Users/tnmthai/anaconda3/envs/gee/lib/python3.11/site-packages (from rasterio->segment-geospatial) (1.1.1)\n",
      "Requirement already satisfied: setuptools in /Users/tnmthai/anaconda3/envs/gee/lib/python3.11/site-packages (from rasterio->segment-geospatial) (67.6.1)\n",
      "Requirement already satisfied: torch>=1.7 in /Users/tnmthai/anaconda3/envs/gee/lib/python3.11/site-packages (from segment-anything-py->segment-geospatial) (2.0.1)\n",
      "Requirement already satisfied: torchvision>=0.8 in /Users/tnmthai/anaconda3/envs/gee/lib/python3.11/site-packages (from segment-anything-py->segment-geospatial) (0.15.2)\n",
      "Requirement already satisfied: uvicorn in /Users/tnmthai/anaconda3/envs/gee/lib/python3.11/site-packages (from server-thread->localtileserver) (0.21.1)\n",
      "Requirement already satisfied: munch>=2.3.2 in /Users/tnmthai/anaconda3/envs/gee/lib/python3.11/site-packages (from fiona>=1.8->geopandas->segment-geospatial) (2.5.0)\n",
      "Requirement already satisfied: appnope in /Users/tnmthai/anaconda3/envs/gee/lib/python3.11/site-packages (from ipykernel>=4.5.1->ipywidgets<8.0.0->leafmap) (0.1.3)\n",
      "Requirement already satisfied: comm>=0.1.1 in /Users/tnmthai/anaconda3/envs/gee/lib/python3.11/site-packages (from ipykernel>=4.5.1->ipywidgets<8.0.0->leafmap) (0.1.3)\n",
      "Requirement already satisfied: debugpy>=1.6.5 in /Users/tnmthai/anaconda3/envs/gee/lib/python3.11/site-packages (from ipykernel>=4.5.1->ipywidgets<8.0.0->leafmap) (1.6.7)\n",
      "Requirement already satisfied: jupyter-client>=6.1.12 in /Users/tnmthai/anaconda3/envs/gee/lib/python3.11/site-packages (from ipykernel>=4.5.1->ipywidgets<8.0.0->leafmap) (8.2.0)\n",
      "Requirement already satisfied: jupyter-core!=5.0.*,>=4.12 in /Users/tnmthai/anaconda3/envs/gee/lib/python3.11/site-packages (from ipykernel>=4.5.1->ipywidgets<8.0.0->leafmap) (5.3.0)\n",
      "Requirement already satisfied: matplotlib-inline>=0.1 in /Users/tnmthai/anaconda3/envs/gee/lib/python3.11/site-packages (from ipykernel>=4.5.1->ipywidgets<8.0.0->leafmap) (0.1.6)\n",
      "Requirement already satisfied: nest-asyncio in /Users/tnmthai/anaconda3/envs/gee/lib/python3.11/site-packages (from ipykernel>=4.5.1->ipywidgets<8.0.0->leafmap) (1.5.6)\n",
      "Requirement already satisfied: pyzmq>=20 in /Users/tnmthai/anaconda3/envs/gee/lib/python3.11/site-packages (from ipykernel>=4.5.1->ipywidgets<8.0.0->leafmap) (25.0.2)\n",
      "Requirement already satisfied: tornado>=6.1 in /Users/tnmthai/anaconda3/envs/gee/lib/python3.11/site-packages (from ipykernel>=4.5.1->ipywidgets<8.0.0->leafmap) (6.2)\n",
      "Requirement already satisfied: backcall in /Users/tnmthai/anaconda3/envs/gee/lib/python3.11/site-packages (from ipython>=4.0.0->ipywidgets<8.0.0->leafmap) (0.2.0)\n",
      "Requirement already satisfied: decorator in /Users/tnmthai/anaconda3/envs/gee/lib/python3.11/site-packages (from ipython>=4.0.0->ipywidgets<8.0.0->leafmap) (5.1.1)\n",
      "Requirement already satisfied: jedi>=0.16 in /Users/tnmthai/anaconda3/envs/gee/lib/python3.11/site-packages (from ipython>=4.0.0->ipywidgets<8.0.0->leafmap) (0.18.2)\n",
      "Requirement already satisfied: pickleshare in /Users/tnmthai/anaconda3/envs/gee/lib/python3.11/site-packages (from ipython>=4.0.0->ipywidgets<8.0.0->leafmap) (0.7.5)\n",
      "Requirement already satisfied: prompt-toolkit!=3.0.37,<3.1.0,>=3.0.30 in /Users/tnmthai/anaconda3/envs/gee/lib/python3.11/site-packages (from ipython>=4.0.0->ipywidgets<8.0.0->leafmap) (3.0.38)\n",
      "Requirement already satisfied: pygments>=2.4.0 in /Users/tnmthai/anaconda3/envs/gee/lib/python3.11/site-packages (from ipython>=4.0.0->ipywidgets<8.0.0->leafmap) (2.15.0)\n",
      "Requirement already satisfied: stack-data in /Users/tnmthai/anaconda3/envs/gee/lib/python3.11/site-packages (from ipython>=4.0.0->ipywidgets<8.0.0->leafmap) (0.6.2)\n",
      "Requirement already satisfied: pexpect>4.3 in /Users/tnmthai/anaconda3/envs/gee/lib/python3.11/site-packages (from ipython>=4.0.0->ipywidgets<8.0.0->leafmap) (4.8.0)\n",
      "Requirement already satisfied: MarkupSafe>=2.0 in /Users/tnmthai/anaconda3/envs/gee/lib/python3.11/site-packages (from Jinja2>=3.0->flask>=2.0.0->localtileserver) (2.1.2)\n",
      "Requirement already satisfied: sympy in /Users/tnmthai/anaconda3/envs/gee/lib/python3.11/site-packages (from torch>=1.7->segment-anything-py->segment-geospatial) (1.12)\n",
      "Requirement already satisfied: networkx in /Users/tnmthai/anaconda3/envs/gee/lib/python3.11/site-packages (from torch>=1.7->segment-anything-py->segment-geospatial) (3.1)\n",
      "Requirement already satisfied: notebook>=4.4.1 in /Users/tnmthai/anaconda3/envs/gee/lib/python3.11/site-packages (from widgetsnbextension~=3.6.4->ipywidgets<8.0.0->leafmap) (6.5.4)\n",
      "Requirement already satisfied: soupsieve>1.2 in /Users/tnmthai/anaconda3/envs/gee/lib/python3.11/site-packages (from beautifulsoup4->gdown->segment-geospatial) (2.3.2.post1)\n",
      "Requirement already satisfied: pyrsistent!=0.17.0,!=0.17.1,!=0.17.2,>=0.14.0 in /Users/tnmthai/anaconda3/envs/gee/lib/python3.11/site-packages (from jsonschema->flask-restx>=0.5.0->localtileserver) (0.19.3)\n",
      "Requirement already satisfied: PySocks!=1.5.7,>=1.5.6 in /Users/tnmthai/anaconda3/envs/gee/lib/python3.11/site-packages (from requests->localtileserver) (1.7.1)\n",
      "Requirement already satisfied: h11>=0.8 in /Users/tnmthai/anaconda3/envs/gee/lib/python3.11/site-packages (from uvicorn->server-thread->localtileserver) (0.14.0)\n",
      "Requirement already satisfied: parso<0.9.0,>=0.8.0 in /Users/tnmthai/anaconda3/envs/gee/lib/python3.11/site-packages (from jedi>=0.16->ipython>=4.0.0->ipywidgets<8.0.0->leafmap) (0.8.3)\n",
      "Requirement already satisfied: platformdirs>=2.5 in /Users/tnmthai/anaconda3/envs/gee/lib/python3.11/site-packages (from jupyter-core!=5.0.*,>=4.12->ipykernel>=4.5.1->ipywidgets<8.0.0->leafmap) (3.2.0)\n",
      "Requirement already satisfied: argon2-cffi in /Users/tnmthai/anaconda3/envs/gee/lib/python3.11/site-packages (from notebook>=4.4.1->widgetsnbextension~=3.6.4->ipywidgets<8.0.0->leafmap) (21.3.0)\n",
      "Requirement already satisfied: nbformat in /Users/tnmthai/anaconda3/envs/gee/lib/python3.11/site-packages (from notebook>=4.4.1->widgetsnbextension~=3.6.4->ipywidgets<8.0.0->leafmap) (5.8.0)\n",
      "Requirement already satisfied: nbconvert>=5 in /Users/tnmthai/anaconda3/envs/gee/lib/python3.11/site-packages (from notebook>=4.4.1->widgetsnbextension~=3.6.4->ipywidgets<8.0.0->leafmap) (7.3.1)\n",
      "Requirement already satisfied: Send2Trash>=1.8.0 in /Users/tnmthai/anaconda3/envs/gee/lib/python3.11/site-packages (from notebook>=4.4.1->widgetsnbextension~=3.6.4->ipywidgets<8.0.0->leafmap) (1.8.0)\n",
      "Requirement already satisfied: terminado>=0.8.3 in /Users/tnmthai/anaconda3/envs/gee/lib/python3.11/site-packages (from notebook>=4.4.1->widgetsnbextension~=3.6.4->ipywidgets<8.0.0->leafmap) (0.17.1)\n",
      "Requirement already satisfied: prometheus-client in /Users/tnmthai/anaconda3/envs/gee/lib/python3.11/site-packages (from notebook>=4.4.1->widgetsnbextension~=3.6.4->ipywidgets<8.0.0->leafmap) (0.16.0)\n",
      "Requirement already satisfied: nbclassic>=0.4.7 in /Users/tnmthai/anaconda3/envs/gee/lib/python3.11/site-packages (from notebook>=4.4.1->widgetsnbextension~=3.6.4->ipywidgets<8.0.0->leafmap) (0.5.5)\n",
      "Requirement already satisfied: ptyprocess>=0.5 in /Users/tnmthai/anaconda3/envs/gee/lib/python3.11/site-packages (from pexpect>4.3->ipython>=4.0.0->ipywidgets<8.0.0->leafmap) (0.7.0)\n",
      "Requirement already satisfied: wcwidth in /Users/tnmthai/anaconda3/envs/gee/lib/python3.11/site-packages (from prompt-toolkit!=3.0.37,<3.1.0,>=3.0.30->ipython>=4.0.0->ipywidgets<8.0.0->leafmap) (0.2.6)\n",
      "Requirement already satisfied: executing>=1.2.0 in /Users/tnmthai/anaconda3/envs/gee/lib/python3.11/site-packages (from stack-data->ipython>=4.0.0->ipywidgets<8.0.0->leafmap) (1.2.0)\n",
      "Requirement already satisfied: asttokens>=2.1.0 in /Users/tnmthai/anaconda3/envs/gee/lib/python3.11/site-packages (from stack-data->ipython>=4.0.0->ipywidgets<8.0.0->leafmap) (2.2.1)\n",
      "Requirement already satisfied: pure-eval in /Users/tnmthai/anaconda3/envs/gee/lib/python3.11/site-packages (from stack-data->ipython>=4.0.0->ipywidgets<8.0.0->leafmap) (0.2.2)\n",
      "Requirement already satisfied: mpmath>=0.19 in /Users/tnmthai/anaconda3/envs/gee/lib/python3.11/site-packages (from sympy->torch>=1.7->segment-anything-py->segment-geospatial) (1.3.0)\n",
      "Requirement already satisfied: jupyter-server>=1.8 in /Users/tnmthai/anaconda3/envs/gee/lib/python3.11/site-packages (from nbclassic>=0.4.7->notebook>=4.4.1->widgetsnbextension~=3.6.4->ipywidgets<8.0.0->leafmap) (2.5.0)\n",
      "Requirement already satisfied: notebook-shim>=0.1.0 in /Users/tnmthai/anaconda3/envs/gee/lib/python3.11/site-packages (from nbclassic>=0.4.7->notebook>=4.4.1->widgetsnbextension~=3.6.4->ipywidgets<8.0.0->leafmap) (0.2.2)\n",
      "Requirement already satisfied: bleach in /Users/tnmthai/anaconda3/envs/gee/lib/python3.11/site-packages (from nbconvert>=5->notebook>=4.4.1->widgetsnbextension~=3.6.4->ipywidgets<8.0.0->leafmap) (6.0.0)\n",
      "Requirement already satisfied: defusedxml in /Users/tnmthai/anaconda3/envs/gee/lib/python3.11/site-packages (from nbconvert>=5->notebook>=4.4.1->widgetsnbextension~=3.6.4->ipywidgets<8.0.0->leafmap) (0.7.1)\n",
      "Requirement already satisfied: jupyterlab-pygments in /Users/tnmthai/anaconda3/envs/gee/lib/python3.11/site-packages (from nbconvert>=5->notebook>=4.4.1->widgetsnbextension~=3.6.4->ipywidgets<8.0.0->leafmap) (0.2.2)\n",
      "Requirement already satisfied: mistune<3,>=2.0.3 in /Users/tnmthai/anaconda3/envs/gee/lib/python3.11/site-packages (from nbconvert>=5->notebook>=4.4.1->widgetsnbextension~=3.6.4->ipywidgets<8.0.0->leafmap) (2.0.5)\n",
      "Requirement already satisfied: nbclient>=0.5.0 in /Users/tnmthai/anaconda3/envs/gee/lib/python3.11/site-packages (from nbconvert>=5->notebook>=4.4.1->widgetsnbextension~=3.6.4->ipywidgets<8.0.0->leafmap) (0.7.3)\n",
      "Requirement already satisfied: pandocfilters>=1.4.1 in /Users/tnmthai/anaconda3/envs/gee/lib/python3.11/site-packages (from nbconvert>=5->notebook>=4.4.1->widgetsnbextension~=3.6.4->ipywidgets<8.0.0->leafmap) (1.5.0)\n",
      "Requirement already satisfied: tinycss2 in /Users/tnmthai/anaconda3/envs/gee/lib/python3.11/site-packages (from nbconvert>=5->notebook>=4.4.1->widgetsnbextension~=3.6.4->ipywidgets<8.0.0->leafmap) (1.2.1)\n",
      "Requirement already satisfied: fastjsonschema in /Users/tnmthai/anaconda3/envs/gee/lib/python3.11/site-packages (from nbformat->notebook>=4.4.1->widgetsnbextension~=3.6.4->ipywidgets<8.0.0->leafmap) (2.16.3)\n",
      "Requirement already satisfied: argon2-cffi-bindings in /Users/tnmthai/anaconda3/envs/gee/lib/python3.11/site-packages (from argon2-cffi->notebook>=4.4.1->widgetsnbextension~=3.6.4->ipywidgets<8.0.0->leafmap) (21.2.0)\n",
      "Requirement already satisfied: anyio>=3.1.0 in /Users/tnmthai/anaconda3/envs/gee/lib/python3.11/site-packages (from jupyter-server>=1.8->nbclassic>=0.4.7->notebook>=4.4.1->widgetsnbextension~=3.6.4->ipywidgets<8.0.0->leafmap) (3.6.2)\n",
      "Requirement already satisfied: jupyter-events>=0.4.0 in /Users/tnmthai/anaconda3/envs/gee/lib/python3.11/site-packages (from jupyter-server>=1.8->nbclassic>=0.4.7->notebook>=4.4.1->widgetsnbextension~=3.6.4->ipywidgets<8.0.0->leafmap) (0.6.3)\n",
      "Requirement already satisfied: jupyter-server-terminals in /Users/tnmthai/anaconda3/envs/gee/lib/python3.11/site-packages (from jupyter-server>=1.8->nbclassic>=0.4.7->notebook>=4.4.1->widgetsnbextension~=3.6.4->ipywidgets<8.0.0->leafmap) (0.4.4)\n",
      "Requirement already satisfied: websocket-client in /Users/tnmthai/anaconda3/envs/gee/lib/python3.11/site-packages (from jupyter-server>=1.8->nbclassic>=0.4.7->notebook>=4.4.1->widgetsnbextension~=3.6.4->ipywidgets<8.0.0->leafmap) (1.5.1)\n",
      "Requirement already satisfied: cffi>=1.0.1 in /Users/tnmthai/anaconda3/envs/gee/lib/python3.11/site-packages (from argon2-cffi-bindings->argon2-cffi->notebook>=4.4.1->widgetsnbextension~=3.6.4->ipywidgets<8.0.0->leafmap) (1.15.1)\n",
      "Requirement already satisfied: webencodings in /Users/tnmthai/anaconda3/envs/gee/lib/python3.11/site-packages (from bleach->nbconvert>=5->notebook>=4.4.1->widgetsnbextension~=3.6.4->ipywidgets<8.0.0->leafmap) (0.5.1)\n",
      "Requirement already satisfied: sniffio>=1.1 in /Users/tnmthai/anaconda3/envs/gee/lib/python3.11/site-packages (from anyio>=3.1.0->jupyter-server>=1.8->nbclassic>=0.4.7->notebook>=4.4.1->widgetsnbextension~=3.6.4->ipywidgets<8.0.0->leafmap) (1.3.0)\n",
      "Requirement already satisfied: pycparser in /Users/tnmthai/anaconda3/envs/gee/lib/python3.11/site-packages (from cffi>=1.0.1->argon2-cffi-bindings->argon2-cffi->notebook>=4.4.1->widgetsnbextension~=3.6.4->ipywidgets<8.0.0->leafmap) (2.21)\n",
      "Requirement already satisfied: python-json-logger>=2.0.4 in /Users/tnmthai/anaconda3/envs/gee/lib/python3.11/site-packages (from jupyter-events>=0.4.0->jupyter-server>=1.8->nbclassic>=0.4.7->notebook>=4.4.1->widgetsnbextension~=3.6.4->ipywidgets<8.0.0->leafmap) (2.0.7)\n",
      "Requirement already satisfied: pyyaml>=5.3 in /Users/tnmthai/anaconda3/envs/gee/lib/python3.11/site-packages (from jupyter-events>=0.4.0->jupyter-server>=1.8->nbclassic>=0.4.7->notebook>=4.4.1->widgetsnbextension~=3.6.4->ipywidgets<8.0.0->leafmap) (6.0)\n",
      "Requirement already satisfied: rfc3339-validator in /Users/tnmthai/anaconda3/envs/gee/lib/python3.11/site-packages (from jupyter-events>=0.4.0->jupyter-server>=1.8->nbclassic>=0.4.7->notebook>=4.4.1->widgetsnbextension~=3.6.4->ipywidgets<8.0.0->leafmap) (0.1.4)\n",
      "Requirement already satisfied: rfc3986-validator>=0.1.1 in /Users/tnmthai/anaconda3/envs/gee/lib/python3.11/site-packages (from jupyter-events>=0.4.0->jupyter-server>=1.8->nbclassic>=0.4.7->notebook>=4.4.1->widgetsnbextension~=3.6.4->ipywidgets<8.0.0->leafmap) (0.1.1)\n",
      "Collecting fqdn (from jsonschema->flask-restx>=0.5.0->localtileserver)\n",
      "  Using cached fqdn-1.5.1-py3-none-any.whl (9.1 kB)\n",
      "Collecting isoduration (from jsonschema->flask-restx>=0.5.0->localtileserver)\n",
      "  Using cached isoduration-20.11.0-py3-none-any.whl (11 kB)\n",
      "Collecting jsonpointer>1.13 (from jsonschema->flask-restx>=0.5.0->localtileserver)\n",
      "  Using cached jsonpointer-2.3-py2.py3-none-any.whl (7.8 kB)\n",
      "Collecting uri-template (from jsonschema->flask-restx>=0.5.0->localtileserver)\n",
      "  Using cached uri_template-1.2.0-py3-none-any.whl (10 kB)\n",
      "Collecting webcolors>=1.11 (from jsonschema->flask-restx>=0.5.0->localtileserver)\n",
      "  Downloading webcolors-1.13-py3-none-any.whl (14 kB)\n",
      "Collecting arrow>=0.15.0 (from isoduration->jsonschema->flask-restx>=0.5.0->localtileserver)\n",
      "  Using cached arrow-1.2.3-py3-none-any.whl (66 kB)\n",
      "Installing collected packages: webcolors, uri-template, jsonpointer, fqdn, pystac, arrow, pystac-client, isoduration, folium, leafmap\n",
      "  Attempting uninstall: folium\n",
      "    Found existing installation: folium 0.14.0\n",
      "    Uninstalling folium-0.14.0:\n",
      "      Successfully uninstalled folium-0.14.0\n",
      "Successfully installed arrow-1.2.3 folium-0.13.0 fqdn-1.5.1 isoduration-20.11.0 jsonpointer-2.3 leafmap-0.20.2 pystac-1.7.3 pystac-client-0.6.1 uri-template-1.2.0 webcolors-1.13\n"
     ]
    }
   ],
   "source": [
    "!pip install segment-geospatial leafmap localtileserver"
   ]
  },
  {
   "cell_type": "markdown",
   "metadata": {},
   "source": [
    "## Import libraries"
   ]
  },
  {
   "cell_type": "code",
   "execution_count": 3,
   "metadata": {},
   "outputs": [],
   "source": [
    "import os\n",
    "import leafmap\n",
    "from samgeo import SamGeo, tms_to_geotiff, get_basemaps"
   ]
  },
  {
   "cell_type": "markdown",
   "metadata": {},
   "source": [
    "## Create an interactive map"
   ]
  },
  {
   "cell_type": "code",
   "execution_count": 4,
   "metadata": {},
   "outputs": [
    {
     "data": {
      "application/vnd.jupyter.widget-view+json": {
       "model_id": "0d52198a849b42bda886787b8dd4d5b0",
       "version_major": 2,
       "version_minor": 0
      },
      "text/plain": [
       "Map(center=[29.67684, -95.369222], controls=(ZoomControl(options=['position', 'zoom_in_text', 'zoom_in_title',…"
      ]
     },
     "metadata": {},
     "output_type": "display_data"
    }
   ],
   "source": [
    "m = leafmap.Map(center=[29.676840, -95.369222], zoom=19)\n",
    "m.add_basemap(\"SATELLITE\")\n",
    "m"
   ]
  },
  {
   "cell_type": "markdown",
   "metadata": {},
   "source": [
    "Pan and zoom the map to select the area of interest. Use the draw tools to draw a polygon or rectangle on the map"
   ]
  },
  {
   "cell_type": "code",
   "execution_count": 5,
   "metadata": {},
   "outputs": [],
   "source": [
    "if m.user_roi_bounds() is not None:\n",
    "    bbox = m.user_roi_bounds()\n",
    "else:\n",
    "    bbox = [-95.3704, 29.6762, -95.368, 29.6775]"
   ]
  },
  {
   "cell_type": "markdown",
   "metadata": {},
   "source": [
    "## Download map tiles\n",
    "\n",
    "Download maps tiles and mosaic them into a single GeoTIFF file"
   ]
  },
  {
   "cell_type": "code",
   "execution_count": 6,
   "metadata": {},
   "outputs": [],
   "source": [
    "image = \"satellite.tif\""
   ]
  },
  {
   "cell_type": "markdown",
   "metadata": {},
   "source": [
    "Besides the `satellite` basemap, you can use any of the following basemaps returned by the `get_basemaps()` function:"
   ]
  },
  {
   "cell_type": "code",
   "execution_count": null,
   "metadata": {},
   "outputs": [],
   "source": [
    "# get_basemaps().keys()"
   ]
  },
  {
   "cell_type": "markdown",
   "metadata": {},
   "source": [
    "Specify the basemap as the source."
   ]
  },
  {
   "cell_type": "code",
   "execution_count": 7,
   "metadata": {},
   "outputs": [
    {
     "name": "stdout",
     "output_type": "stream",
     "text": [
      "Downloaded image 1/40\n",
      "Downloaded image 2/40\n",
      "Downloaded image 3/40\n",
      "Downloaded image 4/40\n",
      "Downloaded image 5/40\n",
      "Downloaded image 6/40\n",
      "Downloaded image 7/40\n",
      "Downloaded image 8/40\n",
      "Downloaded image 9/40\n",
      "Downloaded image 10/40\n",
      "Downloaded image 11/40\n",
      "Downloaded image 12/40\n",
      "Downloaded image 13/40\n",
      "Downloaded image 14/40\n",
      "Downloaded image 15/40\n",
      "Downloaded image 16/40\n",
      "Downloaded image 17/40\n",
      "Downloaded image 18/40\n",
      "Downloaded image 19/40\n",
      "Downloaded image 20/40\n",
      "Downloaded image 21/40\n",
      "Downloaded image 22/40\n",
      "Downloaded image 23/40\n",
      "Downloaded image 24/40\n",
      "Downloaded image 25/40\n",
      "Downloaded image 26/40\n",
      "Downloaded image 27/40\n",
      "Downloaded image 28/40\n",
      "Downloaded image 29/40\n",
      "Downloaded image 30/40\n",
      "Downloaded image 31/40\n",
      "Downloaded image 32/40\n",
      "Downloaded image 33/40\n",
      "Downloaded image 34/40\n",
      "Downloaded image 35/40\n",
      "Downloaded image 36/40\n",
      "Downloaded image 37/40\n",
      "Downloaded image 38/40\n",
      "Downloaded image 39/40\n",
      "Downloaded image 40/40\n",
      "Saving GeoTIFF. Please wait...\n",
      "Image saved to satellite.tif\n"
     ]
    }
   ],
   "source": [
    "tms_to_geotiff(output=image, bbox=bbox, zoom=20, source=\"Satellite\", overwrite=True)"
   ]
  },
  {
   "cell_type": "markdown",
   "metadata": {},
   "source": [
    "You can also use your own image. Uncomment and run the following cell to use your own image."
   ]
  },
  {
   "cell_type": "code",
   "execution_count": null,
   "metadata": {},
   "outputs": [],
   "source": [
    "# image = '/path/to/your/own/image.tif'"
   ]
  },
  {
   "cell_type": "markdown",
   "metadata": {},
   "source": [
    "Display the downloaded image on the map."
   ]
  },
  {
   "cell_type": "code",
   "execution_count": 8,
   "metadata": {},
   "outputs": [
    {
     "data": {
      "application/vnd.jupyter.widget-view+json": {
       "model_id": "0d52198a849b42bda886787b8dd4d5b0",
       "version_major": 2,
       "version_minor": 0
      },
      "text/plain": [
       "Map(bottom=27757206.0, center=[29.676820903766707, -95.37017941474916], controls=(ZoomControl(options=['positi…"
      ]
     },
     "metadata": {},
     "output_type": "display_data"
    }
   ],
   "source": [
    "m.layers[-1].visible = False  # turn off the basemap\n",
    "m.add_raster(image, layer_name=\"Image\")\n",
    "m"
   ]
  },
  {
   "cell_type": "markdown",
   "metadata": {},
   "source": [
    "## Initialize SAM class"
   ]
  },
  {
   "cell_type": "code",
   "execution_count": 9,
   "metadata": {},
   "outputs": [],
   "source": [
    "out_dir = os.path.join(os.path.expanduser(\"~\"), \"Downloads\")\n",
    "checkpoint = os.path.join(out_dir, \"sam_vit_h_4b8939.pth\")"
   ]
  },
  {
   "cell_type": "code",
   "execution_count": 19,
   "metadata": {},
   "outputs": [],
   "source": [
    "import torch\n",
    "import os\n",
    "os.environ[\"PYTORCH_ENABLE_MPS_FALLBACK\"]=\"1\"\n",
    "\n",
    "device = 'mps' if torch.backends.mps.is_available() else 'cpu'\n",
    "\n",
    "# device = 'cpu'\n",
    "sam = SamGeo(\n",
    "    model_type=\"vit_h\",\n",
    "    checkpoint=checkpoint,\n",
    "    device=device, \n",
    "    sam_kwargs=None,\n",
    ")"
   ]
  },
  {
   "cell_type": "code",
   "execution_count": 20,
   "metadata": {},
   "outputs": [
    {
     "data": {
      "text/plain": [
       "'mps'"
      ]
     },
     "execution_count": 20,
     "metadata": {},
     "output_type": "execute_result"
    }
   ],
   "source": [
    "device"
   ]
  },
  {
   "cell_type": "markdown",
   "metadata": {},
   "source": [
    "## Segment the image\n",
    "\n",
    "Set `batch=True` to segment the image in batches. This is useful for large images that cannot fit in memory."
   ]
  },
  {
   "cell_type": "code",
   "execution_count": 21,
   "metadata": {},
   "outputs": [
    {
     "ename": "TypeError",
     "evalue": "Cannot convert a MPS Tensor to float64 dtype as the MPS framework doesn't support float64. Please use float32 instead.",
     "output_type": "error",
     "traceback": [
      "\u001b[0;31m---------------------------------------------------------------------------\u001b[0m",
      "\u001b[0;31mTypeError\u001b[0m                                 Traceback (most recent call last)",
      "Cell \u001b[0;32mIn[21], line 2\u001b[0m\n\u001b[1;32m      1\u001b[0m mask \u001b[39m=\u001b[39m \u001b[39m\"\u001b[39m\u001b[39msegment.tiff\u001b[39m\u001b[39m\"\u001b[39m\n\u001b[0;32m----> 2\u001b[0m sam\u001b[39m.\u001b[39;49mgenerate(\n\u001b[1;32m      3\u001b[0m     image, mask\u001b[39m#, batch=True, foreground=True, erosion_kernel=(3, 3), mask_multiplier=255\u001b[39;49;00m\n\u001b[1;32m      4\u001b[0m )\n",
      "File \u001b[0;32m~/anaconda3/envs/gee/lib/python3.11/site-packages/samgeo/samgeo.py:198\u001b[0m, in \u001b[0;36mSamGeo.generate\u001b[0;34m(self, source, output, foreground, batch, erosion_kernel, mask_multiplier, unique, **kwargs)\u001b[0m\n\u001b[1;32m    196\u001b[0m \u001b[39mself\u001b[39m\u001b[39m.\u001b[39mimage \u001b[39m=\u001b[39m image  \u001b[39m# Store the input image as a numpy array\u001b[39;00m\n\u001b[1;32m    197\u001b[0m mask_generator \u001b[39m=\u001b[39m \u001b[39mself\u001b[39m\u001b[39m.\u001b[39mmask_generator  \u001b[39m# The automatic mask generator\u001b[39;00m\n\u001b[0;32m--> 198\u001b[0m masks \u001b[39m=\u001b[39m mask_generator\u001b[39m.\u001b[39;49mgenerate(image)  \u001b[39m# Segment the input image\u001b[39;00m\n\u001b[1;32m    199\u001b[0m \u001b[39mself\u001b[39m\u001b[39m.\u001b[39mmasks \u001b[39m=\u001b[39m masks  \u001b[39m# Store the masks as a list of dictionaries\u001b[39;00m\n\u001b[1;32m    201\u001b[0m \u001b[39mif\u001b[39;00m output \u001b[39mis\u001b[39;00m \u001b[39mnot\u001b[39;00m \u001b[39mNone\u001b[39;00m:\n\u001b[1;32m    202\u001b[0m     \u001b[39m# Save the masks to the output path. The output is either a binary mask or a mask of objects with unique values.\u001b[39;00m\n",
      "File \u001b[0;32m~/anaconda3/envs/gee/lib/python3.11/site-packages/torch/utils/_contextlib.py:115\u001b[0m, in \u001b[0;36mcontext_decorator.<locals>.decorate_context\u001b[0;34m(*args, **kwargs)\u001b[0m\n\u001b[1;32m    112\u001b[0m \u001b[39m@functools\u001b[39m\u001b[39m.\u001b[39mwraps(func)\n\u001b[1;32m    113\u001b[0m \u001b[39mdef\u001b[39;00m \u001b[39mdecorate_context\u001b[39m(\u001b[39m*\u001b[39margs, \u001b[39m*\u001b[39m\u001b[39m*\u001b[39mkwargs):\n\u001b[1;32m    114\u001b[0m     \u001b[39mwith\u001b[39;00m ctx_factory():\n\u001b[0;32m--> 115\u001b[0m         \u001b[39mreturn\u001b[39;00m func(\u001b[39m*\u001b[39;49margs, \u001b[39m*\u001b[39;49m\u001b[39m*\u001b[39;49mkwargs)\n",
      "File \u001b[0;32m~/anaconda3/envs/gee/lib/python3.11/site-packages/segment_anything/automatic_mask_generator.py:163\u001b[0m, in \u001b[0;36mSamAutomaticMaskGenerator.generate\u001b[0;34m(self, image)\u001b[0m\n\u001b[1;32m    138\u001b[0m \u001b[39m\u001b[39m\u001b[39m\"\"\"\u001b[39;00m\n\u001b[1;32m    139\u001b[0m \u001b[39mGenerates masks for the given image.\u001b[39;00m\n\u001b[1;32m    140\u001b[0m \n\u001b[0;32m   (...)\u001b[0m\n\u001b[1;32m    159\u001b[0m \u001b[39m         the mask, given in XYWH format.\u001b[39;00m\n\u001b[1;32m    160\u001b[0m \u001b[39m\"\"\"\u001b[39;00m\n\u001b[1;32m    162\u001b[0m \u001b[39m# Generate masks\u001b[39;00m\n\u001b[0;32m--> 163\u001b[0m mask_data \u001b[39m=\u001b[39m \u001b[39mself\u001b[39;49m\u001b[39m.\u001b[39;49m_generate_masks(image)\n\u001b[1;32m    165\u001b[0m \u001b[39m# Filter small disconnected regions and holes in masks\u001b[39;00m\n\u001b[1;32m    166\u001b[0m \u001b[39mif\u001b[39;00m \u001b[39mself\u001b[39m\u001b[39m.\u001b[39mmin_mask_region_area \u001b[39m>\u001b[39m \u001b[39m0\u001b[39m:\n",
      "File \u001b[0;32m~/anaconda3/envs/gee/lib/python3.11/site-packages/segment_anything/automatic_mask_generator.py:206\u001b[0m, in \u001b[0;36mSamAutomaticMaskGenerator._generate_masks\u001b[0;34m(self, image)\u001b[0m\n\u001b[1;32m    204\u001b[0m data \u001b[39m=\u001b[39m MaskData()\n\u001b[1;32m    205\u001b[0m \u001b[39mfor\u001b[39;00m crop_box, layer_idx \u001b[39min\u001b[39;00m \u001b[39mzip\u001b[39m(crop_boxes, layer_idxs):\n\u001b[0;32m--> 206\u001b[0m     crop_data \u001b[39m=\u001b[39m \u001b[39mself\u001b[39;49m\u001b[39m.\u001b[39;49m_process_crop(image, crop_box, layer_idx, orig_size)\n\u001b[1;32m    207\u001b[0m     data\u001b[39m.\u001b[39mcat(crop_data)\n\u001b[1;32m    209\u001b[0m \u001b[39m# Remove duplicate masks between crops\u001b[39;00m\n",
      "File \u001b[0;32m~/anaconda3/envs/gee/lib/python3.11/site-packages/segment_anything/automatic_mask_generator.py:245\u001b[0m, in \u001b[0;36mSamAutomaticMaskGenerator._process_crop\u001b[0;34m(self, image, crop_box, crop_layer_idx, orig_size)\u001b[0m\n\u001b[1;32m    243\u001b[0m data \u001b[39m=\u001b[39m MaskData()\n\u001b[1;32m    244\u001b[0m \u001b[39mfor\u001b[39;00m (points,) \u001b[39min\u001b[39;00m batch_iterator(\u001b[39mself\u001b[39m\u001b[39m.\u001b[39mpoints_per_batch, points_for_image):\n\u001b[0;32m--> 245\u001b[0m     batch_data \u001b[39m=\u001b[39m \u001b[39mself\u001b[39;49m\u001b[39m.\u001b[39;49m_process_batch(points, cropped_im_size, crop_box, orig_size)\n\u001b[1;32m    246\u001b[0m     data\u001b[39m.\u001b[39mcat(batch_data)\n\u001b[1;32m    247\u001b[0m     \u001b[39mdel\u001b[39;00m batch_data\n",
      "File \u001b[0;32m~/anaconda3/envs/gee/lib/python3.11/site-packages/segment_anything/automatic_mask_generator.py:277\u001b[0m, in \u001b[0;36mSamAutomaticMaskGenerator._process_batch\u001b[0;34m(self, points, im_size, crop_box, orig_size)\u001b[0m\n\u001b[1;32m    275\u001b[0m \u001b[39m# Run model on this batch\u001b[39;00m\n\u001b[1;32m    276\u001b[0m transformed_points \u001b[39m=\u001b[39m \u001b[39mself\u001b[39m\u001b[39m.\u001b[39mpredictor\u001b[39m.\u001b[39mtransform\u001b[39m.\u001b[39mapply_coords(points, im_size)\n\u001b[0;32m--> 277\u001b[0m in_points \u001b[39m=\u001b[39m torch\u001b[39m.\u001b[39;49mas_tensor(transformed_points, device\u001b[39m=\u001b[39;49m\u001b[39mself\u001b[39;49m\u001b[39m.\u001b[39;49mpredictor\u001b[39m.\u001b[39;49mdevice)\n\u001b[1;32m    278\u001b[0m in_labels \u001b[39m=\u001b[39m torch\u001b[39m.\u001b[39mones(in_points\u001b[39m.\u001b[39mshape[\u001b[39m0\u001b[39m], dtype\u001b[39m=\u001b[39mtorch\u001b[39m.\u001b[39mint, device\u001b[39m=\u001b[39min_points\u001b[39m.\u001b[39mdevice)\n\u001b[1;32m    279\u001b[0m masks, iou_preds, _ \u001b[39m=\u001b[39m \u001b[39mself\u001b[39m\u001b[39m.\u001b[39mpredictor\u001b[39m.\u001b[39mpredict_torch(\n\u001b[1;32m    280\u001b[0m     in_points[:, \u001b[39mNone\u001b[39;00m, :],\n\u001b[1;32m    281\u001b[0m     in_labels[:, \u001b[39mNone\u001b[39;00m],\n\u001b[1;32m    282\u001b[0m     multimask_output\u001b[39m=\u001b[39m\u001b[39mTrue\u001b[39;00m,\n\u001b[1;32m    283\u001b[0m     return_logits\u001b[39m=\u001b[39m\u001b[39mTrue\u001b[39;00m,\n\u001b[1;32m    284\u001b[0m )\n",
      "\u001b[0;31mTypeError\u001b[0m: Cannot convert a MPS Tensor to float64 dtype as the MPS framework doesn't support float64. Please use float32 instead."
     ]
    }
   ],
   "source": [
    "mask = \"segment.tiff\"\n",
    "sam.generate(\n",
    "    image, mask#, batch=True, foreground=True, erosion_kernel=(3, 3), mask_multiplier=255\n",
    ")"
   ]
  },
  {
   "cell_type": "markdown",
   "metadata": {},
   "source": [
    "## Polygonize the raster data\n",
    "\n",
    "Save the segmentation results as a GeoPackage file."
   ]
  },
  {
   "cell_type": "code",
   "execution_count": null,
   "metadata": {},
   "outputs": [],
   "source": [
    "vector = \"segment.gpkg\"\n",
    "sam.tiff_to_gpkg(mask, vector, simplify_tolerance=None)"
   ]
  },
  {
   "cell_type": "markdown",
   "metadata": {},
   "source": [
    "You can also save the segmentation results as any vector data format supported by GeoPandas."
   ]
  },
  {
   "cell_type": "code",
   "execution_count": null,
   "metadata": {},
   "outputs": [],
   "source": [
    "shapefile = \"segment.shp\"\n",
    "sam.tiff_to_vector(mask, shapefile)"
   ]
  },
  {
   "cell_type": "markdown",
   "metadata": {},
   "source": [
    "## Visualize the results"
   ]
  },
  {
   "cell_type": "code",
   "execution_count": null,
   "metadata": {},
   "outputs": [],
   "source": [
    "style = {\n",
    "    \"color\": \"#3388ff\",\n",
    "    \"weight\": 2,\n",
    "    \"fillColor\": \"#7c4185\",\n",
    "    \"fillOpacity\": 0.5,\n",
    "}\n",
    "m.add_vector(vector, layer_name=\"Vector\", style=style)\n",
    "m"
   ]
  },
  {
   "cell_type": "markdown",
   "metadata": {},
   "source": [
    "![](https://i.imgur.com/Ysq3u7E.png)"
   ]
  }
 ],
 "metadata": {
  "accelerator": "GPU",
  "colab": {
   "provenance": []
  },
  "gpuClass": "standard",
  "kernelspec": {
   "display_name": "Python 3",
   "name": "python3"
  },
  "language_info": {
   "codemirror_mode": {
    "name": "ipython",
    "version": 3
   },
   "file_extension": ".py",
   "mimetype": "text/x-python",
   "name": "python",
   "nbconvert_exporter": "python",
   "pygments_lexer": "ipython3",
   "version": "3.11.3"
  }
 },
 "nbformat": 4,
 "nbformat_minor": 0
}
