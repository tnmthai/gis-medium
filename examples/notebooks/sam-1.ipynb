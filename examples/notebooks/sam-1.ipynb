{
 "cells": [
  {
   "cell_type": "code",
   "execution_count": 1,
   "metadata": {},
   "outputs": [],
   "source": [
    "import os\n",
    "import torch\n",
    "from samgeo import SamGeo, tms_to_geotiff"
   ]
  },
  {
   "cell_type": "code",
   "execution_count": 5,
   "metadata": {},
   "outputs": [
    {
     "name": "stdout",
     "output_type": "stream",
     "text": [
      "The output file satellite.tif already exists. Use `overwrite=True` to overwrite it.\n",
      "Checkpoint /Users/tnmthai/Downloads/sam_vit_h_4b8939.pth does not exist.\n"
     ]
    },
    {
     "name": "stderr",
     "output_type": "stream",
     "text": [
      "Downloading...\n",
      "From: https://dl.fbaipublicfiles.com/segment_anything/sam_vit_h_4b8939.pth\n",
      "To: /Users/tnmthai/Downloads/sam_vit_h_4b8939.pth\n",
      "100%|██████████| 2.56G/2.56G [01:07<00:00, 38.1MB/s]\n",
      "/Users/tnmthai/anaconda3/envs/gee/lib/python3.11/site-packages/rasterio/__init__.py:304: NotGeoreferencedWarning: Dataset has no geotransform, gcps, or rpcs. The identity matrix will be returned.\n",
      "  dataset = DatasetReader(path, driver=driver, sharing=sharing, **kwargs)\n"
     ]
    }
   ],
   "source": [
    "bbox = [-95.3704, 29.6762, -95.368, 29.6775]\n",
    "image = 'satellite.tif'\n",
    "tms_to_geotiff(output=image, bbox=bbox, zoom=20, source='Satellite')\n",
    "\n",
    "out_dir = os.path.join(os.path.expanduser('~'), 'Downloads')\n",
    "checkpoint = os.path.join(out_dir, 'sam_vit_h_4b8939.pth')\n",
    "\n",
    "device = 'cuda' if torch.cuda.is_available() else 'cpu'\n",
    "sam = SamGeo(\n",
    "    checkpoint=checkpoint,\n",
    "    model_type='vit_h',\n",
    "    device=device,\n",
    "    # erosion_kernel=(3, 3),\n",
    "    # mask_multiplier=255,\n",
    "    sam_kwargs=None,\n",
    ")\n",
    "\n",
    "mask = 'segment.tiff'\n",
    "sam.generate(image, mask)\n",
    "\n",
    "vector = 'segment.gpkg'\n",
    "sam.tiff_to_gpkg(mask, vector, simplify_tolerance=None)"
   ]
  }
 ],
 "metadata": {
  "kernelspec": {
   "display_name": "gee",
   "language": "python",
   "name": "python3"
  },
  "language_info": {
   "codemirror_mode": {
    "name": "ipython",
    "version": 3
   },
   "file_extension": ".py",
   "mimetype": "text/x-python",
   "name": "python",
   "nbconvert_exporter": "python",
   "pygments_lexer": "ipython3",
   "version": "3.11.3"
  },
  "orig_nbformat": 4
 },
 "nbformat": 4,
 "nbformat_minor": 2
}
