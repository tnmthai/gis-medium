{
 "cells": [
  {
   "cell_type": "code",
   "execution_count": 1,
   "metadata": {},
   "outputs": [
    {
     "data": {
      "application/javascript": "\n        var code = IPython.notebook.insert_cell_below('code');\n        code.set_text(atob(\"ZGF0YXNldCA9IGVlLkltYWdlQ29sbGVjdGlvbignSkFYQS9HQ09NLUMvTDMvTEFORC9MQUkvVjInKSBcCiAgICAgICAgICAgICAgICAuZmlsdGVyRGF0ZSgnMjAyMC0wMS0wMScsICcyMDIwLTAyLTAxJykgXAogICAgICAgICAgICAgICAgLmZpbHRlcihlZS5GaWx0ZXIuZXEoJ1NBVEVMTElURV9ESVJFQ1RJT04nLCAnRCcpKQoKIyBNdWx0aXBseSB3aXRoIHNsb3BlIGNvZWZmaWNpZW50CmRhdGFzZXQgPSBkYXRhc2V0Lm1lYW4oKS5tdWx0aXBseSgwLjAwMSkKCnZpc3VhbGl6YXRpb24gPSB7CiAgJ2JhbmRzJzogWydMQUlfQVZFJ10sCiAgJ21pbic6IC03LAogICdtYXgnOiA3LAogICdwYWxldHRlJzogWwogICAgJzA0MDI3NCcsJzA0MDI4MScsJzA1MDJhMycsJzA1MDJiOCcsJzA1MDJjZScsJzA1MDJlNicsCiAgICAnMDYwMmZmJywnMjM1Y2IxJywnMzA3ZWYzJywnMjY5ZGIxJywnMzBjOGUyJywnMzJkM2VmJywKICAgICczYmUyODUnLCczZmYzOGYnLCc4NmUyNmYnLCczYWUyMzcnLCdiNWUyMmUnLCdkNmUyMWYnLAogICAgJ2ZmZjcwNScsJ2ZmZDYxMScsJ2ZmYjYxMycsJ2ZmOGIxMycsJ2ZmNmUwOCcsJ2ZmNTAwZCcsCiAgICAnZmYwMDAwJywnZGUwMTAxJywnYzIxMzAxJywnYTcxMDAxJywnOTExMDAzJywKICBdCn0KCk1hcC5zZXRDZW50ZXIoMTI4LjQ1LCAzMy4zMywgNSkKCk1hcC5hZGRMYXllcihkYXRhc2V0LCB2aXN1YWxpemF0aW9uLCAnTGVhZiBBcmVhIEluZGV4JykK\"));\n    ",
      "text/plain": [
       "<IPython.core.display.Javascript object>"
      ]
     },
     "metadata": {},
     "output_type": "display_data"
    }
   ],
   "source": [
    "# Import earth engine python api and geemap \n",
    "import geemap, ee\n",
    "map1 = geemap.Map()\n",
    "\n"
   ]
  },
  {
   "cell_type": "code",
   "execution_count": 16,
   "metadata": {},
   "outputs": [],
   "source": [
    "# get our Ho Chi Minh, Vietnam\n",
    "# I have taken level 1 data for country data from FAO datasets\n",
    "aoi = ee.FeatureCollection(\"FAO/GAUL/2015/level1\") \\\n",
    "   .filter(ee.Filter.eq('ADM1_NAME',\"Ho Chi Minh City\")).geometry() "
   ]
  },
  {
   "cell_type": "code",
   "execution_count": 3,
   "metadata": {},
   "outputs": [],
   "source": [
    "def getEVI(image):\n",
    "    # Compute the EVI using an expression.\n",
    "    EVI = image.expression(\n",
    "        '2.5 * ((NIR - RED) / (NIR + 6 * RED - 7.5 * BLUE + 1))', {\n",
    "            'NIR': image.select('B8').divide(10000),\n",
    "            'RED': image.select('B4').divide(10000),\n",
    "            'BLUE': image.select('B2').divide(10000)\n",
    "        }).rename(\"EVI\")\n",
    "\n",
    "    image = image.addBands(EVI)\n",
    "\n",
    "    return(image)"
   ]
  },
  {
   "cell_type": "code",
   "execution_count": 4,
   "metadata": {},
   "outputs": [],
   "source": [
    "def addDate(image):\n",
    "    img_date = ee.Date(image.date())\n",
    "    img_date = ee.Number.parse(img_date.format('YYYYMMdd'))\n",
    "    return image.addBands(ee.Image(img_date).rename('date').toInt())"
   ]
  },
  {
   "cell_type": "code",
   "execution_count": 5,
   "metadata": {},
   "outputs": [],
   "source": [
    "# filter sentinel 2 images and apply the EVI formula, finally we obtain \n",
    "# single image with median operation\n",
    "\n",
    "Sentinel_data = ee.ImageCollection('COPERNICUS/S2') \\\n",
    "    .filterDate(\"2022-03-01\",\"2022-03-31\").filterBounds(aoi) \\\n",
    "    .map(getEVI)"
   ]
  },
  {
   "cell_type": "code",
   "execution_count": 6,
   "metadata": {},
   "outputs": [],
   "source": [
    "def getLAI(image):\n",
    "    LAI = image.expression(\n",
    "        '(3.618*EVI - 0.118)', {\n",
    "            'EVI': image.select('EVI')\n",
    "        }).rename(\"LAI\")\n",
    "    image = image.addBands(LAI)\n",
    "\n",
    "    return(image)"
   ]
  },
  {
   "cell_type": "code",
   "execution_count": 7,
   "metadata": {},
   "outputs": [],
   "source": [
    "Lai_image = Sentinel_data.map(getLAI).map(addDate).median().clip(aoi)"
   ]
  },
  {
   "cell_type": "code",
   "execution_count": 8,
   "metadata": {},
   "outputs": [
    {
     "data": {
      "application/vnd.jupyter.widget-view+json": {
       "model_id": "cdc19f859a5140a29d005a08b96c7ed6",
       "version_major": 2,
       "version_minor": 0
      },
      "text/plain": [
       "Map(center=[10.752267385049521, 106.69138504342378], controls=(WidgetControl(options=['position', 'transparent…"
      ]
     },
     "execution_count": 8,
     "metadata": {},
     "output_type": "execute_result"
    }
   ],
   "source": [
    "# set some thresholds\n",
    "#  A nice EVI palette\n",
    "palett = [\n",
    "    'FFFFFF', 'CE7E45', 'DF923D', 'F1B555', 'FCD163', '99B718',\n",
    "    '74A901', '66A000', '529400', '3E8601', '207401', '056201',\n",
    "    '004C00', '023B01', '012E01', '011D01', '011301']\n",
    "\n",
    "pall = {\"min\":0.5, \"max\":3.5, 'palette':palett}\n",
    "\n",
    "map1.centerObject(aoi, 8)\n",
    "map1.addLayer(Lai_image.select('LAI'), pall, \"LAI\")\n",
    "\n",
    "map1.addLayerControl()\n",
    "map1"
   ]
  },
  {
   "cell_type": "code",
   "execution_count": 17,
   "metadata": {},
   "outputs": [
    {
     "data": {
      "application/vnd.jupyter.widget-view+json": {
       "model_id": "4af394bf02c046bd8571eb5dce794cd2",
       "version_major": 2,
       "version_minor": 0
      },
      "text/plain": [
       "Map(center=[33.33, 128.45], controls=(WidgetControl(options=['position', 'transparent_bg'], widget=HBox(childr…"
      ]
     },
     "execution_count": 17,
     "metadata": {},
     "output_type": "execute_result"
    }
   ],
   "source": [
    "dataset = ee.ImageCollection('JAXA/GCOM-C/L3/LAND/LAI/V3') \\\n",
    "                .filterDate(\"2022-03-01\",\"2022-03-31\") \\\n",
    "                .filter(ee.Filter.eq('SATELLITE_DIRECTION', 'D')).mean().multiply(0.001).clip(aoi)\n",
    "\n",
    "# Multiply with slope coefficient\n",
    "# dataset = dataset.mean().multiply(0.001)\n",
    "Map = geemap.Map()\n",
    "visualization = {\n",
    "  'bands': ['LAI_AVE'],\n",
    "  'min': -7,\n",
    "  'max': 7,\n",
    "  'palette': [\n",
    "    '040274','040281','0502a3','0502b8','0502ce','0502e6',\n",
    "    '0602ff','235cb1','307ef3','269db1','30c8e2','32d3ef',\n",
    "    '3be285','3ff38f','86e26f','3ae237','b5e22e','d6e21f',\n",
    "    'fff705','ffd611','ffb613','ff8b13','ff6e08','ff500d',\n",
    "    'ff0000','de0101','c21301','a71001','911003',\n",
    "  ]\n",
    "}\n",
    "\n",
    "Map.setCenter(128.45, 33.33, 5)\n",
    "\n",
    "Map.addLayer(dataset, visualization, 'Leaf Area Index')\n",
    "Map"
   ]
  }
 ],
 "metadata": {
  "kernelspec": {
   "display_name": "geosense",
   "language": "python",
   "name": "python3"
  },
  "language_info": {
   "codemirror_mode": {
    "name": "ipython",
    "version": 3
   },
   "file_extension": ".py",
   "mimetype": "text/x-python",
   "name": "python",
   "nbconvert_exporter": "python",
   "pygments_lexer": "ipython3",
   "version": "3.10.12"
  },
  "orig_nbformat": 4
 },
 "nbformat": 4,
 "nbformat_minor": 2
}
