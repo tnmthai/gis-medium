{
 "cells": [
  {
   "cell_type": "code",
   "execution_count": 1,
   "metadata": {},
   "outputs": [
    {
     "ename": "ModuleNotFoundError",
     "evalue": "No module named 'geowombat'",
     "output_type": "error",
     "traceback": [
      "\u001b[0;31m---------------------------------------------------------------------------\u001b[0m",
      "\u001b[0;31mModuleNotFoundError\u001b[0m                       Traceback (most recent call last)",
      "Cell \u001b[0;32mIn[1], line 2\u001b[0m\n\u001b[1;32m      1\u001b[0m \u001b[39m# Import GeoWombat\u001b[39;00m\n\u001b[0;32m----> 2\u001b[0m \u001b[39mimport\u001b[39;00m \u001b[39mgeowombat\u001b[39;00m \u001b[39mas\u001b[39;00m \u001b[39mgw\u001b[39;00m\n\u001b[1;32m      4\u001b[0m \u001b[39m# import plotting\u001b[39;00m\n\u001b[1;32m      5\u001b[0m \u001b[39mimport\u001b[39;00m \u001b[39mmatplotlib\u001b[39;00m\u001b[39m.\u001b[39;00m\u001b[39mpyplot\u001b[39;00m \u001b[39mas\u001b[39;00m \u001b[39mplt\u001b[39;00m\n",
      "\u001b[0;31mModuleNotFoundError\u001b[0m: No module named 'geowombat'"
     ]
    }
   ],
   "source": [
    "# Import GeoWombat\n",
    "import geowombat as gw\n",
    "\n",
    "# import plotting\n",
    "import matplotlib.pyplot as plt\n",
    "import matplotlib.patheffects as pe\n",
    "\n",
    "# load data\n",
    "from geowombat.data import l8_224077_20200518_B2, l8_224078_20200518_B2\n",
    "\n",
    "fig, ax = plt.subplots(dpi=200)\n",
    "filenames = [l8_224077_20200518_B2, l8_224078_20200518_B2]\n",
    "with gw.open(filenames,\n",
    "                band_names=['blue'],\n",
    "                mosaic=True,\n",
    "                overlap = 'mean',\n",
    "                bounds_by='union') as src:\n",
    "    src.where(src != 0).sel(band='blue').plot.imshow(robust=True, ax=ax)\n",
    "plt.tight_layout(pad=1)"
   ]
  }
 ],
 "metadata": {
  "kernelspec": {
   "display_name": "geosense",
   "language": "python",
   "name": "python3"
  },
  "language_info": {
   "codemirror_mode": {
    "name": "ipython",
    "version": 3
   },
   "file_extension": ".py",
   "mimetype": "text/x-python",
   "name": "python",
   "nbconvert_exporter": "python",
   "pygments_lexer": "ipython3",
   "version": "3.10.12"
  },
  "orig_nbformat": 4
 },
 "nbformat": 4,
 "nbformat_minor": 2
}
