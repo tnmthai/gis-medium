{
 "cells": [
  {
   "cell_type": "code",
   "execution_count": 14,
   "metadata": {},
   "outputs": [],
   "source": [
    "import ee\n",
    "import geemap"
   ]
  },
  {
   "cell_type": "code",
   "execution_count": null,
   "metadata": {},
   "outputs": [],
   "source": [
    "# geemap.update_package()"
   ]
  },
  {
   "cell_type": "code",
   "execution_count": 15,
   "metadata": {},
   "outputs": [
    {
     "data": {
      "application/vnd.jupyter.widget-view+json": {
       "model_id": "8ce28734ede24ac08d536a490198afdf",
       "version_major": 2,
       "version_minor": 0
      },
      "text/plain": [
       "Map(center=[10.532920240208849, 105.5017914630059], controls=(WidgetControl(options=['position', 'transparent_…"
      ]
     },
     "execution_count": 15,
     "metadata": {},
     "output_type": "execute_result"
    }
   ],
   "source": [
    "Map = geemap.Map()\n",
    "Map.setCenter(105.5017914630059, 10.532920240208849, 12)\n",
    "Map"
   ]
  },
  {
   "cell_type": "code",
   "execution_count": 16,
   "metadata": {},
   "outputs": [
    {
     "name": "stdout",
     "output_type": "stream",
     "text": [
      "Generating URL...\n",
      "Downloading GIF image from https://earthengine.googleapis.com/v1alpha/projects/earthengine-legacy/videoThumbnails/58a7a645e70ce2fec764843dbe21bdd5-5069a075c27578271ae341703e5e66e7:getPixels\n",
      "Please wait ...\n",
      "The GIF image has been saved to: C:\\Users\\trant\\AppData\\Local\\Temp\\c52ab6a9-1832-454f-b5e8-e1195c0f3dad.gif\n",
      "Generating URL...\n",
      "Downloading GIF image from https://earthengine.googleapis.com/v1alpha/projects/earthengine-legacy/videoThumbnails/d27149935d4d18ec2599b7a22355ff26-8c511c4b5b60e4d4d2ecba249fc50051:getPixels\n",
      "Please wait ...\n",
      "The GIF image has been saved to: C:\\Users\\trant\\AppData\\Local\\Temp\\c52ab6a9-1832-454f-b5e8-e1195c0f3dad_nd.gif\n",
      "ffmpeg is not installed on your computer.\n",
      "ffmpeg is not installed on your computer.\n",
      "Adding GIF to the map ...\n",
      "The timelapse has been added to the map.\n"
     ]
    }
   ],
   "source": [
    "Map.add_landsat_ts_gif(label= 'Dong Thap, VN', bands=['SWIR1', 'NIR', 'Red'], nd_bands=['Green', 'SWIR1'], nd_palette=['black', 'blue'], start_year=2000, start_date='01-01', end_date='12-31', frames_per_second=5)\n"
   ]
  },
  {
   "cell_type": "code",
   "execution_count": 17,
   "metadata": {},
   "outputs": [
    {
     "name": "stdout",
     "output_type": "stream",
     "text": [
      "Generating URL...\n",
      "Downloading GIF image from https://earthengine.googleapis.com/v1alpha/projects/earthengine-legacy/videoThumbnails/58a7a645e70ce2fec764843dbe21bdd5-84df020b392d1949320252591466accc:getPixels\n",
      "Please wait ...\n",
      "The GIF image has been saved to: C:\\Users\\trant\\AppData\\Local\\Temp\\0dee023c-0d21-4a86-ab6d-355cac941c0b.gif\n",
      "Generating URL...\n",
      "Downloading GIF image from https://earthengine.googleapis.com/v1alpha/projects/earthengine-legacy/videoThumbnails/f99f671b6f11a6245e801ba09f6e8deb-4add31db79a21508ab678bde374adfc2:getPixels\n",
      "Please wait ...\n",
      "The GIF image has been saved to: C:\\Users\\trant\\AppData\\Local\\Temp\\0dee023c-0d21-4a86-ab6d-355cac941c0b_nd.gif\n",
      "ffmpeg is not installed on your computer.\n",
      "ffmpeg is not installed on your computer.\n",
      "Adding GIF to the map ...\n",
      "The timelapse has been added to the map.\n"
     ]
    }
   ],
   "source": [
    "Map.add_landsat_ts_gif(label= 'Dong Thap, VN', bands=['SWIR1', 'NIR', 'Red'], nd_bands=['NIR', 'Red'], nd_palette=['black', 'green'], start_year=2000, start_date='01-01', end_date='12-31', frames_per_second=5)\n"
   ]
  }
 ],
 "metadata": {
  "kernelspec": {
   "display_name": "geosense",
   "language": "python",
   "name": "python3"
  },
  "language_info": {
   "codemirror_mode": {
    "name": "ipython",
    "version": 3
   },
   "file_extension": ".py",
   "mimetype": "text/x-python",
   "name": "python",
   "nbconvert_exporter": "python",
   "pygments_lexer": "ipython3",
   "version": "3.10.11"
  },
  "orig_nbformat": 4
 },
 "nbformat": 4,
 "nbformat_minor": 2
}
