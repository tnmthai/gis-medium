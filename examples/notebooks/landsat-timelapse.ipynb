{
 "cells": [
  {
   "cell_type": "code",
   "execution_count": 2,
   "metadata": {},
   "outputs": [],
   "source": [
    "import ee\n",
    "import geemap"
   ]
  },
  {
   "cell_type": "code",
   "execution_count": null,
   "metadata": {},
   "outputs": [],
   "source": [
    "# geemap.update_package()"
   ]
  },
  {
   "cell_type": "code",
   "execution_count": 3,
   "metadata": {},
   "outputs": [
    {
     "data": {
      "application/vnd.jupyter.widget-view+json": {
       "model_id": "769f9af48c984aa6ab6e0cac1c80a549",
       "version_major": 2,
       "version_minor": 0
      },
      "text/plain": [
       "Map(center=[10.532920240208849, 105.5017914630059], controls=(WidgetControl(options=['position', 'transparent_…"
      ]
     },
     "execution_count": 3,
     "metadata": {},
     "output_type": "execute_result"
    }
   ],
   "source": [
    "Map = geemap.Map()\n",
    "Map.setCenter(105.5017914630059, 10.532920240208849, 12)\n",
    "Map"
   ]
  },
  {
   "cell_type": "code",
   "execution_count": 4,
   "metadata": {},
   "outputs": [
    {
     "name": "stdout",
     "output_type": "stream",
     "text": [
      "Generating URL...\n",
      "Downloading GIF image from https://earthengine.googleapis.com/v1alpha/projects/earthengine-legacy/videoThumbnails/50a96e753ffbc3337ad1e30fd878acab-e4cf75bd7924111534ea3f256d5d8744:getPixels\n",
      "Please wait ...\n",
      "The GIF image has been saved to: C:\\Users\\trant\\AppData\\Local\\Temp\\734a8a4e-5565-4e15-8b3b-9ca9339853be.gif\n",
      "Generating URL...\n",
      "Downloading GIF image from https://earthengine.googleapis.com/v1alpha/projects/earthengine-legacy/videoThumbnails/8cb38e8fcafd55b0f237d450b6a6baaf-89f1cc11bd437d3ee75ac70a61d6601c:getPixels\n",
      "Please wait ...\n",
      "The GIF image has been saved to: C:\\Users\\trant\\AppData\\Local\\Temp\\734a8a4e-5565-4e15-8b3b-9ca9339853be_nd.gif\n",
      "ffmpeg is not installed on your computer.\n",
      "ffmpeg is not installed on your computer.\n",
      "Adding GIF to the map ...\n",
      "The timelapse has been added to the map.\n"
     ]
    }
   ],
   "source": [
    "Map.add_landsat_ts_gif(label= 'Dong Thap, VN', bands=['SWIR1', 'NIR', 'Red'], nd_bands=['Green', 'SWIR1'], nd_palette=['black', 'blue'], start_year=2000, start_date='01-01', end_date='12-31', frames_per_second=5)\n"
   ]
  },
  {
   "cell_type": "code",
   "execution_count": null,
   "metadata": {},
   "outputs": [],
   "source": [
    "Map.add_landsat_ts_gif(label= 'Dong Thap, VN', bands=['SWIR1', 'NIR', 'Red'], nd_bands=['NIR', 'Red'], nd_palette=['black', 'green'], start_year=2000, start_date='01-01', end_date='12-31', frames_per_second=5)\n"
   ]
  },
  {
   "cell_type": "code",
   "execution_count": 5,
   "metadata": {},
   "outputs": [],
   "source": [
    "import ffmpeg"
   ]
  }
 ],
 "metadata": {
  "kernelspec": {
   "display_name": "geosense",
   "language": "python",
   "name": "python3"
  },
  "language_info": {
   "codemirror_mode": {
    "name": "ipython",
    "version": 3
   },
   "file_extension": ".py",
   "mimetype": "text/x-python",
   "name": "python",
   "nbconvert_exporter": "python",
   "pygments_lexer": "ipython3",
   "version": "3.10.12"
  },
  "orig_nbformat": 4
 },
 "nbformat": 4,
 "nbformat_minor": 2
}
