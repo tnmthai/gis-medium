{
 "cells": [
  {
   "cell_type": "code",
   "execution_count": 1,
   "metadata": {},
   "outputs": [
    {
     "ename": "FileNotFoundError",
     "evalue": "[Errno 2] No such file or directory: 'C:\\\\Users\\\\trant\\\\AppData\\\\Roaming\\\\Python\\\\Python39\\\\site-packages\\\\pyproj.libs\\\\.load-order-pyproj-3.5.0'",
     "output_type": "error",
     "traceback": [
      "\u001b[1;31m---------------------------------------------------------------------------\u001b[0m",
      "\u001b[1;31mFileNotFoundError\u001b[0m                         Traceback (most recent call last)",
      "\u001b[1;32mc:\\Users\\trant\\Documents\\GitHub\\gis-medium\\examples\\notebooks\\kml2shp.ipynb Cell 1\u001b[0m line \u001b[0;36m1\n\u001b[1;32m----> <a href='vscode-notebook-cell:/c%3A/Users/trant/Documents/GitHub/gis-medium/examples/notebooks/kml2shp.ipynb#W0sZmlsZQ%3D%3D?line=0'>1</a>\u001b[0m \u001b[39mimport\u001b[39;00m \u001b[39mgeopandas\u001b[39;00m \u001b[39mas\u001b[39;00m \u001b[39mgpd\u001b[39;00m\n\u001b[0;32m      <a href='vscode-notebook-cell:/c%3A/Users/trant/Documents/GitHub/gis-medium/examples/notebooks/kml2shp.ipynb#W0sZmlsZQ%3D%3D?line=1'>2</a>\u001b[0m \u001b[39mfrom\u001b[39;00m \u001b[39mrasterio\u001b[39;00m\u001b[39m.\u001b[39;00m\u001b[39mfeatures\u001b[39;00m \u001b[39mimport\u001b[39;00m geometry_mask\n\u001b[0;32m      <a href='vscode-notebook-cell:/c%3A/Users/trant/Documents/GitHub/gis-medium/examples/notebooks/kml2shp.ipynb#W0sZmlsZQ%3D%3D?line=2'>3</a>\u001b[0m \u001b[39mimport\u001b[39;00m \u001b[39mfiona\u001b[39;00m\n",
      "File \u001b[1;32mc:\\Users\\trant\\Anaconda3\\envs\\geosense\\lib\\site-packages\\geopandas\\__init__.py:1\u001b[0m\n\u001b[1;32m----> 1\u001b[0m \u001b[39mfrom\u001b[39;00m \u001b[39mgeopandas\u001b[39;00m\u001b[39m.\u001b[39;00m\u001b[39m_config\u001b[39;00m \u001b[39mimport\u001b[39;00m options  \u001b[39m# noqa\u001b[39;00m\n\u001b[0;32m      3\u001b[0m \u001b[39mfrom\u001b[39;00m \u001b[39mgeopandas\u001b[39;00m\u001b[39m.\u001b[39;00m\u001b[39mgeoseries\u001b[39;00m \u001b[39mimport\u001b[39;00m GeoSeries  \u001b[39m# noqa\u001b[39;00m\n\u001b[0;32m      4\u001b[0m \u001b[39mfrom\u001b[39;00m \u001b[39mgeopandas\u001b[39;00m\u001b[39m.\u001b[39;00m\u001b[39mgeodataframe\u001b[39;00m \u001b[39mimport\u001b[39;00m GeoDataFrame  \u001b[39m# noqa\u001b[39;00m\n",
      "File \u001b[1;32mc:\\Users\\trant\\Anaconda3\\envs\\geosense\\lib\\site-packages\\geopandas\\_config.py:109\u001b[0m\n\u001b[0;32m    102\u001b[0m     \u001b[39mimport\u001b[39;00m \u001b[39mgeopandas\u001b[39;00m\u001b[39m.\u001b[39;00m\u001b[39m_compat\u001b[39;00m \u001b[39mas\u001b[39;00m \u001b[39mcompat\u001b[39;00m\n\u001b[0;32m    104\u001b[0m     compat\u001b[39m.\u001b[39mset_use_pygeos(value)\n\u001b[0;32m    107\u001b[0m use_pygeos \u001b[39m=\u001b[39m Option(\n\u001b[0;32m    108\u001b[0m     key\u001b[39m=\u001b[39m\u001b[39m\"\u001b[39m\u001b[39muse_pygeos\u001b[39m\u001b[39m\"\u001b[39m,\n\u001b[1;32m--> 109\u001b[0m     default_value\u001b[39m=\u001b[39m_default_use_pygeos(),\n\u001b[0;32m    110\u001b[0m     doc\u001b[39m=\u001b[39m(\n\u001b[0;32m    111\u001b[0m         \u001b[39m\"\u001b[39m\u001b[39mWhether to use PyGEOS to speed up spatial operations. The default is True \u001b[39m\u001b[39m\"\u001b[39m\n\u001b[0;32m    112\u001b[0m         \u001b[39m\"\u001b[39m\u001b[39mif PyGEOS is installed, and follows the USE_PYGEOS environment variable \u001b[39m\u001b[39m\"\u001b[39m\n\u001b[0;32m    113\u001b[0m         \u001b[39m\"\u001b[39m\u001b[39mif set.\u001b[39m\u001b[39m\"\u001b[39m\n\u001b[0;32m    114\u001b[0m     ),\n\u001b[0;32m    115\u001b[0m     validator\u001b[39m=\u001b[39m_validate_bool,\n\u001b[0;32m    116\u001b[0m     callback\u001b[39m=\u001b[39m_callback_use_pygeos,\n\u001b[0;32m    117\u001b[0m )\n\u001b[0;32m    120\u001b[0m options \u001b[39m=\u001b[39m Options({\u001b[39m\"\u001b[39m\u001b[39mdisplay_precision\u001b[39m\u001b[39m\"\u001b[39m: display_precision, \u001b[39m\"\u001b[39m\u001b[39muse_pygeos\u001b[39m\u001b[39m\"\u001b[39m: use_pygeos})\n",
      "File \u001b[1;32mc:\\Users\\trant\\Anaconda3\\envs\\geosense\\lib\\site-packages\\geopandas\\_config.py:95\u001b[0m, in \u001b[0;36m_default_use_pygeos\u001b[1;34m()\u001b[0m\n\u001b[0;32m     94\u001b[0m \u001b[39mdef\u001b[39;00m \u001b[39m_default_use_pygeos\u001b[39m():\n\u001b[1;32m---> 95\u001b[0m     \u001b[39mimport\u001b[39;00m \u001b[39mgeopandas\u001b[39;00m\u001b[39m.\u001b[39;00m\u001b[39m_compat\u001b[39;00m \u001b[39mas\u001b[39;00m \u001b[39mcompat\u001b[39;00m\n\u001b[0;32m     97\u001b[0m     \u001b[39mreturn\u001b[39;00m compat\u001b[39m.\u001b[39mUSE_PYGEOS\n",
      "File \u001b[1;32mc:\\Users\\trant\\Anaconda3\\envs\\geosense\\lib\\site-packages\\geopandas\\_compat.py:9\u001b[0m\n\u001b[0;32m      7\u001b[0m \u001b[39mimport\u001b[39;00m \u001b[39mnumpy\u001b[39;00m \u001b[39mas\u001b[39;00m \u001b[39mnp\u001b[39;00m\n\u001b[0;32m      8\u001b[0m \u001b[39mimport\u001b[39;00m \u001b[39mpandas\u001b[39;00m \u001b[39mas\u001b[39;00m \u001b[39mpd\u001b[39;00m\n\u001b[1;32m----> 9\u001b[0m \u001b[39mimport\u001b[39;00m \u001b[39mpyproj\u001b[39;00m\n\u001b[0;32m     10\u001b[0m \u001b[39mimport\u001b[39;00m \u001b[39mshapely\u001b[39;00m\n\u001b[0;32m     11\u001b[0m \u001b[39mimport\u001b[39;00m \u001b[39mshapely\u001b[39;00m\u001b[39m.\u001b[39;00m\u001b[39mgeos\u001b[39;00m\n",
      "File \u001b[1;32m~\\AppData\\Roaming\\Python\\Python39\\site-packages\\pyproj\\__init__.py:56\u001b[0m\n\u001b[0;32m     52\u001b[0m                 \u001b[39mif\u001b[39;00m \u001b[39mnot\u001b[39;00m is_pyinstaller \u001b[39mor\u001b[39;00m os\u001b[39m.\u001b[39mpath\u001b[39m.\u001b[39misfile(lib_path):\n\u001b[0;32m     53\u001b[0m                     ctypes\u001b[39m.\u001b[39mWinDLL(lib_path)\n\u001b[1;32m---> 56\u001b[0m _delvewheel_init_patch_1_3_5()\n\u001b[0;32m     57\u001b[0m \u001b[39mdel\u001b[39;00m _delvewheel_init_patch_1_3_5\n\u001b[0;32m     58\u001b[0m \u001b[39m# end delvewheel patch\u001b[39;00m\n",
      "File \u001b[1;32m~\\AppData\\Roaming\\Python\\Python39\\site-packages\\pyproj\\__init__.py:48\u001b[0m, in \u001b[0;36m_delvewheel_init_patch_1_3_5\u001b[1;34m()\u001b[0m\n\u001b[0;32m     46\u001b[0m load_order_filepath \u001b[39m=\u001b[39m os\u001b[39m.\u001b[39mpath\u001b[39m.\u001b[39mjoin(libs_dir, \u001b[39m'\u001b[39m\u001b[39m.load-order-pyproj-3.5.0\u001b[39m\u001b[39m'\u001b[39m)\n\u001b[0;32m     47\u001b[0m \u001b[39mif\u001b[39;00m \u001b[39mnot\u001b[39;00m is_pyinstaller \u001b[39mor\u001b[39;00m os\u001b[39m.\u001b[39mpath\u001b[39m.\u001b[39misfile(load_order_filepath):\n\u001b[1;32m---> 48\u001b[0m     \u001b[39mwith\u001b[39;00m \u001b[39mopen\u001b[39;49m(os\u001b[39m.\u001b[39;49mpath\u001b[39m.\u001b[39;49mjoin(libs_dir, \u001b[39m'\u001b[39;49m\u001b[39m.load-order-pyproj-3.5.0\u001b[39;49m\u001b[39m'\u001b[39;49m)) \u001b[39mas\u001b[39;00m file:\n\u001b[0;32m     49\u001b[0m         load_order \u001b[39m=\u001b[39m file\u001b[39m.\u001b[39mread()\u001b[39m.\u001b[39msplit()\n\u001b[0;32m     50\u001b[0m     \u001b[39mfor\u001b[39;00m lib \u001b[39min\u001b[39;00m load_order:\n",
      "\u001b[1;31mFileNotFoundError\u001b[0m: [Errno 2] No such file or directory: 'C:\\\\Users\\\\trant\\\\AppData\\\\Roaming\\\\Python\\\\Python39\\\\site-packages\\\\pyproj.libs\\\\.load-order-pyproj-3.5.0'"
     ]
    }
   ],
   "source": [
    "import geopandas as gpd\n",
    "from rasterio.features import geometry_mask\n",
    "import fiona\n",
    "\n",
    "# Load KML file using geopandas\n",
    "gdf = gpd.read_file('example.kml', driver='KML')\n",
    "\n",
    "# Extract the geometry from the GeoDataFrame\n",
    "geom = gdf.geometry[0]\n",
    "\n",
    "# Create a mask from the geometry\n",
    "mask = geometry_mask([geom], (1000, 1000), transform=gdf.crs)\n",
    "\n",
    "# Create a new GeoDataFrame with the mask\n",
    "new_gdf = gpd.GeoDataFrame({'geometry': [geom]}, crs=gdf.crs)\n",
    "\n",
    "# Save as a shapefile\n",
    "new_gdf.to_file('/shp/example.shp')\n"
   ]
  }
 ],
 "metadata": {
  "kernelspec": {
   "display_name": "base",
   "language": "python",
   "name": "python3"
  },
  "language_info": {
   "codemirror_mode": {
    "name": "ipython",
    "version": 3
   },
   "file_extension": ".py",
   "mimetype": "text/x-python",
   "name": "python",
   "nbconvert_exporter": "python",
   "pygments_lexer": "ipython3",
   "version": "3.9.16"
  },
  "orig_nbformat": 4
 },
 "nbformat": 4,
 "nbformat_minor": 2
}
