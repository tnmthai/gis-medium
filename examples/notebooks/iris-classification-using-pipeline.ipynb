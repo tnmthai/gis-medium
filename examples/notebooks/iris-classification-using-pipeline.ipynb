{
 "cells": [
  {
   "attachments": {},
   "cell_type": "markdown",
   "id": "b1f9276c",
   "metadata": {
    "_cell_guid": "b1076dfc-b9ad-4769-8c92-a6c4dae69d19",
    "_uuid": "8f2839f25d086af736a60e9eeb907d3b93b6e0e5",
    "execution": {
     "iopub.execute_input": "2021-12-28T10:09:33.824535Z",
     "iopub.status.busy": "2021-12-28T10:09:33.824164Z",
     "iopub.status.idle": "2021-12-28T10:09:33.856265Z",
     "shell.execute_reply": "2021-12-28T10:09:33.855415Z",
     "shell.execute_reply.started": "2021-12-28T10:09:33.824461Z"
    },
    "papermill": {
     "duration": 0.011788,
     "end_time": "2021-12-28T10:47:45.006297",
     "exception": false,
     "start_time": "2021-12-28T10:47:44.994509",
     "status": "completed"
    },
    "tags": []
   },
   "source": [
    "## Some Useful Libraries"
   ]
  },
  {
   "cell_type": "code",
   "execution_count": 1,
   "id": "5e4d5643",
   "metadata": {
    "execution": {
     "iopub.execute_input": "2021-12-28T10:47:45.035129Z",
     "iopub.status.busy": "2021-12-28T10:47:45.033918Z",
     "iopub.status.idle": "2021-12-28T10:47:46.419296Z",
     "shell.execute_reply": "2021-12-28T10:47:46.419812Z",
     "shell.execute_reply.started": "2021-12-28T10:47:16.453135Z"
    },
    "papermill": {
     "duration": 1.401229,
     "end_time": "2021-12-28T10:47:46.420095",
     "exception": false,
     "start_time": "2021-12-28T10:47:45.018866",
     "status": "completed"
    },
    "tags": []
   },
   "outputs": [],
   "source": [
    "import pandas as pd\n",
    "import numpy as np\n",
    "import seaborn as sns\n",
    "\n",
    "from sklearn.model_selection import train_test_split\n",
    "from sklearn.preprocessing import StandardScaler\n",
    "from sklearn.preprocessing import LabelEncoder\n",
    "from sklearn.pipeline import Pipeline\n",
    "\n",
    "from sklearn.decomposition import PCA\n",
    "\n",
    "from sklearn.linear_model import LogisticRegression\n",
    "from sklearn.tree import DecisionTreeClassifier\n",
    "from sklearn.ensemble import RandomForestClassifier"
   ]
  },
  {
   "attachments": {},
   "cell_type": "markdown",
   "id": "16b4803f",
   "metadata": {
    "papermill": {
     "duration": 0.011793,
     "end_time": "2021-12-28T10:47:46.444028",
     "exception": false,
     "start_time": "2021-12-28T10:47:46.432235",
     "status": "completed"
    },
    "tags": []
   },
   "source": [
    "## Load Dataset"
   ]
  },
  {
   "cell_type": "code",
   "execution_count": 2,
   "id": "36d90c39",
   "metadata": {
    "execution": {
     "iopub.execute_input": "2021-12-28T10:47:46.471108Z",
     "iopub.status.busy": "2021-12-28T10:47:46.470511Z",
     "iopub.status.idle": "2021-12-28T10:47:48.682705Z",
     "shell.execute_reply": "2021-12-28T10:47:48.683141Z",
     "shell.execute_reply.started": "2021-12-28T10:47:16.986811Z"
    },
    "papermill": {
     "duration": 2.227235,
     "end_time": "2021-12-28T10:47:48.683311",
     "exception": false,
     "start_time": "2021-12-28T10:47:46.456076",
     "status": "completed"
    },
    "tags": []
   },
   "outputs": [
    {
     "data": {
      "text/html": [
       "<div>\n",
       "<style scoped>\n",
       "    .dataframe tbody tr th:only-of-type {\n",
       "        vertical-align: middle;\n",
       "    }\n",
       "\n",
       "    .dataframe tbody tr th {\n",
       "        vertical-align: top;\n",
       "    }\n",
       "\n",
       "    .dataframe thead th {\n",
       "        text-align: right;\n",
       "    }\n",
       "</style>\n",
       "<table border=\"1\" class=\"dataframe\">\n",
       "  <thead>\n",
       "    <tr style=\"text-align: right;\">\n",
       "      <th></th>\n",
       "      <th>sepal_length</th>\n",
       "      <th>sepal_width</th>\n",
       "      <th>petal_length</th>\n",
       "      <th>petal_width</th>\n",
       "      <th>species</th>\n",
       "    </tr>\n",
       "  </thead>\n",
       "  <tbody>\n",
       "    <tr>\n",
       "      <th>0</th>\n",
       "      <td>5.1</td>\n",
       "      <td>3.5</td>\n",
       "      <td>1.4</td>\n",
       "      <td>0.2</td>\n",
       "      <td>setosa</td>\n",
       "    </tr>\n",
       "    <tr>\n",
       "      <th>1</th>\n",
       "      <td>4.9</td>\n",
       "      <td>3.0</td>\n",
       "      <td>1.4</td>\n",
       "      <td>0.2</td>\n",
       "      <td>setosa</td>\n",
       "    </tr>\n",
       "    <tr>\n",
       "      <th>2</th>\n",
       "      <td>4.7</td>\n",
       "      <td>3.2</td>\n",
       "      <td>1.3</td>\n",
       "      <td>0.2</td>\n",
       "      <td>setosa</td>\n",
       "    </tr>\n",
       "    <tr>\n",
       "      <th>3</th>\n",
       "      <td>4.6</td>\n",
       "      <td>3.1</td>\n",
       "      <td>1.5</td>\n",
       "      <td>0.2</td>\n",
       "      <td>setosa</td>\n",
       "    </tr>\n",
       "    <tr>\n",
       "      <th>4</th>\n",
       "      <td>5.0</td>\n",
       "      <td>3.6</td>\n",
       "      <td>1.4</td>\n",
       "      <td>0.2</td>\n",
       "      <td>setosa</td>\n",
       "    </tr>\n",
       "  </tbody>\n",
       "</table>\n",
       "</div>"
      ],
      "text/plain": [
       "   sepal_length  sepal_width  petal_length  petal_width species\n",
       "0           5.1          3.5           1.4          0.2  setosa\n",
       "1           4.9          3.0           1.4          0.2  setosa\n",
       "2           4.7          3.2           1.3          0.2  setosa\n",
       "3           4.6          3.1           1.5          0.2  setosa\n",
       "4           5.0          3.6           1.4          0.2  setosa"
      ]
     },
     "execution_count": 2,
     "metadata": {},
     "output_type": "execute_result"
    }
   ],
   "source": [
    "df = sns.load_dataset('iris')\n",
    "df.head()"
   ]
  },
  {
   "cell_type": "code",
   "execution_count": 3,
   "id": "b36ec79f",
   "metadata": {
    "execution": {
     "iopub.execute_input": "2021-12-28T10:47:48.711079Z",
     "iopub.status.busy": "2021-12-28T10:47:48.710524Z",
     "iopub.status.idle": "2021-12-28T10:47:48.717671Z",
     "shell.execute_reply": "2021-12-28T10:47:48.718136Z",
     "shell.execute_reply.started": "2021-12-28T10:47:17.008243Z"
    },
    "papermill": {
     "duration": 0.022407,
     "end_time": "2021-12-28T10:47:48.718304",
     "exception": false,
     "start_time": "2021-12-28T10:47:48.695897",
     "status": "completed"
    },
    "tags": []
   },
   "outputs": [],
   "source": [
    "# Here i convert  the target feature into Numerical feature using LabelEncoder\n",
    "le = LabelEncoder()\n",
    "df['species'] = le.fit_transform(df['species'])"
   ]
  },
  {
   "cell_type": "code",
   "execution_count": 4,
   "id": "99f6384a",
   "metadata": {
    "execution": {
     "iopub.execute_input": "2021-12-28T10:47:48.746048Z",
     "iopub.status.busy": "2021-12-28T10:47:48.745498Z",
     "iopub.status.idle": "2021-12-28T10:47:48.756193Z",
     "shell.execute_reply": "2021-12-28T10:47:48.756664Z",
     "shell.execute_reply.started": "2021-12-28T10:47:17.018622Z"
    },
    "papermill": {
     "duration": 0.026242,
     "end_time": "2021-12-28T10:47:48.756856",
     "exception": false,
     "start_time": "2021-12-28T10:47:48.730614",
     "status": "completed"
    },
    "tags": []
   },
   "outputs": [],
   "source": [
    "X_train,X_test,y_train,y_test = train_test_split(df.drop('species', axis=1), df['species'],test_size=0.2,\n",
    "                                                random_state=42)"
   ]
  },
  {
   "attachments": {},
   "cell_type": "markdown",
   "id": "85ded4c9",
   "metadata": {
    "papermill": {
     "duration": 0.012532,
     "end_time": "2021-12-28T10:47:48.781781",
     "exception": false,
     "start_time": "2021-12-28T10:47:48.769249",
     "status": "completed"
    },
    "tags": []
   },
   "source": [
    "## Pipeline"
   ]
  },
  {
   "cell_type": "code",
   "execution_count": 5,
   "id": "465b928e",
   "metadata": {
    "execution": {
     "iopub.execute_input": "2021-12-28T10:47:48.809498Z",
     "iopub.status.busy": "2021-12-28T10:47:48.808924Z",
     "iopub.status.idle": "2021-12-28T10:47:48.811889Z",
     "shell.execute_reply": "2021-12-28T10:47:48.812371Z",
     "shell.execute_reply.started": "2021-12-28T10:47:17.029694Z"
    },
    "papermill": {
     "duration": 0.018353,
     "end_time": "2021-12-28T10:47:48.812552",
     "exception": false,
     "start_time": "2021-12-28T10:47:48.794199",
     "status": "completed"
    },
    "tags": []
   },
   "outputs": [],
   "source": [
    "## Pipeline Creation\n",
    "## 1.Data preprocessing by using Standard scalar and Label encoder\n",
    "## 2.Reduce Dimension using PCA\n",
    "## 3.Apply classifier"
   ]
  },
  {
   "cell_type": "code",
   "execution_count": 6,
   "id": "3dec3785",
   "metadata": {
    "execution": {
     "iopub.execute_input": "2021-12-28T10:47:48.840277Z",
     "iopub.status.busy": "2021-12-28T10:47:48.839735Z",
     "iopub.status.idle": "2021-12-28T10:47:48.843275Z",
     "shell.execute_reply": "2021-12-28T10:47:48.843792Z",
     "shell.execute_reply.started": "2021-12-28T10:47:17.036645Z"
    },
    "papermill": {
     "duration": 0.019245,
     "end_time": "2021-12-28T10:47:48.843946",
     "exception": false,
     "start_time": "2021-12-28T10:47:48.824701",
     "status": "completed"
    },
    "tags": []
   },
   "outputs": [],
   "source": [
    "pipeline_lr = Pipeline([\n",
    "    ('scaler1', StandardScaler()),\n",
    "    ('pca1', PCA(n_components=3)),\n",
    "    ('lr_classifier',LogisticRegression(random_state=0))\n",
    "])"
   ]
  },
  {
   "cell_type": "code",
   "execution_count": 7,
   "id": "94675995",
   "metadata": {
    "execution": {
     "iopub.execute_input": "2021-12-28T10:47:48.871171Z",
     "iopub.status.busy": "2021-12-28T10:47:48.870606Z",
     "iopub.status.idle": "2021-12-28T10:47:48.874003Z",
     "shell.execute_reply": "2021-12-28T10:47:48.874559Z",
     "shell.execute_reply.started": "2021-12-28T10:47:17.046114Z"
    },
    "papermill": {
     "duration": 0.018615,
     "end_time": "2021-12-28T10:47:48.874717",
     "exception": false,
     "start_time": "2021-12-28T10:47:48.856102",
     "status": "completed"
    },
    "tags": []
   },
   "outputs": [],
   "source": [
    "pipeline_dt = Pipeline([\n",
    "    ('scaler2', StandardScaler()),\n",
    "    ('pca2', PCA(n_components=3)),\n",
    "    ('lr_classifier',DecisionTreeClassifier())\n",
    "])"
   ]
  },
  {
   "cell_type": "code",
   "execution_count": 8,
   "id": "921950b2",
   "metadata": {
    "execution": {
     "iopub.execute_input": "2021-12-28T10:47:48.902109Z",
     "iopub.status.busy": "2021-12-28T10:47:48.901495Z",
     "iopub.status.idle": "2021-12-28T10:47:48.904871Z",
     "shell.execute_reply": "2021-12-28T10:47:48.905379Z",
     "shell.execute_reply.started": "2021-12-28T10:47:17.059302Z"
    },
    "papermill": {
     "duration": 0.018686,
     "end_time": "2021-12-28T10:47:48.905563",
     "exception": false,
     "start_time": "2021-12-28T10:47:48.886877",
     "status": "completed"
    },
    "tags": []
   },
   "outputs": [],
   "source": [
    "pipeline_rf = Pipeline([\n",
    "    ('scaler3', StandardScaler()),\n",
    "    ('pca3', PCA(n_components=3)),\n",
    "    ('lr_classifier',RandomForestClassifier())\n",
    "])"
   ]
  },
  {
   "cell_type": "code",
   "execution_count": 9,
   "id": "711a4278",
   "metadata": {
    "execution": {
     "iopub.execute_input": "2021-12-28T10:47:48.932936Z",
     "iopub.status.busy": "2021-12-28T10:47:48.932373Z",
     "iopub.status.idle": "2021-12-28T10:47:48.935350Z",
     "shell.execute_reply": "2021-12-28T10:47:48.935827Z",
     "shell.execute_reply.started": "2021-12-28T10:47:17.069213Z"
    },
    "papermill": {
     "duration": 0.01802,
     "end_time": "2021-12-28T10:47:48.935977",
     "exception": false,
     "start_time": "2021-12-28T10:47:48.917957",
     "status": "completed"
    },
    "tags": []
   },
   "outputs": [],
   "source": [
    "# Let's make the list of pipelines\n",
    "pipelines = [pipeline_lr,pipeline_dt,pipeline_rf]"
   ]
  },
  {
   "cell_type": "code",
   "execution_count": 10,
   "id": "a0e44940",
   "metadata": {
    "execution": {
     "iopub.execute_input": "2021-12-28T10:47:48.963077Z",
     "iopub.status.busy": "2021-12-28T10:47:48.962551Z",
     "iopub.status.idle": "2021-12-28T10:47:48.965683Z",
     "shell.execute_reply": "2021-12-28T10:47:48.966203Z",
     "shell.execute_reply.started": "2021-12-28T10:47:17.079222Z"
    },
    "papermill": {
     "duration": 0.018115,
     "end_time": "2021-12-28T10:47:48.966354",
     "exception": false,
     "start_time": "2021-12-28T10:47:48.948239",
     "status": "completed"
    },
    "tags": []
   },
   "outputs": [],
   "source": [
    "best_accuracy = 0.0\n",
    "best_classifier = 0\n",
    "best_pipeline = \"\""
   ]
  },
  {
   "cell_type": "code",
   "execution_count": 11,
   "id": "e8df66e1",
   "metadata": {
    "execution": {
     "iopub.execute_input": "2021-12-28T10:47:48.993999Z",
     "iopub.status.busy": "2021-12-28T10:47:48.993391Z",
     "iopub.status.idle": "2021-12-28T10:47:48.996281Z",
     "shell.execute_reply": "2021-12-28T10:47:48.996849Z",
     "shell.execute_reply.started": "2021-12-28T10:47:17.090786Z"
    },
    "papermill": {
     "duration": 0.018561,
     "end_time": "2021-12-28T10:47:48.997010",
     "exception": false,
     "start_time": "2021-12-28T10:47:48.978449",
     "status": "completed"
    },
    "tags": []
   },
   "outputs": [],
   "source": [
    "# dictionary of pipelines and classifier types for ease of reference\n",
    "pipe_dict = {0:'Logistic Regression',1:'Decision Tree',2:'Random Forest'}"
   ]
  },
  {
   "cell_type": "code",
   "execution_count": 12,
   "id": "66e67598",
   "metadata": {
    "execution": {
     "iopub.execute_input": "2021-12-28T10:47:49.024152Z",
     "iopub.status.busy": "2021-12-28T10:47:49.023605Z",
     "iopub.status.idle": "2021-12-28T10:47:49.188623Z",
     "shell.execute_reply": "2021-12-28T10:47:49.189081Z",
     "shell.execute_reply.started": "2021-12-28T10:47:17.100395Z"
    },
    "papermill": {
     "duration": 0.180047,
     "end_time": "2021-12-28T10:47:49.189248",
     "exception": false,
     "start_time": "2021-12-28T10:47:49.009201",
     "status": "completed"
    },
    "tags": []
   },
   "outputs": [],
   "source": [
    "# fit the pipelines\n",
    "for pipe in pipelines:\n",
    "    pipe.fit(X_train,y_train)"
   ]
  },
  {
   "cell_type": "code",
   "execution_count": 13,
   "id": "c12858e8",
   "metadata": {
    "execution": {
     "iopub.execute_input": "2021-12-28T10:47:49.222881Z",
     "iopub.status.busy": "2021-12-28T10:47:49.222282Z",
     "iopub.status.idle": "2021-12-28T10:47:49.239240Z",
     "shell.execute_reply": "2021-12-28T10:47:49.238665Z",
     "shell.execute_reply.started": "2021-12-28T10:47:17.261206Z"
    },
    "papermill": {
     "duration": 0.037753,
     "end_time": "2021-12-28T10:47:49.239376",
     "exception": false,
     "start_time": "2021-12-28T10:47:49.201623",
     "status": "completed"
    },
    "tags": []
   },
   "outputs": [
    {
     "name": "stdout",
     "output_type": "stream",
     "text": [
      "Logistic Regression Test accuracy: 100.0\n",
      "Decision Tree Test accuracy: 97.0\n",
      "Random Forest Test accuracy: 100.0\n"
     ]
    }
   ],
   "source": [
    "# model accuracy\n",
    "for i,model in enumerate(pipelines):\n",
    "    print('{} Test accuracy: {}'.format(pipe_dict[i],np.round(model.score(X_test,y_test)*100),1))"
   ]
  },
  {
   "cell_type": "code",
   "execution_count": null,
   "id": "f97ddc5e",
   "metadata": {
    "papermill": {
     "duration": 0.012405,
     "end_time": "2021-12-28T10:47:49.264275",
     "exception": false,
     "start_time": "2021-12-28T10:47:49.251870",
     "status": "completed"
    },
    "tags": []
   },
   "outputs": [],
   "source": []
  }
 ],
 "metadata": {
  "kernelspec": {
   "display_name": "Python 3",
   "language": "python",
   "name": "python3"
  },
  "language_info": {
   "codemirror_mode": {
    "name": "ipython",
    "version": 3
   },
   "file_extension": ".py",
   "mimetype": "text/x-python",
   "name": "python",
   "nbconvert_exporter": "python",
   "pygments_lexer": "ipython3",
   "version": "3.7.12"
  },
  "papermill": {
   "default_parameters": {},
   "duration": 14.538818,
   "end_time": "2021-12-28T10:47:49.985945",
   "environment_variables": {},
   "exception": null,
   "input_path": "__notebook__.ipynb",
   "output_path": "__notebook__.ipynb",
   "parameters": {},
   "start_time": "2021-12-28T10:47:35.447127",
   "version": "2.3.3"
  }
 },
 "nbformat": 4,
 "nbformat_minor": 5
}
